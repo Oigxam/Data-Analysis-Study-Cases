{
  "nbformat": 4,
  "nbformat_minor": 0,
  "metadata": {
    "colab": {
      "name": "Case Study 1 - esp .ipynb",
      "provenance": [],
      "collapsed_sections": [],
      "mount_file_id": "1lFQplKDJaeuxuWqeOvCyyBi6oyumlYoA",
      "authorship_tag": "ABX9TyMxJGpVHBYdACExitzJpfCK",
      "include_colab_link": true
    },
    "kernelspec": {
      "name": "python3",
      "display_name": "Python 3"
    },
    "language_info": {
      "name": "python"
    }
  },
  "cells": [
    {
      "cell_type": "markdown",
      "metadata": {
        "id": "view-in-github",
        "colab_type": "text"
      },
      "source": [
        "<a href=\"https://colab.research.google.com/github/Oigxam/Data-Analysis-Study-Cases/blob/main/Case_Study_1_esp_.ipynb\" target=\"_parent\"><img src=\"https://colab.research.google.com/assets/colab-badge.svg\" alt=\"Open In Colab\"/></a>"
      ]
    },
    {
      "cell_type": "markdown",
      "metadata": {
        "id": "GXU6_LImv88u"
      },
      "source": [
        "# Case Study: How Does a Bike-Share Navigate Speedy Succes\n",
        "\n",
        "En este cuaderno resolveremos un caso de estudio de analisis de datos para la empresa, *Cyclistic bike-share*.\n",
        "\n",
        "Estructura del cuaderno:\n",
        "\n",
        "1. Preguntar\n",
        "2. Preparar\n",
        "3. Procesar\n",
        "4. Analizar\n",
        "5. Compartir\n",
        "6. Actuar\n",
        "\n",
        "Los cuales siguen el Roadmap de una analisis de datos por Google.\n",
        "\n",
        "Referencias: \n",
        "\n",
        "* [Caso de Estudio](https://d3c33hcgiwev3.cloudfront.net/aacF81H_TsWnBfNR_x7FIg_36299b28fa0c4a5aba836111daad12f1_DAC8-Case-Study-1.pdf?Expires=1636070400&Signature=dGPEvoMiOv1UgbMrGAycHH8nwpGTji~nXQFgZFklqBdhyXfOvUwL03ypOFsyCFJPztmHK9FzFfG-RpU711HjaIlS-lX69pESWS15-hIiuY89Y8LWsDMFA1DsZK4Vmr6JnqI03s6~ma3etffy0QQpLOoJ6mp-jmddHTV4k3QjmYY_&Key-Pair-Id=APKAJLTNE6QMUY6HBC5A)\n",
        "\n"
      ]
    },
    {
      "cell_type": "markdown",
      "metadata": {
        "id": "LqXCIPppw54j"
      },
      "source": [
        "## Preguntar\n",
        "\n",
        "Tareas Clave:\n",
        "\n",
        "1. Identificar la necesidad del negocio\n",
        "2. Identificar a las principales partes interesadas\n",
        "\n",
        "Entregables: \n",
        "\n",
        "1. Una declaración clara de la tarea de empresa.\n",
        "\n",
        "### Necesidad de negocio y partes interesadas.\n",
        "\n",
        "La principal necesidad del negocio es identificar como los miembros anuales y usauarios casuales usan las bicicletas de Cyclistic. Para posteriormente ver como podemos convertir a los usuarios casuales en usuarios anuales.\n",
        "\n",
        "Las partes interesadas son.\n",
        "\n",
        "* Ciclistic executive team\n",
        "* Lily Moreno\n",
        "\n",
        "\n"
      ]
    },
    {
      "cell_type": "markdown",
      "metadata": {
        "id": "uLhFG6TFyyfd"
      },
      "source": [
        " ## Preparar \n",
        "\n",
        " Tareas Clave:\n",
        "\n",
        " 1. Descargar los datos y guardarla de manera apropiada. (politica de almacenaje)\n",
        " 2. Identicar como estan organizados los datos\n",
        " 3. Ordenar y Filtar\n",
        " 4. Determinar la credibilidad de los datos\n",
        "\n",
        "Entregables: \n",
        "\n",
        "1. Descripción de como los recursos de datos son usados\n",
        "\n",
        "### Uso de datos\n",
        "\n",
        "Nuestros datos de los 12 meses anteriores seran guardados en 4 archivos. Uno para cada cuartil empezando en el segundo quartil del 2019. \n",
        "\n",
        "#### Politica de Almacenaje \n",
        "\n",
        "Los datos seran guardados en mi Google Drive en Mi Unidad > Cursos > Google DA > Case 1.\n",
        "\n",
        "El formato de los nombres es el siguiente.\n",
        "\n",
        "Divvy_Trips_####_Q#\n",
        "Donde \n",
        "\n",
        "* **Divvy_Trips** se refiere a la informacion de los viajes.\n",
        "* El primer **#####** Es para el año del cuartil\n",
        "* Q# Es para identificar el cuartil.\n",
        "\n",
        "De tal manera que la nomeclatura del archivo que correpsonde al cuartil 3 del año 2019 es : Divvy_Trips_2019_Q3\n",
        "\n",
        "#### Organizacion de filas y columnas\n",
        "\n",
        "Los dataset contienen las siguientes categorias organizadas en columnas y cada observacion en una fila. Con nombres similares y en algunos casos presentan otros campos.\n",
        "\n",
        "* `ride_id:` Id del usuario.\n",
        "* `rideable_type:` Se refiere al tipo de bicicleta que utilizo el usuario. Cyclistic cuenta cuenta con diferentes tipos de bicicletas y servicio de renta.\n",
        "* `started_at:` fecha y hora de inicio de la renta\n",
        "* `ended_at:` fecha y hora del final de la renta\n",
        "* `start_station_name:` Calles de la estacion de inicio\n",
        "* `star_station_id:` Id de la estacion de inicio\n",
        "* `end_station_name:` Calles de la estacion de final\n",
        "* `end_station_id:` Id de la estacion de final\n",
        "* `start_lat:` Latitud de la estacion de inicio\n",
        "* `start_lng:` Longitud de la estacion de inicio\n",
        "* `end_lat:` Latitud de la estacion de inicio\n",
        "* `end_lng:` Longitud de la estacion de final\n",
        "* `member_casual:` Tipo de miembro (miembro o casual)\n",
        "\n",
        "#### Ordenar y Filtrar\n",
        "\n",
        "Para tener un ordenamiento mejor de los datos nos conviene ordenar `start_station_id` \n",
        "\n",
        "Para poder enforcar bien nuestro analisis es conviente filtar `member_casual` \n",
        "\n",
        "#### Credibilidad\n",
        "\n",
        "Revisando los datos estos no parecen tener algun problema de credibilidad, a priori cada id de estacion tiene distintas calles y cooredenadas. De igual manera vemos que la mayoria de la bicicletas fueron usadas en periodos razonables de tiempo lo cual tambine le da credibilidad a los datos.\n",
        "\n",
        "Vemos tambien que los datos entre cada cuartil difieren entre el tipo de columnas que estan registrando de tal manera que hay que revisar libro por libro.\n",
        "\n",
        "\n",
        "\n",
        "\n"
      ]
    },
    {
      "cell_type": "markdown",
      "metadata": {
        "id": "Wd0LHMF-0vum"
      },
      "source": [
        "## Procesar\n",
        "\n",
        "Tareas Claves: \n",
        "\n",
        "1. Revisar errores en los datos\n",
        "2. Elegir las herramientas\n",
        "3. Transformar los datos para que puedan ser usados de manera correcta\n",
        "4. Documentar el proceso de limpieza de datos.\n",
        "\n",
        "Entregables: \n",
        "\n",
        "1. Documentacion de cualquier manipulación o liempiza de los datos\n",
        "\n",
        "### Manipulación y limpieza de los datos.\n",
        "\n",
        "#### 1. Errores en los datos\n",
        "\n",
        "Vemos que entre cada cuartil difiere que datos estan coleccionando de tal manera que debemos revisar cuartil por cuartil para revisar que datos se estan coleccionando. \n",
        "\n",
        "De igual manera haciendo un analisis rapido podemos ver que los datos tienen valores faltantes, columnas que no son de utilidad. \n",
        "\n",
        "### 2. Herramienta\n",
        "\n",
        "Vamos a emplear Python para la limpieza de datos y su analisis esto debido a sus distintas herramientas que nos facilitan la exploración, analisis y graficación de los datos.\n",
        "\n",
        "\n",
        "### 3. Transformar los datos para que puedan ser usados de manera correcta.\n",
        "\n",
        "Despues de revisar como se encuentran acomodados los dataframes, es necesario revisar que información contiene cada uno.\n",
        "\n"
      ]
    },
    {
      "cell_type": "markdown",
      "source": [
        "### 4. Proceso de limpieza de los datos\n",
        "\n",
        "A continuacion se explica el proceso de limpieza y manipulación que le hicimos a los datos\n",
        "\n",
        "1. Primero los cargamos los datos en 4 dataframes uno para cada cuartil y las librerias que vamos a utlizar\n"
      ],
      "metadata": {
        "id": "0zAe6ZC1llYG"
      }
    },
    {
      "cell_type": "code",
      "metadata": {
        "id": "cYi9MUIcSMkY"
      },
      "source": [
        "import pandas as pd\n",
        "import numpy as np\n",
        "\n",
        "divvy_2019_q2 = pd.read_csv('/content/drive/MyDrive/Cursos/Google DA/Case 1/Divvy_Trips_2019_Q2.csv')\n",
        "divvy_2019_q3 = pd.read_csv('/content/drive/MyDrive/Cursos/Google DA/Case 1/Divvy_Trips_2019_Q3.csv')\n",
        "divvy_2019_q4 = pd.read_csv('/content/drive/MyDrive/Cursos/Google DA/Case 1/Divvy_Trips_2019_Q4.csv')\n",
        "divvy_2020_q1 = pd.read_csv('/content/drive/MyDrive/Cursos/Google DA/Case 1/Divvy_Trips_2020_Q1.csv')"
      ],
      "execution_count": null,
      "outputs": []
    },
    {
      "cell_type": "markdown",
      "source": [
        "2. Revisamos la estructura de los data frame"
      ],
      "metadata": {
        "id": "xVFL4V-cqHiZ"
      }
    },
    {
      "cell_type": "code",
      "metadata": {
        "id": "-UDOLV8wVWmV",
        "colab": {
          "base_uri": "https://localhost:8080/",
          "height": 389
        },
        "outputId": "87663c29-24f9-4a24-b686-0bf98d8740ff"
      },
      "source": [
        "divvy_2019_q2.head()"
      ],
      "execution_count": null,
      "outputs": [
        {
          "output_type": "execute_result",
          "data": {
            "text/html": [
              "\n",
              "  <div id=\"df-2056b51a-ae49-4c79-ace9-95aa662f6af7\">\n",
              "    <div class=\"colab-df-container\">\n",
              "      <div>\n",
              "<style scoped>\n",
              "    .dataframe tbody tr th:only-of-type {\n",
              "        vertical-align: middle;\n",
              "    }\n",
              "\n",
              "    .dataframe tbody tr th {\n",
              "        vertical-align: top;\n",
              "    }\n",
              "\n",
              "    .dataframe thead th {\n",
              "        text-align: right;\n",
              "    }\n",
              "</style>\n",
              "<table border=\"1\" class=\"dataframe\">\n",
              "  <thead>\n",
              "    <tr style=\"text-align: right;\">\n",
              "      <th></th>\n",
              "      <th>01 - Rental Details Rental ID</th>\n",
              "      <th>01 - Rental Details Local Start Time</th>\n",
              "      <th>01 - Rental Details Local End Time</th>\n",
              "      <th>01 - Rental Details Bike ID</th>\n",
              "      <th>01 - Rental Details Duration In Seconds Uncapped</th>\n",
              "      <th>03 - Rental Start Station ID</th>\n",
              "      <th>03 - Rental Start Station Name</th>\n",
              "      <th>02 - Rental End Station ID</th>\n",
              "      <th>02 - Rental End Station Name</th>\n",
              "      <th>User Type</th>\n",
              "      <th>Member Gender</th>\n",
              "      <th>05 - Member Details Member Birthday Year</th>\n",
              "    </tr>\n",
              "  </thead>\n",
              "  <tbody>\n",
              "    <tr>\n",
              "      <th>0</th>\n",
              "      <td>22178529</td>\n",
              "      <td>2019-04-01 00:02:22</td>\n",
              "      <td>2019-04-01 00:09:48</td>\n",
              "      <td>6251</td>\n",
              "      <td>446.0</td>\n",
              "      <td>81</td>\n",
              "      <td>Daley Center Plaza</td>\n",
              "      <td>56</td>\n",
              "      <td>Desplaines St &amp; Kinzie St</td>\n",
              "      <td>Subscriber</td>\n",
              "      <td>Male</td>\n",
              "      <td>1975.0</td>\n",
              "    </tr>\n",
              "    <tr>\n",
              "      <th>1</th>\n",
              "      <td>22178530</td>\n",
              "      <td>2019-04-01 00:03:02</td>\n",
              "      <td>2019-04-01 00:20:30</td>\n",
              "      <td>6226</td>\n",
              "      <td>1,048.0</td>\n",
              "      <td>317</td>\n",
              "      <td>Wood St &amp; Taylor St</td>\n",
              "      <td>59</td>\n",
              "      <td>Wabash Ave &amp; Roosevelt Rd</td>\n",
              "      <td>Subscriber</td>\n",
              "      <td>Female</td>\n",
              "      <td>1984.0</td>\n",
              "    </tr>\n",
              "    <tr>\n",
              "      <th>2</th>\n",
              "      <td>22178531</td>\n",
              "      <td>2019-04-01 00:11:07</td>\n",
              "      <td>2019-04-01 00:15:19</td>\n",
              "      <td>5649</td>\n",
              "      <td>252.0</td>\n",
              "      <td>283</td>\n",
              "      <td>LaSalle St &amp; Jackson Blvd</td>\n",
              "      <td>174</td>\n",
              "      <td>Canal St &amp; Madison St</td>\n",
              "      <td>Subscriber</td>\n",
              "      <td>Male</td>\n",
              "      <td>1990.0</td>\n",
              "    </tr>\n",
              "    <tr>\n",
              "      <th>3</th>\n",
              "      <td>22178532</td>\n",
              "      <td>2019-04-01 00:13:01</td>\n",
              "      <td>2019-04-01 00:18:58</td>\n",
              "      <td>4151</td>\n",
              "      <td>357.0</td>\n",
              "      <td>26</td>\n",
              "      <td>McClurg Ct &amp; Illinois St</td>\n",
              "      <td>133</td>\n",
              "      <td>Kingsbury St &amp; Kinzie St</td>\n",
              "      <td>Subscriber</td>\n",
              "      <td>Male</td>\n",
              "      <td>1993.0</td>\n",
              "    </tr>\n",
              "    <tr>\n",
              "      <th>4</th>\n",
              "      <td>22178533</td>\n",
              "      <td>2019-04-01 00:19:26</td>\n",
              "      <td>2019-04-01 00:36:13</td>\n",
              "      <td>3270</td>\n",
              "      <td>1,007.0</td>\n",
              "      <td>202</td>\n",
              "      <td>Halsted St &amp; 18th St</td>\n",
              "      <td>129</td>\n",
              "      <td>Blue Island Ave &amp; 18th St</td>\n",
              "      <td>Subscriber</td>\n",
              "      <td>Male</td>\n",
              "      <td>1992.0</td>\n",
              "    </tr>\n",
              "  </tbody>\n",
              "</table>\n",
              "</div>\n",
              "      <button class=\"colab-df-convert\" onclick=\"convertToInteractive('df-2056b51a-ae49-4c79-ace9-95aa662f6af7')\"\n",
              "              title=\"Convert this dataframe to an interactive table.\"\n",
              "              style=\"display:none;\">\n",
              "        \n",
              "  <svg xmlns=\"http://www.w3.org/2000/svg\" height=\"24px\"viewBox=\"0 0 24 24\"\n",
              "       width=\"24px\">\n",
              "    <path d=\"M0 0h24v24H0V0z\" fill=\"none\"/>\n",
              "    <path d=\"M18.56 5.44l.94 2.06.94-2.06 2.06-.94-2.06-.94-.94-2.06-.94 2.06-2.06.94zm-11 1L8.5 8.5l.94-2.06 2.06-.94-2.06-.94L8.5 2.5l-.94 2.06-2.06.94zm10 10l.94 2.06.94-2.06 2.06-.94-2.06-.94-.94-2.06-.94 2.06-2.06.94z\"/><path d=\"M17.41 7.96l-1.37-1.37c-.4-.4-.92-.59-1.43-.59-.52 0-1.04.2-1.43.59L10.3 9.45l-7.72 7.72c-.78.78-.78 2.05 0 2.83L4 21.41c.39.39.9.59 1.41.59.51 0 1.02-.2 1.41-.59l7.78-7.78 2.81-2.81c.8-.78.8-2.07 0-2.86zM5.41 20L4 18.59l7.72-7.72 1.47 1.35L5.41 20z\"/>\n",
              "  </svg>\n",
              "      </button>\n",
              "      \n",
              "  <style>\n",
              "    .colab-df-container {\n",
              "      display:flex;\n",
              "      flex-wrap:wrap;\n",
              "      gap: 12px;\n",
              "    }\n",
              "\n",
              "    .colab-df-convert {\n",
              "      background-color: #E8F0FE;\n",
              "      border: none;\n",
              "      border-radius: 50%;\n",
              "      cursor: pointer;\n",
              "      display: none;\n",
              "      fill: #1967D2;\n",
              "      height: 32px;\n",
              "      padding: 0 0 0 0;\n",
              "      width: 32px;\n",
              "    }\n",
              "\n",
              "    .colab-df-convert:hover {\n",
              "      background-color: #E2EBFA;\n",
              "      box-shadow: 0px 1px 2px rgba(60, 64, 67, 0.3), 0px 1px 3px 1px rgba(60, 64, 67, 0.15);\n",
              "      fill: #174EA6;\n",
              "    }\n",
              "\n",
              "    [theme=dark] .colab-df-convert {\n",
              "      background-color: #3B4455;\n",
              "      fill: #D2E3FC;\n",
              "    }\n",
              "\n",
              "    [theme=dark] .colab-df-convert:hover {\n",
              "      background-color: #434B5C;\n",
              "      box-shadow: 0px 1px 3px 1px rgba(0, 0, 0, 0.15);\n",
              "      filter: drop-shadow(0px 1px 2px rgba(0, 0, 0, 0.3));\n",
              "      fill: #FFFFFF;\n",
              "    }\n",
              "  </style>\n",
              "\n",
              "      <script>\n",
              "        const buttonEl =\n",
              "          document.querySelector('#df-2056b51a-ae49-4c79-ace9-95aa662f6af7 button.colab-df-convert');\n",
              "        buttonEl.style.display =\n",
              "          google.colab.kernel.accessAllowed ? 'block' : 'none';\n",
              "\n",
              "        async function convertToInteractive(key) {\n",
              "          const element = document.querySelector('#df-2056b51a-ae49-4c79-ace9-95aa662f6af7');\n",
              "          const dataTable =\n",
              "            await google.colab.kernel.invokeFunction('convertToInteractive',\n",
              "                                                     [key], {});\n",
              "          if (!dataTable) return;\n",
              "\n",
              "          const docLinkHtml = 'Like what you see? Visit the ' +\n",
              "            '<a target=\"_blank\" href=https://colab.research.google.com/notebooks/data_table.ipynb>data table notebook</a>'\n",
              "            + ' to learn more about interactive tables.';\n",
              "          element.innerHTML = '';\n",
              "          dataTable['output_type'] = 'display_data';\n",
              "          await google.colab.output.renderOutput(dataTable, element);\n",
              "          const docLink = document.createElement('div');\n",
              "          docLink.innerHTML = docLinkHtml;\n",
              "          element.appendChild(docLink);\n",
              "        }\n",
              "      </script>\n",
              "    </div>\n",
              "  </div>\n",
              "  "
            ],
            "text/plain": [
              "   01 - Rental Details Rental ID  ... 05 - Member Details Member Birthday Year\n",
              "0                       22178529  ...                                   1975.0\n",
              "1                       22178530  ...                                   1984.0\n",
              "2                       22178531  ...                                   1990.0\n",
              "3                       22178532  ...                                   1993.0\n",
              "4                       22178533  ...                                   1992.0\n",
              "\n",
              "[5 rows x 12 columns]"
            ]
          },
          "metadata": {},
          "execution_count": 2
        }
      ]
    },
    {
      "cell_type": "code",
      "source": [
        "divvy_2019_q3.head()"
      ],
      "metadata": {
        "colab": {
          "base_uri": "https://localhost:8080/",
          "height": 250
        },
        "id": "QvE0ZEaiXarR",
        "outputId": "55cd1a28-a748-4d5c-dac2-fefdc701e60f"
      },
      "execution_count": null,
      "outputs": [
        {
          "output_type": "execute_result",
          "data": {
            "text/html": [
              "\n",
              "  <div id=\"df-b7e6c8ee-2578-4002-8d39-a5c6fc68ed1b\">\n",
              "    <div class=\"colab-df-container\">\n",
              "      <div>\n",
              "<style scoped>\n",
              "    .dataframe tbody tr th:only-of-type {\n",
              "        vertical-align: middle;\n",
              "    }\n",
              "\n",
              "    .dataframe tbody tr th {\n",
              "        vertical-align: top;\n",
              "    }\n",
              "\n",
              "    .dataframe thead th {\n",
              "        text-align: right;\n",
              "    }\n",
              "</style>\n",
              "<table border=\"1\" class=\"dataframe\">\n",
              "  <thead>\n",
              "    <tr style=\"text-align: right;\">\n",
              "      <th></th>\n",
              "      <th>trip_id</th>\n",
              "      <th>start_time</th>\n",
              "      <th>end_time</th>\n",
              "      <th>bikeid</th>\n",
              "      <th>tripduration</th>\n",
              "      <th>from_station_id</th>\n",
              "      <th>from_station_name</th>\n",
              "      <th>to_station_id</th>\n",
              "      <th>to_station_name</th>\n",
              "      <th>usertype</th>\n",
              "      <th>gender</th>\n",
              "      <th>birthyear</th>\n",
              "    </tr>\n",
              "  </thead>\n",
              "  <tbody>\n",
              "    <tr>\n",
              "      <th>0</th>\n",
              "      <td>23479388</td>\n",
              "      <td>2019-07-01 00:00:27</td>\n",
              "      <td>2019-07-01 00:20:41</td>\n",
              "      <td>3591</td>\n",
              "      <td>1,214.0</td>\n",
              "      <td>117</td>\n",
              "      <td>Wilton Ave &amp; Belmont Ave</td>\n",
              "      <td>497</td>\n",
              "      <td>Kimball Ave &amp; Belmont Ave</td>\n",
              "      <td>Subscriber</td>\n",
              "      <td>Male</td>\n",
              "      <td>1992.0</td>\n",
              "    </tr>\n",
              "    <tr>\n",
              "      <th>1</th>\n",
              "      <td>23479389</td>\n",
              "      <td>2019-07-01 00:01:16</td>\n",
              "      <td>2019-07-01 00:18:44</td>\n",
              "      <td>5353</td>\n",
              "      <td>1,048.0</td>\n",
              "      <td>381</td>\n",
              "      <td>Western Ave &amp; Monroe St</td>\n",
              "      <td>203</td>\n",
              "      <td>Western Ave &amp; 21st St</td>\n",
              "      <td>Customer</td>\n",
              "      <td>NaN</td>\n",
              "      <td>NaN</td>\n",
              "    </tr>\n",
              "    <tr>\n",
              "      <th>2</th>\n",
              "      <td>23479390</td>\n",
              "      <td>2019-07-01 00:01:48</td>\n",
              "      <td>2019-07-01 00:27:42</td>\n",
              "      <td>6180</td>\n",
              "      <td>1,554.0</td>\n",
              "      <td>313</td>\n",
              "      <td>Lakeview Ave &amp; Fullerton Pkwy</td>\n",
              "      <td>144</td>\n",
              "      <td>Larrabee St &amp; Webster Ave</td>\n",
              "      <td>Customer</td>\n",
              "      <td>NaN</td>\n",
              "      <td>NaN</td>\n",
              "    </tr>\n",
              "    <tr>\n",
              "      <th>3</th>\n",
              "      <td>23479391</td>\n",
              "      <td>2019-07-01 00:02:07</td>\n",
              "      <td>2019-07-01 00:27:10</td>\n",
              "      <td>5540</td>\n",
              "      <td>1,503.0</td>\n",
              "      <td>313</td>\n",
              "      <td>Lakeview Ave &amp; Fullerton Pkwy</td>\n",
              "      <td>144</td>\n",
              "      <td>Larrabee St &amp; Webster Ave</td>\n",
              "      <td>Customer</td>\n",
              "      <td>NaN</td>\n",
              "      <td>NaN</td>\n",
              "    </tr>\n",
              "    <tr>\n",
              "      <th>4</th>\n",
              "      <td>23479392</td>\n",
              "      <td>2019-07-01 00:02:13</td>\n",
              "      <td>2019-07-01 00:22:26</td>\n",
              "      <td>6014</td>\n",
              "      <td>1,213.0</td>\n",
              "      <td>168</td>\n",
              "      <td>Michigan Ave &amp; 14th St</td>\n",
              "      <td>62</td>\n",
              "      <td>McCormick Place</td>\n",
              "      <td>Customer</td>\n",
              "      <td>NaN</td>\n",
              "      <td>NaN</td>\n",
              "    </tr>\n",
              "  </tbody>\n",
              "</table>\n",
              "</div>\n",
              "      <button class=\"colab-df-convert\" onclick=\"convertToInteractive('df-b7e6c8ee-2578-4002-8d39-a5c6fc68ed1b')\"\n",
              "              title=\"Convert this dataframe to an interactive table.\"\n",
              "              style=\"display:none;\">\n",
              "        \n",
              "  <svg xmlns=\"http://www.w3.org/2000/svg\" height=\"24px\"viewBox=\"0 0 24 24\"\n",
              "       width=\"24px\">\n",
              "    <path d=\"M0 0h24v24H0V0z\" fill=\"none\"/>\n",
              "    <path d=\"M18.56 5.44l.94 2.06.94-2.06 2.06-.94-2.06-.94-.94-2.06-.94 2.06-2.06.94zm-11 1L8.5 8.5l.94-2.06 2.06-.94-2.06-.94L8.5 2.5l-.94 2.06-2.06.94zm10 10l.94 2.06.94-2.06 2.06-.94-2.06-.94-.94-2.06-.94 2.06-2.06.94z\"/><path d=\"M17.41 7.96l-1.37-1.37c-.4-.4-.92-.59-1.43-.59-.52 0-1.04.2-1.43.59L10.3 9.45l-7.72 7.72c-.78.78-.78 2.05 0 2.83L4 21.41c.39.39.9.59 1.41.59.51 0 1.02-.2 1.41-.59l7.78-7.78 2.81-2.81c.8-.78.8-2.07 0-2.86zM5.41 20L4 18.59l7.72-7.72 1.47 1.35L5.41 20z\"/>\n",
              "  </svg>\n",
              "      </button>\n",
              "      \n",
              "  <style>\n",
              "    .colab-df-container {\n",
              "      display:flex;\n",
              "      flex-wrap:wrap;\n",
              "      gap: 12px;\n",
              "    }\n",
              "\n",
              "    .colab-df-convert {\n",
              "      background-color: #E8F0FE;\n",
              "      border: none;\n",
              "      border-radius: 50%;\n",
              "      cursor: pointer;\n",
              "      display: none;\n",
              "      fill: #1967D2;\n",
              "      height: 32px;\n",
              "      padding: 0 0 0 0;\n",
              "      width: 32px;\n",
              "    }\n",
              "\n",
              "    .colab-df-convert:hover {\n",
              "      background-color: #E2EBFA;\n",
              "      box-shadow: 0px 1px 2px rgba(60, 64, 67, 0.3), 0px 1px 3px 1px rgba(60, 64, 67, 0.15);\n",
              "      fill: #174EA6;\n",
              "    }\n",
              "\n",
              "    [theme=dark] .colab-df-convert {\n",
              "      background-color: #3B4455;\n",
              "      fill: #D2E3FC;\n",
              "    }\n",
              "\n",
              "    [theme=dark] .colab-df-convert:hover {\n",
              "      background-color: #434B5C;\n",
              "      box-shadow: 0px 1px 3px 1px rgba(0, 0, 0, 0.15);\n",
              "      filter: drop-shadow(0px 1px 2px rgba(0, 0, 0, 0.3));\n",
              "      fill: #FFFFFF;\n",
              "    }\n",
              "  </style>\n",
              "\n",
              "      <script>\n",
              "        const buttonEl =\n",
              "          document.querySelector('#df-b7e6c8ee-2578-4002-8d39-a5c6fc68ed1b button.colab-df-convert');\n",
              "        buttonEl.style.display =\n",
              "          google.colab.kernel.accessAllowed ? 'block' : 'none';\n",
              "\n",
              "        async function convertToInteractive(key) {\n",
              "          const element = document.querySelector('#df-b7e6c8ee-2578-4002-8d39-a5c6fc68ed1b');\n",
              "          const dataTable =\n",
              "            await google.colab.kernel.invokeFunction('convertToInteractive',\n",
              "                                                     [key], {});\n",
              "          if (!dataTable) return;\n",
              "\n",
              "          const docLinkHtml = 'Like what you see? Visit the ' +\n",
              "            '<a target=\"_blank\" href=https://colab.research.google.com/notebooks/data_table.ipynb>data table notebook</a>'\n",
              "            + ' to learn more about interactive tables.';\n",
              "          element.innerHTML = '';\n",
              "          dataTable['output_type'] = 'display_data';\n",
              "          await google.colab.output.renderOutput(dataTable, element);\n",
              "          const docLink = document.createElement('div');\n",
              "          docLink.innerHTML = docLinkHtml;\n",
              "          element.appendChild(docLink);\n",
              "        }\n",
              "      </script>\n",
              "    </div>\n",
              "  </div>\n",
              "  "
            ],
            "text/plain": [
              "    trip_id           start_time  ... gender  birthyear\n",
              "0  23479388  2019-07-01 00:00:27  ...   Male     1992.0\n",
              "1  23479389  2019-07-01 00:01:16  ...    NaN        NaN\n",
              "2  23479390  2019-07-01 00:01:48  ...    NaN        NaN\n",
              "3  23479391  2019-07-01 00:02:07  ...    NaN        NaN\n",
              "4  23479392  2019-07-01 00:02:13  ...    NaN        NaN\n",
              "\n",
              "[5 rows x 12 columns]"
            ]
          },
          "metadata": {},
          "execution_count": 3
        }
      ]
    },
    {
      "cell_type": "code",
      "source": [
        "divvy_2019_q4.head()"
      ],
      "metadata": {
        "colab": {
          "base_uri": "https://localhost:8080/",
          "height": 337
        },
        "id": "18qR0GfKXjbG",
        "outputId": "4c0dfe63-2d21-4a53-ca57-4bd8108b8538"
      },
      "execution_count": null,
      "outputs": [
        {
          "output_type": "execute_result",
          "data": {
            "text/html": [
              "\n",
              "  <div id=\"df-d690514f-45c9-4b78-8f31-20a399fc3017\">\n",
              "    <div class=\"colab-df-container\">\n",
              "      <div>\n",
              "<style scoped>\n",
              "    .dataframe tbody tr th:only-of-type {\n",
              "        vertical-align: middle;\n",
              "    }\n",
              "\n",
              "    .dataframe tbody tr th {\n",
              "        vertical-align: top;\n",
              "    }\n",
              "\n",
              "    .dataframe thead th {\n",
              "        text-align: right;\n",
              "    }\n",
              "</style>\n",
              "<table border=\"1\" class=\"dataframe\">\n",
              "  <thead>\n",
              "    <tr style=\"text-align: right;\">\n",
              "      <th></th>\n",
              "      <th>trip_id</th>\n",
              "      <th>start_time</th>\n",
              "      <th>end_time</th>\n",
              "      <th>bikeid</th>\n",
              "      <th>tripduration</th>\n",
              "      <th>from_station_id</th>\n",
              "      <th>from_station_name</th>\n",
              "      <th>to_station_id</th>\n",
              "      <th>to_station_name</th>\n",
              "      <th>usertype</th>\n",
              "      <th>gender</th>\n",
              "      <th>birthyear</th>\n",
              "    </tr>\n",
              "  </thead>\n",
              "  <tbody>\n",
              "    <tr>\n",
              "      <th>0</th>\n",
              "      <td>25223640</td>\n",
              "      <td>2019-10-01 00:01:39</td>\n",
              "      <td>2019-10-01 00:17:20</td>\n",
              "      <td>2215</td>\n",
              "      <td>940.0</td>\n",
              "      <td>20</td>\n",
              "      <td>Sheffield Ave &amp; Kingsbury St</td>\n",
              "      <td>309</td>\n",
              "      <td>Leavitt St &amp; Armitage Ave</td>\n",
              "      <td>Subscriber</td>\n",
              "      <td>Male</td>\n",
              "      <td>1987.0</td>\n",
              "    </tr>\n",
              "    <tr>\n",
              "      <th>1</th>\n",
              "      <td>25223641</td>\n",
              "      <td>2019-10-01 00:02:16</td>\n",
              "      <td>2019-10-01 00:06:34</td>\n",
              "      <td>6328</td>\n",
              "      <td>258.0</td>\n",
              "      <td>19</td>\n",
              "      <td>Throop (Loomis) St &amp; Taylor St</td>\n",
              "      <td>241</td>\n",
              "      <td>Morgan St &amp; Polk St</td>\n",
              "      <td>Subscriber</td>\n",
              "      <td>Male</td>\n",
              "      <td>1998.0</td>\n",
              "    </tr>\n",
              "    <tr>\n",
              "      <th>2</th>\n",
              "      <td>25223642</td>\n",
              "      <td>2019-10-01 00:04:32</td>\n",
              "      <td>2019-10-01 00:18:43</td>\n",
              "      <td>3003</td>\n",
              "      <td>850.0</td>\n",
              "      <td>84</td>\n",
              "      <td>Milwaukee Ave &amp; Grand Ave</td>\n",
              "      <td>199</td>\n",
              "      <td>Wabash Ave &amp; Grand Ave</td>\n",
              "      <td>Subscriber</td>\n",
              "      <td>Female</td>\n",
              "      <td>1991.0</td>\n",
              "    </tr>\n",
              "    <tr>\n",
              "      <th>3</th>\n",
              "      <td>25223643</td>\n",
              "      <td>2019-10-01 00:04:32</td>\n",
              "      <td>2019-10-01 00:43:43</td>\n",
              "      <td>3275</td>\n",
              "      <td>2,350.0</td>\n",
              "      <td>313</td>\n",
              "      <td>Lakeview Ave &amp; Fullerton Pkwy</td>\n",
              "      <td>290</td>\n",
              "      <td>Kedzie Ave &amp; Palmer Ct</td>\n",
              "      <td>Subscriber</td>\n",
              "      <td>Male</td>\n",
              "      <td>1990.0</td>\n",
              "    </tr>\n",
              "    <tr>\n",
              "      <th>4</th>\n",
              "      <td>25223644</td>\n",
              "      <td>2019-10-01 00:04:34</td>\n",
              "      <td>2019-10-01 00:35:42</td>\n",
              "      <td>5294</td>\n",
              "      <td>1,867.0</td>\n",
              "      <td>210</td>\n",
              "      <td>Ashland Ave &amp; Division St</td>\n",
              "      <td>382</td>\n",
              "      <td>Western Ave &amp; Congress Pkwy</td>\n",
              "      <td>Subscriber</td>\n",
              "      <td>Male</td>\n",
              "      <td>1987.0</td>\n",
              "    </tr>\n",
              "  </tbody>\n",
              "</table>\n",
              "</div>\n",
              "      <button class=\"colab-df-convert\" onclick=\"convertToInteractive('df-d690514f-45c9-4b78-8f31-20a399fc3017')\"\n",
              "              title=\"Convert this dataframe to an interactive table.\"\n",
              "              style=\"display:none;\">\n",
              "        \n",
              "  <svg xmlns=\"http://www.w3.org/2000/svg\" height=\"24px\"viewBox=\"0 0 24 24\"\n",
              "       width=\"24px\">\n",
              "    <path d=\"M0 0h24v24H0V0z\" fill=\"none\"/>\n",
              "    <path d=\"M18.56 5.44l.94 2.06.94-2.06 2.06-.94-2.06-.94-.94-2.06-.94 2.06-2.06.94zm-11 1L8.5 8.5l.94-2.06 2.06-.94-2.06-.94L8.5 2.5l-.94 2.06-2.06.94zm10 10l.94 2.06.94-2.06 2.06-.94-2.06-.94-.94-2.06-.94 2.06-2.06.94z\"/><path d=\"M17.41 7.96l-1.37-1.37c-.4-.4-.92-.59-1.43-.59-.52 0-1.04.2-1.43.59L10.3 9.45l-7.72 7.72c-.78.78-.78 2.05 0 2.83L4 21.41c.39.39.9.59 1.41.59.51 0 1.02-.2 1.41-.59l7.78-7.78 2.81-2.81c.8-.78.8-2.07 0-2.86zM5.41 20L4 18.59l7.72-7.72 1.47 1.35L5.41 20z\"/>\n",
              "  </svg>\n",
              "      </button>\n",
              "      \n",
              "  <style>\n",
              "    .colab-df-container {\n",
              "      display:flex;\n",
              "      flex-wrap:wrap;\n",
              "      gap: 12px;\n",
              "    }\n",
              "\n",
              "    .colab-df-convert {\n",
              "      background-color: #E8F0FE;\n",
              "      border: none;\n",
              "      border-radius: 50%;\n",
              "      cursor: pointer;\n",
              "      display: none;\n",
              "      fill: #1967D2;\n",
              "      height: 32px;\n",
              "      padding: 0 0 0 0;\n",
              "      width: 32px;\n",
              "    }\n",
              "\n",
              "    .colab-df-convert:hover {\n",
              "      background-color: #E2EBFA;\n",
              "      box-shadow: 0px 1px 2px rgba(60, 64, 67, 0.3), 0px 1px 3px 1px rgba(60, 64, 67, 0.15);\n",
              "      fill: #174EA6;\n",
              "    }\n",
              "\n",
              "    [theme=dark] .colab-df-convert {\n",
              "      background-color: #3B4455;\n",
              "      fill: #D2E3FC;\n",
              "    }\n",
              "\n",
              "    [theme=dark] .colab-df-convert:hover {\n",
              "      background-color: #434B5C;\n",
              "      box-shadow: 0px 1px 3px 1px rgba(0, 0, 0, 0.15);\n",
              "      filter: drop-shadow(0px 1px 2px rgba(0, 0, 0, 0.3));\n",
              "      fill: #FFFFFF;\n",
              "    }\n",
              "  </style>\n",
              "\n",
              "      <script>\n",
              "        const buttonEl =\n",
              "          document.querySelector('#df-d690514f-45c9-4b78-8f31-20a399fc3017 button.colab-df-convert');\n",
              "        buttonEl.style.display =\n",
              "          google.colab.kernel.accessAllowed ? 'block' : 'none';\n",
              "\n",
              "        async function convertToInteractive(key) {\n",
              "          const element = document.querySelector('#df-d690514f-45c9-4b78-8f31-20a399fc3017');\n",
              "          const dataTable =\n",
              "            await google.colab.kernel.invokeFunction('convertToInteractive',\n",
              "                                                     [key], {});\n",
              "          if (!dataTable) return;\n",
              "\n",
              "          const docLinkHtml = 'Like what you see? Visit the ' +\n",
              "            '<a target=\"_blank\" href=https://colab.research.google.com/notebooks/data_table.ipynb>data table notebook</a>'\n",
              "            + ' to learn more about interactive tables.';\n",
              "          element.innerHTML = '';\n",
              "          dataTable['output_type'] = 'display_data';\n",
              "          await google.colab.output.renderOutput(dataTable, element);\n",
              "          const docLink = document.createElement('div');\n",
              "          docLink.innerHTML = docLinkHtml;\n",
              "          element.appendChild(docLink);\n",
              "        }\n",
              "      </script>\n",
              "    </div>\n",
              "  </div>\n",
              "  "
            ],
            "text/plain": [
              "    trip_id           start_time  ...  gender  birthyear\n",
              "0  25223640  2019-10-01 00:01:39  ...    Male     1987.0\n",
              "1  25223641  2019-10-01 00:02:16  ...    Male     1998.0\n",
              "2  25223642  2019-10-01 00:04:32  ...  Female     1991.0\n",
              "3  25223643  2019-10-01 00:04:32  ...    Male     1990.0\n",
              "4  25223644  2019-10-01 00:04:34  ...    Male     1987.0\n",
              "\n",
              "[5 rows x 12 columns]"
            ]
          },
          "metadata": {},
          "execution_count": 4
        }
      ]
    },
    {
      "cell_type": "code",
      "source": [
        "divvy_2020_q1.head()"
      ],
      "metadata": {
        "colab": {
          "base_uri": "https://localhost:8080/",
          "height": 444
        },
        "id": "BOnVlQklXlmY",
        "outputId": "bf5c8ad5-f823-4bc7-9f6c-a76587924ee3"
      },
      "execution_count": null,
      "outputs": [
        {
          "output_type": "execute_result",
          "data": {
            "text/html": [
              "\n",
              "  <div id=\"df-b6922ec8-d3b6-4a45-8fd9-0ee9ae559e97\">\n",
              "    <div class=\"colab-df-container\">\n",
              "      <div>\n",
              "<style scoped>\n",
              "    .dataframe tbody tr th:only-of-type {\n",
              "        vertical-align: middle;\n",
              "    }\n",
              "\n",
              "    .dataframe tbody tr th {\n",
              "        vertical-align: top;\n",
              "    }\n",
              "\n",
              "    .dataframe thead th {\n",
              "        text-align: right;\n",
              "    }\n",
              "</style>\n",
              "<table border=\"1\" class=\"dataframe\">\n",
              "  <thead>\n",
              "    <tr style=\"text-align: right;\">\n",
              "      <th></th>\n",
              "      <th>ride_id</th>\n",
              "      <th>rideable_type</th>\n",
              "      <th>started_at</th>\n",
              "      <th>ended_at</th>\n",
              "      <th>start_station_name</th>\n",
              "      <th>start_station_id</th>\n",
              "      <th>end_station_name</th>\n",
              "      <th>end_station_id</th>\n",
              "      <th>start_lat</th>\n",
              "      <th>start_lng</th>\n",
              "      <th>end_lat</th>\n",
              "      <th>end_lng</th>\n",
              "      <th>member_casual</th>\n",
              "    </tr>\n",
              "  </thead>\n",
              "  <tbody>\n",
              "    <tr>\n",
              "      <th>0</th>\n",
              "      <td>EACB19130B0CDA4A</td>\n",
              "      <td>docked_bike</td>\n",
              "      <td>2020-01-21 20:06:59</td>\n",
              "      <td>2020-01-21 20:14:30</td>\n",
              "      <td>Western Ave &amp; Leland Ave</td>\n",
              "      <td>239</td>\n",
              "      <td>Clark St &amp; Leland Ave</td>\n",
              "      <td>326.0</td>\n",
              "      <td>41.9665</td>\n",
              "      <td>-87.6884</td>\n",
              "      <td>41.9671</td>\n",
              "      <td>-87.6674</td>\n",
              "      <td>member</td>\n",
              "    </tr>\n",
              "    <tr>\n",
              "      <th>1</th>\n",
              "      <td>8FED874C809DC021</td>\n",
              "      <td>docked_bike</td>\n",
              "      <td>2020-01-30 14:22:39</td>\n",
              "      <td>2020-01-30 14:26:22</td>\n",
              "      <td>Clark St &amp; Montrose Ave</td>\n",
              "      <td>234</td>\n",
              "      <td>Southport Ave &amp; Irving Park Rd</td>\n",
              "      <td>318.0</td>\n",
              "      <td>41.9616</td>\n",
              "      <td>-87.6660</td>\n",
              "      <td>41.9542</td>\n",
              "      <td>-87.6644</td>\n",
              "      <td>member</td>\n",
              "    </tr>\n",
              "    <tr>\n",
              "      <th>2</th>\n",
              "      <td>789F3C21E472CA96</td>\n",
              "      <td>docked_bike</td>\n",
              "      <td>2020-01-09 19:29:26</td>\n",
              "      <td>2020-01-09 19:32:17</td>\n",
              "      <td>Broadway &amp; Belmont Ave</td>\n",
              "      <td>296</td>\n",
              "      <td>Wilton Ave &amp; Belmont Ave</td>\n",
              "      <td>117.0</td>\n",
              "      <td>41.9401</td>\n",
              "      <td>-87.6455</td>\n",
              "      <td>41.9402</td>\n",
              "      <td>-87.6530</td>\n",
              "      <td>member</td>\n",
              "    </tr>\n",
              "    <tr>\n",
              "      <th>3</th>\n",
              "      <td>C9A388DAC6ABF313</td>\n",
              "      <td>docked_bike</td>\n",
              "      <td>2020-01-06 16:17:07</td>\n",
              "      <td>2020-01-06 16:25:56</td>\n",
              "      <td>Clark St &amp; Randolph St</td>\n",
              "      <td>51</td>\n",
              "      <td>Fairbanks Ct &amp; Grand Ave</td>\n",
              "      <td>24.0</td>\n",
              "      <td>41.8846</td>\n",
              "      <td>-87.6319</td>\n",
              "      <td>41.8918</td>\n",
              "      <td>-87.6206</td>\n",
              "      <td>member</td>\n",
              "    </tr>\n",
              "    <tr>\n",
              "      <th>4</th>\n",
              "      <td>943BC3CBECCFD662</td>\n",
              "      <td>docked_bike</td>\n",
              "      <td>2020-01-30 08:37:16</td>\n",
              "      <td>2020-01-30 08:42:48</td>\n",
              "      <td>Clinton St &amp; Lake St</td>\n",
              "      <td>66</td>\n",
              "      <td>Wells St &amp; Hubbard St</td>\n",
              "      <td>212.0</td>\n",
              "      <td>41.8856</td>\n",
              "      <td>-87.6418</td>\n",
              "      <td>41.8899</td>\n",
              "      <td>-87.6343</td>\n",
              "      <td>member</td>\n",
              "    </tr>\n",
              "  </tbody>\n",
              "</table>\n",
              "</div>\n",
              "      <button class=\"colab-df-convert\" onclick=\"convertToInteractive('df-b6922ec8-d3b6-4a45-8fd9-0ee9ae559e97')\"\n",
              "              title=\"Convert this dataframe to an interactive table.\"\n",
              "              style=\"display:none;\">\n",
              "        \n",
              "  <svg xmlns=\"http://www.w3.org/2000/svg\" height=\"24px\"viewBox=\"0 0 24 24\"\n",
              "       width=\"24px\">\n",
              "    <path d=\"M0 0h24v24H0V0z\" fill=\"none\"/>\n",
              "    <path d=\"M18.56 5.44l.94 2.06.94-2.06 2.06-.94-2.06-.94-.94-2.06-.94 2.06-2.06.94zm-11 1L8.5 8.5l.94-2.06 2.06-.94-2.06-.94L8.5 2.5l-.94 2.06-2.06.94zm10 10l.94 2.06.94-2.06 2.06-.94-2.06-.94-.94-2.06-.94 2.06-2.06.94z\"/><path d=\"M17.41 7.96l-1.37-1.37c-.4-.4-.92-.59-1.43-.59-.52 0-1.04.2-1.43.59L10.3 9.45l-7.72 7.72c-.78.78-.78 2.05 0 2.83L4 21.41c.39.39.9.59 1.41.59.51 0 1.02-.2 1.41-.59l7.78-7.78 2.81-2.81c.8-.78.8-2.07 0-2.86zM5.41 20L4 18.59l7.72-7.72 1.47 1.35L5.41 20z\"/>\n",
              "  </svg>\n",
              "      </button>\n",
              "      \n",
              "  <style>\n",
              "    .colab-df-container {\n",
              "      display:flex;\n",
              "      flex-wrap:wrap;\n",
              "      gap: 12px;\n",
              "    }\n",
              "\n",
              "    .colab-df-convert {\n",
              "      background-color: #E8F0FE;\n",
              "      border: none;\n",
              "      border-radius: 50%;\n",
              "      cursor: pointer;\n",
              "      display: none;\n",
              "      fill: #1967D2;\n",
              "      height: 32px;\n",
              "      padding: 0 0 0 0;\n",
              "      width: 32px;\n",
              "    }\n",
              "\n",
              "    .colab-df-convert:hover {\n",
              "      background-color: #E2EBFA;\n",
              "      box-shadow: 0px 1px 2px rgba(60, 64, 67, 0.3), 0px 1px 3px 1px rgba(60, 64, 67, 0.15);\n",
              "      fill: #174EA6;\n",
              "    }\n",
              "\n",
              "    [theme=dark] .colab-df-convert {\n",
              "      background-color: #3B4455;\n",
              "      fill: #D2E3FC;\n",
              "    }\n",
              "\n",
              "    [theme=dark] .colab-df-convert:hover {\n",
              "      background-color: #434B5C;\n",
              "      box-shadow: 0px 1px 3px 1px rgba(0, 0, 0, 0.15);\n",
              "      filter: drop-shadow(0px 1px 2px rgba(0, 0, 0, 0.3));\n",
              "      fill: #FFFFFF;\n",
              "    }\n",
              "  </style>\n",
              "\n",
              "      <script>\n",
              "        const buttonEl =\n",
              "          document.querySelector('#df-b6922ec8-d3b6-4a45-8fd9-0ee9ae559e97 button.colab-df-convert');\n",
              "        buttonEl.style.display =\n",
              "          google.colab.kernel.accessAllowed ? 'block' : 'none';\n",
              "\n",
              "        async function convertToInteractive(key) {\n",
              "          const element = document.querySelector('#df-b6922ec8-d3b6-4a45-8fd9-0ee9ae559e97');\n",
              "          const dataTable =\n",
              "            await google.colab.kernel.invokeFunction('convertToInteractive',\n",
              "                                                     [key], {});\n",
              "          if (!dataTable) return;\n",
              "\n",
              "          const docLinkHtml = 'Like what you see? Visit the ' +\n",
              "            '<a target=\"_blank\" href=https://colab.research.google.com/notebooks/data_table.ipynb>data table notebook</a>'\n",
              "            + ' to learn more about interactive tables.';\n",
              "          element.innerHTML = '';\n",
              "          dataTable['output_type'] = 'display_data';\n",
              "          await google.colab.output.renderOutput(dataTable, element);\n",
              "          const docLink = document.createElement('div');\n",
              "          docLink.innerHTML = docLinkHtml;\n",
              "          element.appendChild(docLink);\n",
              "        }\n",
              "      </script>\n",
              "    </div>\n",
              "  </div>\n",
              "  "
            ],
            "text/plain": [
              "            ride_id rideable_type  ...  end_lng member_casual\n",
              "0  EACB19130B0CDA4A   docked_bike  ... -87.6674        member\n",
              "1  8FED874C809DC021   docked_bike  ... -87.6644        member\n",
              "2  789F3C21E472CA96   docked_bike  ... -87.6530        member\n",
              "3  C9A388DAC6ABF313   docked_bike  ... -87.6206        member\n",
              "4  943BC3CBECCFD662   docked_bike  ... -87.6343        member\n",
              "\n",
              "[5 rows x 13 columns]"
            ]
          },
          "metadata": {},
          "execution_count": 5
        }
      ]
    },
    {
      "cell_type": "markdown",
      "source": [
        "3. Revisamos si `ride id` es unico por usuario debido a que no se nos dan ID de usuarios."
      ],
      "metadata": {
        "id": "qwGX7m39qlT3"
      }
    },
    {
      "cell_type": "code",
      "source": [
        "divvy_2019_q2.duplicated(subset=['01 - Rental Details Rental ID']).value_counts()"
      ],
      "metadata": {
        "colab": {
          "base_uri": "https://localhost:8080/"
        },
        "id": "7fjmQ06OjONP",
        "outputId": "c46e2e56-fc80-4dff-900b-9ad72f9102ed"
      },
      "execution_count": null,
      "outputs": [
        {
          "output_type": "execute_result",
          "data": {
            "text/plain": [
              "False    1108163\n",
              "dtype: int64"
            ]
          },
          "metadata": {},
          "execution_count": 6
        }
      ]
    },
    {
      "cell_type": "markdown",
      "source": [
        "4. Vemos que no es unico de tal manera que no sirve para nuestro analisis y la podemos remover en todos los cuartiles de igual manera removemos `trip id` "
      ],
      "metadata": {
        "id": "1qn68a62rGWP"
      }
    },
    {
      "cell_type": "code",
      "source": [
        "divvy_2019_q2 = divvy_2019_q2.drop(['01 - Rental Details Rental ID','01 - Rental Details Bike ID'], axis=1)\n",
        "divvy_2019_q3=divvy_2019_q3.drop(['trip_id','bikeid'], axis=1)\n",
        "divvy_2019_q4=divvy_2019_q4.drop(['trip_id','bikeid'], axis=1)\n",
        "divvy_2020_q1=divvy_2020_q1.drop(['ride_id','rideable_type'], axis=1)"
      ],
      "metadata": {
        "id": "rNacMJFtYJfn"
      },
      "execution_count": null,
      "outputs": []
    },
    {
      "cell_type": "markdown",
      "source": [
        "Los 3 cuartiles del 2019 cuentan con la informacion de `genero` y `año de nacimiento` y el primer cuartil del 2020 no. De tal manera que podriamos descartar estas dos columnas de los cuartiles del 2019. Pero de igual manera vemos que los 3 cuartiles del 2019 no cuentan con información de las coordenadas de los viajes, imposibilitando el calculo de la distancia. \n",
        "\n",
        "Una solución que se me ocurrio era con el id de la stacion asignar las cordenadas de los cuartiles del 2020 al de los 2019 pero esto se imposibilita debido a que no contamos con un mapeo claro en el cuartil1 del 202 entre los id y las coordenadas. \n",
        "\n",
        "De tal manera que entre los datos en los distintos años es dificil obtener toda la información y hacer un analisis completo de tal manera que realizaremos 2 analsis uno para los cuartiles del 2019 y uno para el de 2020\n",
        "\n",
        "De igual manera podriamos cargar el cuartil 1 al 2019 para tener todo un año de información. Cosa que no realizaremos en este analisis\n",
        "\n",
        "5. Renombramos las columnas para que considan y sea mas claro a que corresponden"
      ],
      "metadata": {
        "id": "zTOiTztgr51e"
      }
    },
    {
      "cell_type": "code",
      "source": [
        "divvy_2019_q2= divvy_2019_q2.rename(columns={'01 - Rental Details Local Start Time': 'start_time', '01 - Rental Details Local End Time': 'end_time', '01 - Rental Details Duration In Seconds Uncapped' : 'tripduration',\n",
        "                              '03 - Rental Start Station ID' : 'from_station_id', '03 - Rental Start Station Name': 'from_station_name', '02 - Rental End Station ID': 'to_station_id',\n",
        "                              '02 - Rental End Station Name':'to_station_name', 'User Type' :  'usertype', 'Member Gender': 'gender', '05 - Member Details Member Birthday Year'\n",
        "                              : 'birthyear' })\n",
        "divvy_2020_q1= divvy_2020_q1.rename(columns={'started_at': 'start_time', 'ended_at': 'end_time',\n",
        "                              'start_station_name' : 'from_station_name', 'start_station_id': 'from_station_id', 'end_station_name': 'to_station_name',\n",
        "                              'end_station_id':'to_station_id', 'member_casual' :  'usertype'})"
      ],
      "metadata": {
        "id": "NksG6MsES3Ge"
      },
      "execution_count": null,
      "outputs": []
    },
    {
      "cell_type": "markdown",
      "source": [
        "7. Unimos nuestras tablas del 2019 en una sola"
      ],
      "metadata": {
        "id": "7obfz_Yet4R0"
      }
    },
    {
      "cell_type": "code",
      "source": [
        "divvy_2019=pd.concat([divvy_2019_q2, divvy_2019_q3, divvy_2019_q4],ignore_index=True)"
      ],
      "metadata": {
        "id": "MeGAJwjorCvr"
      },
      "execution_count": null,
      "outputs": []
    },
    {
      "cell_type": "markdown",
      "source": [
        "8. Tiramos las filas donde falte algun valor de nuestro dataframe del 2019 y 2020\n",
        "\n",
        "En este caso es preferible tirar los valores que a imputarlos debido a que en muchos casos no es conveniente ni rellenarlos con el promedio ni con la moda para no afectar el scope del analisis"
      ],
      "metadata": {
        "id": "zU9a4HkIuDo_"
      }
    },
    {
      "cell_type": "code",
      "source": [
        "divvy_2019.dropna(how='any', inplace=True)\n",
        "divvy_2020_q1.dropna()"
      ],
      "metadata": {
        "colab": {
          "base_uri": "https://localhost:8080/",
          "height": 423
        },
        "id": "C6_7kVQojUgK",
        "outputId": "23a4d0b0-61c1-42c1-cca7-55b0714fa008"
      },
      "execution_count": null,
      "outputs": [
        {
          "output_type": "execute_result",
          "data": {
            "text/html": [
              "\n",
              "  <div id=\"df-57f47d56-9a2d-4469-9806-f4118b46b6d7\">\n",
              "    <div class=\"colab-df-container\">\n",
              "      <div>\n",
              "<style scoped>\n",
              "    .dataframe tbody tr th:only-of-type {\n",
              "        vertical-align: middle;\n",
              "    }\n",
              "\n",
              "    .dataframe tbody tr th {\n",
              "        vertical-align: top;\n",
              "    }\n",
              "\n",
              "    .dataframe thead th {\n",
              "        text-align: right;\n",
              "    }\n",
              "</style>\n",
              "<table border=\"1\" class=\"dataframe\">\n",
              "  <thead>\n",
              "    <tr style=\"text-align: right;\">\n",
              "      <th></th>\n",
              "      <th>start_time</th>\n",
              "      <th>end_time</th>\n",
              "      <th>from_station_name</th>\n",
              "      <th>from_station_id</th>\n",
              "      <th>to_station_name</th>\n",
              "      <th>to_station_id</th>\n",
              "      <th>start_lat</th>\n",
              "      <th>start_lng</th>\n",
              "      <th>end_lat</th>\n",
              "      <th>end_lng</th>\n",
              "      <th>usertype</th>\n",
              "    </tr>\n",
              "  </thead>\n",
              "  <tbody>\n",
              "    <tr>\n",
              "      <th>0</th>\n",
              "      <td>2020-01-21 20:06:59</td>\n",
              "      <td>2020-01-21 20:14:30</td>\n",
              "      <td>Western Ave &amp; Leland Ave</td>\n",
              "      <td>239</td>\n",
              "      <td>Clark St &amp; Leland Ave</td>\n",
              "      <td>326.0</td>\n",
              "      <td>41.9665</td>\n",
              "      <td>-87.6884</td>\n",
              "      <td>41.9671</td>\n",
              "      <td>-87.6674</td>\n",
              "      <td>member</td>\n",
              "    </tr>\n",
              "    <tr>\n",
              "      <th>1</th>\n",
              "      <td>2020-01-30 14:22:39</td>\n",
              "      <td>2020-01-30 14:26:22</td>\n",
              "      <td>Clark St &amp; Montrose Ave</td>\n",
              "      <td>234</td>\n",
              "      <td>Southport Ave &amp; Irving Park Rd</td>\n",
              "      <td>318.0</td>\n",
              "      <td>41.9616</td>\n",
              "      <td>-87.6660</td>\n",
              "      <td>41.9542</td>\n",
              "      <td>-87.6644</td>\n",
              "      <td>member</td>\n",
              "    </tr>\n",
              "    <tr>\n",
              "      <th>2</th>\n",
              "      <td>2020-01-09 19:29:26</td>\n",
              "      <td>2020-01-09 19:32:17</td>\n",
              "      <td>Broadway &amp; Belmont Ave</td>\n",
              "      <td>296</td>\n",
              "      <td>Wilton Ave &amp; Belmont Ave</td>\n",
              "      <td>117.0</td>\n",
              "      <td>41.9401</td>\n",
              "      <td>-87.6455</td>\n",
              "      <td>41.9402</td>\n",
              "      <td>-87.6530</td>\n",
              "      <td>member</td>\n",
              "    </tr>\n",
              "    <tr>\n",
              "      <th>3</th>\n",
              "      <td>2020-01-06 16:17:07</td>\n",
              "      <td>2020-01-06 16:25:56</td>\n",
              "      <td>Clark St &amp; Randolph St</td>\n",
              "      <td>51</td>\n",
              "      <td>Fairbanks Ct &amp; Grand Ave</td>\n",
              "      <td>24.0</td>\n",
              "      <td>41.8846</td>\n",
              "      <td>-87.6319</td>\n",
              "      <td>41.8918</td>\n",
              "      <td>-87.6206</td>\n",
              "      <td>member</td>\n",
              "    </tr>\n",
              "    <tr>\n",
              "      <th>4</th>\n",
              "      <td>2020-01-30 08:37:16</td>\n",
              "      <td>2020-01-30 08:42:48</td>\n",
              "      <td>Clinton St &amp; Lake St</td>\n",
              "      <td>66</td>\n",
              "      <td>Wells St &amp; Hubbard St</td>\n",
              "      <td>212.0</td>\n",
              "      <td>41.8856</td>\n",
              "      <td>-87.6418</td>\n",
              "      <td>41.8899</td>\n",
              "      <td>-87.6343</td>\n",
              "      <td>member</td>\n",
              "    </tr>\n",
              "    <tr>\n",
              "      <th>...</th>\n",
              "      <td>...</td>\n",
              "      <td>...</td>\n",
              "      <td>...</td>\n",
              "      <td>...</td>\n",
              "      <td>...</td>\n",
              "      <td>...</td>\n",
              "      <td>...</td>\n",
              "      <td>...</td>\n",
              "      <td>...</td>\n",
              "      <td>...</td>\n",
              "      <td>...</td>\n",
              "    </tr>\n",
              "    <tr>\n",
              "      <th>426882</th>\n",
              "      <td>2020-03-10 10:40:06</td>\n",
              "      <td>2020-03-10 10:40:07</td>\n",
              "      <td>HQ QR</td>\n",
              "      <td>675</td>\n",
              "      <td>HQ QR</td>\n",
              "      <td>675.0</td>\n",
              "      <td>41.8899</td>\n",
              "      <td>-87.6803</td>\n",
              "      <td>41.8899</td>\n",
              "      <td>-87.6803</td>\n",
              "      <td>casual</td>\n",
              "    </tr>\n",
              "    <tr>\n",
              "      <th>426883</th>\n",
              "      <td>2020-03-07 15:25:55</td>\n",
              "      <td>2020-03-07 16:14:03</td>\n",
              "      <td>Rush St &amp; Superior St</td>\n",
              "      <td>161</td>\n",
              "      <td>Sheridan Rd &amp; Irving Park Rd</td>\n",
              "      <td>240.0</td>\n",
              "      <td>41.8958</td>\n",
              "      <td>-87.6259</td>\n",
              "      <td>41.9542</td>\n",
              "      <td>-87.6544</td>\n",
              "      <td>member</td>\n",
              "    </tr>\n",
              "    <tr>\n",
              "      <th>426884</th>\n",
              "      <td>2020-03-01 13:12:38</td>\n",
              "      <td>2020-03-01 13:38:29</td>\n",
              "      <td>Clark St &amp; Lincoln Ave</td>\n",
              "      <td>141</td>\n",
              "      <td>Ashland Ave &amp; Division St</td>\n",
              "      <td>210.0</td>\n",
              "      <td>41.9157</td>\n",
              "      <td>-87.6346</td>\n",
              "      <td>41.9035</td>\n",
              "      <td>-87.6677</td>\n",
              "      <td>casual</td>\n",
              "    </tr>\n",
              "    <tr>\n",
              "      <th>426885</th>\n",
              "      <td>2020-03-07 18:02:45</td>\n",
              "      <td>2020-03-07 18:13:18</td>\n",
              "      <td>Franklin St &amp; Illinois St</td>\n",
              "      <td>672</td>\n",
              "      <td>Stetson Ave &amp; South Water St</td>\n",
              "      <td>264.0</td>\n",
              "      <td>41.8910</td>\n",
              "      <td>-87.6355</td>\n",
              "      <td>41.8868</td>\n",
              "      <td>-87.6223</td>\n",
              "      <td>member</td>\n",
              "    </tr>\n",
              "    <tr>\n",
              "      <th>426886</th>\n",
              "      <td>2020-03-08 13:03:57</td>\n",
              "      <td>2020-03-08 13:32:27</td>\n",
              "      <td>Dearborn St &amp; Erie St</td>\n",
              "      <td>110</td>\n",
              "      <td>Michigan Ave &amp; Oak St</td>\n",
              "      <td>85.0</td>\n",
              "      <td>41.8940</td>\n",
              "      <td>-87.6293</td>\n",
              "      <td>41.9010</td>\n",
              "      <td>-87.6238</td>\n",
              "      <td>casual</td>\n",
              "    </tr>\n",
              "  </tbody>\n",
              "</table>\n",
              "<p>426886 rows × 11 columns</p>\n",
              "</div>\n",
              "      <button class=\"colab-df-convert\" onclick=\"convertToInteractive('df-57f47d56-9a2d-4469-9806-f4118b46b6d7')\"\n",
              "              title=\"Convert this dataframe to an interactive table.\"\n",
              "              style=\"display:none;\">\n",
              "        \n",
              "  <svg xmlns=\"http://www.w3.org/2000/svg\" height=\"24px\"viewBox=\"0 0 24 24\"\n",
              "       width=\"24px\">\n",
              "    <path d=\"M0 0h24v24H0V0z\" fill=\"none\"/>\n",
              "    <path d=\"M18.56 5.44l.94 2.06.94-2.06 2.06-.94-2.06-.94-.94-2.06-.94 2.06-2.06.94zm-11 1L8.5 8.5l.94-2.06 2.06-.94-2.06-.94L8.5 2.5l-.94 2.06-2.06.94zm10 10l.94 2.06.94-2.06 2.06-.94-2.06-.94-.94-2.06-.94 2.06-2.06.94z\"/><path d=\"M17.41 7.96l-1.37-1.37c-.4-.4-.92-.59-1.43-.59-.52 0-1.04.2-1.43.59L10.3 9.45l-7.72 7.72c-.78.78-.78 2.05 0 2.83L4 21.41c.39.39.9.59 1.41.59.51 0 1.02-.2 1.41-.59l7.78-7.78 2.81-2.81c.8-.78.8-2.07 0-2.86zM5.41 20L4 18.59l7.72-7.72 1.47 1.35L5.41 20z\"/>\n",
              "  </svg>\n",
              "      </button>\n",
              "      \n",
              "  <style>\n",
              "    .colab-df-container {\n",
              "      display:flex;\n",
              "      flex-wrap:wrap;\n",
              "      gap: 12px;\n",
              "    }\n",
              "\n",
              "    .colab-df-convert {\n",
              "      background-color: #E8F0FE;\n",
              "      border: none;\n",
              "      border-radius: 50%;\n",
              "      cursor: pointer;\n",
              "      display: none;\n",
              "      fill: #1967D2;\n",
              "      height: 32px;\n",
              "      padding: 0 0 0 0;\n",
              "      width: 32px;\n",
              "    }\n",
              "\n",
              "    .colab-df-convert:hover {\n",
              "      background-color: #E2EBFA;\n",
              "      box-shadow: 0px 1px 2px rgba(60, 64, 67, 0.3), 0px 1px 3px 1px rgba(60, 64, 67, 0.15);\n",
              "      fill: #174EA6;\n",
              "    }\n",
              "\n",
              "    [theme=dark] .colab-df-convert {\n",
              "      background-color: #3B4455;\n",
              "      fill: #D2E3FC;\n",
              "    }\n",
              "\n",
              "    [theme=dark] .colab-df-convert:hover {\n",
              "      background-color: #434B5C;\n",
              "      box-shadow: 0px 1px 3px 1px rgba(0, 0, 0, 0.15);\n",
              "      filter: drop-shadow(0px 1px 2px rgba(0, 0, 0, 0.3));\n",
              "      fill: #FFFFFF;\n",
              "    }\n",
              "  </style>\n",
              "\n",
              "      <script>\n",
              "        const buttonEl =\n",
              "          document.querySelector('#df-57f47d56-9a2d-4469-9806-f4118b46b6d7 button.colab-df-convert');\n",
              "        buttonEl.style.display =\n",
              "          google.colab.kernel.accessAllowed ? 'block' : 'none';\n",
              "\n",
              "        async function convertToInteractive(key) {\n",
              "          const element = document.querySelector('#df-57f47d56-9a2d-4469-9806-f4118b46b6d7');\n",
              "          const dataTable =\n",
              "            await google.colab.kernel.invokeFunction('convertToInteractive',\n",
              "                                                     [key], {});\n",
              "          if (!dataTable) return;\n",
              "\n",
              "          const docLinkHtml = 'Like what you see? Visit the ' +\n",
              "            '<a target=\"_blank\" href=https://colab.research.google.com/notebooks/data_table.ipynb>data table notebook</a>'\n",
              "            + ' to learn more about interactive tables.';\n",
              "          element.innerHTML = '';\n",
              "          dataTable['output_type'] = 'display_data';\n",
              "          await google.colab.output.renderOutput(dataTable, element);\n",
              "          const docLink = document.createElement('div');\n",
              "          docLink.innerHTML = docLinkHtml;\n",
              "          element.appendChild(docLink);\n",
              "        }\n",
              "      </script>\n",
              "    </div>\n",
              "  </div>\n",
              "  "
            ],
            "text/plain": [
              "                 start_time             end_time  ...  end_lng  usertype\n",
              "0       2020-01-21 20:06:59  2020-01-21 20:14:30  ... -87.6674    member\n",
              "1       2020-01-30 14:22:39  2020-01-30 14:26:22  ... -87.6644    member\n",
              "2       2020-01-09 19:29:26  2020-01-09 19:32:17  ... -87.6530    member\n",
              "3       2020-01-06 16:17:07  2020-01-06 16:25:56  ... -87.6206    member\n",
              "4       2020-01-30 08:37:16  2020-01-30 08:42:48  ... -87.6343    member\n",
              "...                     ...                  ...  ...      ...       ...\n",
              "426882  2020-03-10 10:40:06  2020-03-10 10:40:07  ... -87.6803    casual\n",
              "426883  2020-03-07 15:25:55  2020-03-07 16:14:03  ... -87.6544    member\n",
              "426884  2020-03-01 13:12:38  2020-03-01 13:38:29  ... -87.6677    casual\n",
              "426885  2020-03-07 18:02:45  2020-03-07 18:13:18  ... -87.6223    member\n",
              "426886  2020-03-08 13:03:57  2020-03-08 13:32:27  ... -87.6238    casual\n",
              "\n",
              "[426886 rows x 11 columns]"
            ]
          },
          "metadata": {},
          "execution_count": 10
        }
      ]
    },
    {
      "cell_type": "markdown",
      "source": [
        "9. En `usertype` del 2019 lo cambiamos a member y a casual que son los valores que Cyclistic tiene como definidos en su analisis\n"
      ],
      "metadata": {
        "id": "-3RSVuUzusUB"
      }
    },
    {
      "cell_type": "code",
      "source": [
        "divvy_2019['usertype'].unique()"
      ],
      "metadata": {
        "colab": {
          "base_uri": "https://localhost:8080/"
        },
        "id": "cm49Xz9hjjVD",
        "outputId": "5753d583-37fa-4e10-94a4-6b0eb74a8686"
      },
      "execution_count": null,
      "outputs": [
        {
          "output_type": "execute_result",
          "data": {
            "text/plain": [
              "array(['Subscriber', 'Customer'], dtype=object)"
            ]
          },
          "metadata": {},
          "execution_count": 11
        }
      ]
    },
    {
      "cell_type": "code",
      "source": [
        "divvy_2019['usertype'] = np.where(divvy_2019['usertype']=='Subscriber', 'member', 'casual')"
      ],
      "metadata": {
        "id": "nszLZHO9j4Je"
      },
      "execution_count": null,
      "outputs": []
    },
    {
      "cell_type": "markdown",
      "source": [
        "10. Vamos a cambiar el `start_time` y `end_time` de string a `datetime64[ns]` esto con la finalidad de calciular el tiempo y extraer información en el analisis\n",
        "\n",
        "\n"
      ],
      "metadata": {
        "id": "xntzPCN4UhuD"
      }
    },
    {
      "cell_type": "code",
      "source": [
        "divvy_2020_q1['start_time'] = divvy_2020_q1['start_time'].astype('datetime64[ns]')\n",
        "divvy_2020_q1['end_time']=pd.to_datetime(divvy_2020_q1['end_time'])\n",
        "divvy_2019['start_time'] = divvy_2019['start_time'].astype('datetime64[ns]')"
      ],
      "metadata": {
        "id": "OnNI8Vr6vEgy"
      },
      "execution_count": null,
      "outputs": []
    },
    {
      "cell_type": "markdown",
      "source": [
        "11. Renombramos el dataset del año 2021 para tener una mejor congruencia con el nombre del otro data set"
      ],
      "metadata": {
        "id": "HV-gUedwWPt2"
      }
    },
    {
      "cell_type": "code",
      "source": [
        "divvy_2020 = divvy_2020_q1"
      ],
      "metadata": {
        "id": "6pLgp7ZIWVBb"
      },
      "execution_count": null,
      "outputs": []
    },
    {
      "cell_type": "markdown",
      "source": [
        "Con esto finalizamos el proceso de limpieza quedando nustros dos dataframes de la siguente manera"
      ],
      "metadata": {
        "id": "SlRUeDjzVQ-y"
      }
    },
    {
      "cell_type": "code",
      "source": [
        "divvy_2019"
      ],
      "metadata": {
        "colab": {
          "base_uri": "https://localhost:8080/",
          "height": 423
        },
        "id": "Kp53y7d1WfKt",
        "outputId": "be65d790-5924-465a-ce1a-ec44b7840652"
      },
      "execution_count": null,
      "outputs": [
        {
          "output_type": "execute_result",
          "data": {
            "text/html": [
              "\n",
              "  <div id=\"df-445e5cae-3faa-4c0f-88cc-0b016bddc094\">\n",
              "    <div class=\"colab-df-container\">\n",
              "      <div>\n",
              "<style scoped>\n",
              "    .dataframe tbody tr th:only-of-type {\n",
              "        vertical-align: middle;\n",
              "    }\n",
              "\n",
              "    .dataframe tbody tr th {\n",
              "        vertical-align: top;\n",
              "    }\n",
              "\n",
              "    .dataframe thead th {\n",
              "        text-align: right;\n",
              "    }\n",
              "</style>\n",
              "<table border=\"1\" class=\"dataframe\">\n",
              "  <thead>\n",
              "    <tr style=\"text-align: right;\">\n",
              "      <th></th>\n",
              "      <th>start_time</th>\n",
              "      <th>end_time</th>\n",
              "      <th>tripduration</th>\n",
              "      <th>from_station_id</th>\n",
              "      <th>from_station_name</th>\n",
              "      <th>to_station_id</th>\n",
              "      <th>to_station_name</th>\n",
              "      <th>usertype</th>\n",
              "      <th>gender</th>\n",
              "      <th>birthyear</th>\n",
              "    </tr>\n",
              "  </thead>\n",
              "  <tbody>\n",
              "    <tr>\n",
              "      <th>0</th>\n",
              "      <td>2019-04-01 00:02:22</td>\n",
              "      <td>2019-04-01 00:09:48</td>\n",
              "      <td>446.0</td>\n",
              "      <td>81</td>\n",
              "      <td>Daley Center Plaza</td>\n",
              "      <td>56</td>\n",
              "      <td>Desplaines St &amp; Kinzie St</td>\n",
              "      <td>member</td>\n",
              "      <td>Male</td>\n",
              "      <td>1975.0</td>\n",
              "    </tr>\n",
              "    <tr>\n",
              "      <th>1</th>\n",
              "      <td>2019-04-01 00:03:02</td>\n",
              "      <td>2019-04-01 00:20:30</td>\n",
              "      <td>1,048.0</td>\n",
              "      <td>317</td>\n",
              "      <td>Wood St &amp; Taylor St</td>\n",
              "      <td>59</td>\n",
              "      <td>Wabash Ave &amp; Roosevelt Rd</td>\n",
              "      <td>member</td>\n",
              "      <td>Female</td>\n",
              "      <td>1984.0</td>\n",
              "    </tr>\n",
              "    <tr>\n",
              "      <th>2</th>\n",
              "      <td>2019-04-01 00:11:07</td>\n",
              "      <td>2019-04-01 00:15:19</td>\n",
              "      <td>252.0</td>\n",
              "      <td>283</td>\n",
              "      <td>LaSalle St &amp; Jackson Blvd</td>\n",
              "      <td>174</td>\n",
              "      <td>Canal St &amp; Madison St</td>\n",
              "      <td>member</td>\n",
              "      <td>Male</td>\n",
              "      <td>1990.0</td>\n",
              "    </tr>\n",
              "    <tr>\n",
              "      <th>3</th>\n",
              "      <td>2019-04-01 00:13:01</td>\n",
              "      <td>2019-04-01 00:18:58</td>\n",
              "      <td>357.0</td>\n",
              "      <td>26</td>\n",
              "      <td>McClurg Ct &amp; Illinois St</td>\n",
              "      <td>133</td>\n",
              "      <td>Kingsbury St &amp; Kinzie St</td>\n",
              "      <td>member</td>\n",
              "      <td>Male</td>\n",
              "      <td>1993.0</td>\n",
              "    </tr>\n",
              "    <tr>\n",
              "      <th>4</th>\n",
              "      <td>2019-04-01 00:19:26</td>\n",
              "      <td>2019-04-01 00:36:13</td>\n",
              "      <td>1,007.0</td>\n",
              "      <td>202</td>\n",
              "      <td>Halsted St &amp; 18th St</td>\n",
              "      <td>129</td>\n",
              "      <td>Blue Island Ave &amp; 18th St</td>\n",
              "      <td>member</td>\n",
              "      <td>Male</td>\n",
              "      <td>1992.0</td>\n",
              "    </tr>\n",
              "    <tr>\n",
              "      <th>...</th>\n",
              "      <td>...</td>\n",
              "      <td>...</td>\n",
              "      <td>...</td>\n",
              "      <td>...</td>\n",
              "      <td>...</td>\n",
              "      <td>...</td>\n",
              "      <td>...</td>\n",
              "      <td>...</td>\n",
              "      <td>...</td>\n",
              "      <td>...</td>\n",
              "    </tr>\n",
              "    <tr>\n",
              "      <th>3452930</th>\n",
              "      <td>2019-12-31 23:56:13</td>\n",
              "      <td>2020-01-01 00:15:45</td>\n",
              "      <td>1,172.0</td>\n",
              "      <td>112</td>\n",
              "      <td>Green St &amp; Randolph St</td>\n",
              "      <td>225</td>\n",
              "      <td>Halsted St &amp; Dickens Ave</td>\n",
              "      <td>member</td>\n",
              "      <td>Male</td>\n",
              "      <td>1981.0</td>\n",
              "    </tr>\n",
              "    <tr>\n",
              "      <th>3452931</th>\n",
              "      <td>2019-12-31 23:56:34</td>\n",
              "      <td>2020-01-01 00:22:08</td>\n",
              "      <td>1,533.0</td>\n",
              "      <td>90</td>\n",
              "      <td>Millennium Park</td>\n",
              "      <td>90</td>\n",
              "      <td>Millennium Park</td>\n",
              "      <td>member</td>\n",
              "      <td>Male</td>\n",
              "      <td>1992.0</td>\n",
              "    </tr>\n",
              "    <tr>\n",
              "      <th>3452932</th>\n",
              "      <td>2019-12-31 23:57:05</td>\n",
              "      <td>2020-01-01 00:05:46</td>\n",
              "      <td>520.0</td>\n",
              "      <td>623</td>\n",
              "      <td>Michigan Ave &amp; 8th St</td>\n",
              "      <td>52</td>\n",
              "      <td>Michigan Ave &amp; Lake St</td>\n",
              "      <td>member</td>\n",
              "      <td>Male</td>\n",
              "      <td>1967.0</td>\n",
              "    </tr>\n",
              "    <tr>\n",
              "      <th>3452933</th>\n",
              "      <td>2019-12-31 23:57:11</td>\n",
              "      <td>2020-01-01 00:05:45</td>\n",
              "      <td>514.0</td>\n",
              "      <td>623</td>\n",
              "      <td>Michigan Ave &amp; 8th St</td>\n",
              "      <td>52</td>\n",
              "      <td>Michigan Ave &amp; Lake St</td>\n",
              "      <td>member</td>\n",
              "      <td>Female</td>\n",
              "      <td>1970.0</td>\n",
              "    </tr>\n",
              "    <tr>\n",
              "      <th>3452934</th>\n",
              "      <td>2019-12-31 23:57:17</td>\n",
              "      <td>2019-12-31 23:59:18</td>\n",
              "      <td>120.0</td>\n",
              "      <td>256</td>\n",
              "      <td>Broadway &amp; Sheridan Rd</td>\n",
              "      <td>240</td>\n",
              "      <td>Sheridan Rd &amp; Irving Park Rd</td>\n",
              "      <td>member</td>\n",
              "      <td>Male</td>\n",
              "      <td>1982.0</td>\n",
              "    </tr>\n",
              "  </tbody>\n",
              "</table>\n",
              "<p>2913439 rows × 10 columns</p>\n",
              "</div>\n",
              "      <button class=\"colab-df-convert\" onclick=\"convertToInteractive('df-445e5cae-3faa-4c0f-88cc-0b016bddc094')\"\n",
              "              title=\"Convert this dataframe to an interactive table.\"\n",
              "              style=\"display:none;\">\n",
              "        \n",
              "  <svg xmlns=\"http://www.w3.org/2000/svg\" height=\"24px\"viewBox=\"0 0 24 24\"\n",
              "       width=\"24px\">\n",
              "    <path d=\"M0 0h24v24H0V0z\" fill=\"none\"/>\n",
              "    <path d=\"M18.56 5.44l.94 2.06.94-2.06 2.06-.94-2.06-.94-.94-2.06-.94 2.06-2.06.94zm-11 1L8.5 8.5l.94-2.06 2.06-.94-2.06-.94L8.5 2.5l-.94 2.06-2.06.94zm10 10l.94 2.06.94-2.06 2.06-.94-2.06-.94-.94-2.06-.94 2.06-2.06.94z\"/><path d=\"M17.41 7.96l-1.37-1.37c-.4-.4-.92-.59-1.43-.59-.52 0-1.04.2-1.43.59L10.3 9.45l-7.72 7.72c-.78.78-.78 2.05 0 2.83L4 21.41c.39.39.9.59 1.41.59.51 0 1.02-.2 1.41-.59l7.78-7.78 2.81-2.81c.8-.78.8-2.07 0-2.86zM5.41 20L4 18.59l7.72-7.72 1.47 1.35L5.41 20z\"/>\n",
              "  </svg>\n",
              "      </button>\n",
              "      \n",
              "  <style>\n",
              "    .colab-df-container {\n",
              "      display:flex;\n",
              "      flex-wrap:wrap;\n",
              "      gap: 12px;\n",
              "    }\n",
              "\n",
              "    .colab-df-convert {\n",
              "      background-color: #E8F0FE;\n",
              "      border: none;\n",
              "      border-radius: 50%;\n",
              "      cursor: pointer;\n",
              "      display: none;\n",
              "      fill: #1967D2;\n",
              "      height: 32px;\n",
              "      padding: 0 0 0 0;\n",
              "      width: 32px;\n",
              "    }\n",
              "\n",
              "    .colab-df-convert:hover {\n",
              "      background-color: #E2EBFA;\n",
              "      box-shadow: 0px 1px 2px rgba(60, 64, 67, 0.3), 0px 1px 3px 1px rgba(60, 64, 67, 0.15);\n",
              "      fill: #174EA6;\n",
              "    }\n",
              "\n",
              "    [theme=dark] .colab-df-convert {\n",
              "      background-color: #3B4455;\n",
              "      fill: #D2E3FC;\n",
              "    }\n",
              "\n",
              "    [theme=dark] .colab-df-convert:hover {\n",
              "      background-color: #434B5C;\n",
              "      box-shadow: 0px 1px 3px 1px rgba(0, 0, 0, 0.15);\n",
              "      filter: drop-shadow(0px 1px 2px rgba(0, 0, 0, 0.3));\n",
              "      fill: #FFFFFF;\n",
              "    }\n",
              "  </style>\n",
              "\n",
              "      <script>\n",
              "        const buttonEl =\n",
              "          document.querySelector('#df-445e5cae-3faa-4c0f-88cc-0b016bddc094 button.colab-df-convert');\n",
              "        buttonEl.style.display =\n",
              "          google.colab.kernel.accessAllowed ? 'block' : 'none';\n",
              "\n",
              "        async function convertToInteractive(key) {\n",
              "          const element = document.querySelector('#df-445e5cae-3faa-4c0f-88cc-0b016bddc094');\n",
              "          const dataTable =\n",
              "            await google.colab.kernel.invokeFunction('convertToInteractive',\n",
              "                                                     [key], {});\n",
              "          if (!dataTable) return;\n",
              "\n",
              "          const docLinkHtml = 'Like what you see? Visit the ' +\n",
              "            '<a target=\"_blank\" href=https://colab.research.google.com/notebooks/data_table.ipynb>data table notebook</a>'\n",
              "            + ' to learn more about interactive tables.';\n",
              "          element.innerHTML = '';\n",
              "          dataTable['output_type'] = 'display_data';\n",
              "          await google.colab.output.renderOutput(dataTable, element);\n",
              "          const docLink = document.createElement('div');\n",
              "          docLink.innerHTML = docLinkHtml;\n",
              "          element.appendChild(docLink);\n",
              "        }\n",
              "      </script>\n",
              "    </div>\n",
              "  </div>\n",
              "  "
            ],
            "text/plain": [
              "                 start_time             end_time  ...  gender  birthyear\n",
              "0       2019-04-01 00:02:22  2019-04-01 00:09:48  ...    Male     1975.0\n",
              "1       2019-04-01 00:03:02  2019-04-01 00:20:30  ...  Female     1984.0\n",
              "2       2019-04-01 00:11:07  2019-04-01 00:15:19  ...    Male     1990.0\n",
              "3       2019-04-01 00:13:01  2019-04-01 00:18:58  ...    Male     1993.0\n",
              "4       2019-04-01 00:19:26  2019-04-01 00:36:13  ...    Male     1992.0\n",
              "...                     ...                  ...  ...     ...        ...\n",
              "3452930 2019-12-31 23:56:13  2020-01-01 00:15:45  ...    Male     1981.0\n",
              "3452931 2019-12-31 23:56:34  2020-01-01 00:22:08  ...    Male     1992.0\n",
              "3452932 2019-12-31 23:57:05  2020-01-01 00:05:46  ...    Male     1967.0\n",
              "3452933 2019-12-31 23:57:11  2020-01-01 00:05:45  ...  Female     1970.0\n",
              "3452934 2019-12-31 23:57:17  2019-12-31 23:59:18  ...    Male     1982.0\n",
              "\n",
              "[2913439 rows x 10 columns]"
            ]
          },
          "metadata": {},
          "execution_count": 15
        }
      ]
    },
    {
      "cell_type": "code",
      "source": [
        "divvy_2020"
      ],
      "metadata": {
        "id": "wrDxG70jWhpA",
        "colab": {
          "base_uri": "https://localhost:8080/",
          "height": 423
        },
        "outputId": "04e52934-24e9-4492-e1ec-c6b8f922c7a1"
      },
      "execution_count": null,
      "outputs": [
        {
          "output_type": "execute_result",
          "data": {
            "text/html": [
              "\n",
              "  <div id=\"df-f6671eb4-4d0e-4aec-89e8-a7262b7c7318\">\n",
              "    <div class=\"colab-df-container\">\n",
              "      <div>\n",
              "<style scoped>\n",
              "    .dataframe tbody tr th:only-of-type {\n",
              "        vertical-align: middle;\n",
              "    }\n",
              "\n",
              "    .dataframe tbody tr th {\n",
              "        vertical-align: top;\n",
              "    }\n",
              "\n",
              "    .dataframe thead th {\n",
              "        text-align: right;\n",
              "    }\n",
              "</style>\n",
              "<table border=\"1\" class=\"dataframe\">\n",
              "  <thead>\n",
              "    <tr style=\"text-align: right;\">\n",
              "      <th></th>\n",
              "      <th>start_time</th>\n",
              "      <th>end_time</th>\n",
              "      <th>from_station_name</th>\n",
              "      <th>from_station_id</th>\n",
              "      <th>to_station_name</th>\n",
              "      <th>to_station_id</th>\n",
              "      <th>start_lat</th>\n",
              "      <th>start_lng</th>\n",
              "      <th>end_lat</th>\n",
              "      <th>end_lng</th>\n",
              "      <th>usertype</th>\n",
              "    </tr>\n",
              "  </thead>\n",
              "  <tbody>\n",
              "    <tr>\n",
              "      <th>0</th>\n",
              "      <td>2020-01-21 20:06:59</td>\n",
              "      <td>2020-01-21 20:14:30</td>\n",
              "      <td>Western Ave &amp; Leland Ave</td>\n",
              "      <td>239</td>\n",
              "      <td>Clark St &amp; Leland Ave</td>\n",
              "      <td>326.0</td>\n",
              "      <td>41.9665</td>\n",
              "      <td>-87.6884</td>\n",
              "      <td>41.9671</td>\n",
              "      <td>-87.6674</td>\n",
              "      <td>member</td>\n",
              "    </tr>\n",
              "    <tr>\n",
              "      <th>1</th>\n",
              "      <td>2020-01-30 14:22:39</td>\n",
              "      <td>2020-01-30 14:26:22</td>\n",
              "      <td>Clark St &amp; Montrose Ave</td>\n",
              "      <td>234</td>\n",
              "      <td>Southport Ave &amp; Irving Park Rd</td>\n",
              "      <td>318.0</td>\n",
              "      <td>41.9616</td>\n",
              "      <td>-87.6660</td>\n",
              "      <td>41.9542</td>\n",
              "      <td>-87.6644</td>\n",
              "      <td>member</td>\n",
              "    </tr>\n",
              "    <tr>\n",
              "      <th>2</th>\n",
              "      <td>2020-01-09 19:29:26</td>\n",
              "      <td>2020-01-09 19:32:17</td>\n",
              "      <td>Broadway &amp; Belmont Ave</td>\n",
              "      <td>296</td>\n",
              "      <td>Wilton Ave &amp; Belmont Ave</td>\n",
              "      <td>117.0</td>\n",
              "      <td>41.9401</td>\n",
              "      <td>-87.6455</td>\n",
              "      <td>41.9402</td>\n",
              "      <td>-87.6530</td>\n",
              "      <td>member</td>\n",
              "    </tr>\n",
              "    <tr>\n",
              "      <th>3</th>\n",
              "      <td>2020-01-06 16:17:07</td>\n",
              "      <td>2020-01-06 16:25:56</td>\n",
              "      <td>Clark St &amp; Randolph St</td>\n",
              "      <td>51</td>\n",
              "      <td>Fairbanks Ct &amp; Grand Ave</td>\n",
              "      <td>24.0</td>\n",
              "      <td>41.8846</td>\n",
              "      <td>-87.6319</td>\n",
              "      <td>41.8918</td>\n",
              "      <td>-87.6206</td>\n",
              "      <td>member</td>\n",
              "    </tr>\n",
              "    <tr>\n",
              "      <th>4</th>\n",
              "      <td>2020-01-30 08:37:16</td>\n",
              "      <td>2020-01-30 08:42:48</td>\n",
              "      <td>Clinton St &amp; Lake St</td>\n",
              "      <td>66</td>\n",
              "      <td>Wells St &amp; Hubbard St</td>\n",
              "      <td>212.0</td>\n",
              "      <td>41.8856</td>\n",
              "      <td>-87.6418</td>\n",
              "      <td>41.8899</td>\n",
              "      <td>-87.6343</td>\n",
              "      <td>member</td>\n",
              "    </tr>\n",
              "    <tr>\n",
              "      <th>...</th>\n",
              "      <td>...</td>\n",
              "      <td>...</td>\n",
              "      <td>...</td>\n",
              "      <td>...</td>\n",
              "      <td>...</td>\n",
              "      <td>...</td>\n",
              "      <td>...</td>\n",
              "      <td>...</td>\n",
              "      <td>...</td>\n",
              "      <td>...</td>\n",
              "      <td>...</td>\n",
              "    </tr>\n",
              "    <tr>\n",
              "      <th>426882</th>\n",
              "      <td>2020-03-10 10:40:06</td>\n",
              "      <td>2020-03-10 10:40:07</td>\n",
              "      <td>HQ QR</td>\n",
              "      <td>675</td>\n",
              "      <td>HQ QR</td>\n",
              "      <td>675.0</td>\n",
              "      <td>41.8899</td>\n",
              "      <td>-87.6803</td>\n",
              "      <td>41.8899</td>\n",
              "      <td>-87.6803</td>\n",
              "      <td>casual</td>\n",
              "    </tr>\n",
              "    <tr>\n",
              "      <th>426883</th>\n",
              "      <td>2020-03-07 15:25:55</td>\n",
              "      <td>2020-03-07 16:14:03</td>\n",
              "      <td>Rush St &amp; Superior St</td>\n",
              "      <td>161</td>\n",
              "      <td>Sheridan Rd &amp; Irving Park Rd</td>\n",
              "      <td>240.0</td>\n",
              "      <td>41.8958</td>\n",
              "      <td>-87.6259</td>\n",
              "      <td>41.9542</td>\n",
              "      <td>-87.6544</td>\n",
              "      <td>member</td>\n",
              "    </tr>\n",
              "    <tr>\n",
              "      <th>426884</th>\n",
              "      <td>2020-03-01 13:12:38</td>\n",
              "      <td>2020-03-01 13:38:29</td>\n",
              "      <td>Clark St &amp; Lincoln Ave</td>\n",
              "      <td>141</td>\n",
              "      <td>Ashland Ave &amp; Division St</td>\n",
              "      <td>210.0</td>\n",
              "      <td>41.9157</td>\n",
              "      <td>-87.6346</td>\n",
              "      <td>41.9035</td>\n",
              "      <td>-87.6677</td>\n",
              "      <td>casual</td>\n",
              "    </tr>\n",
              "    <tr>\n",
              "      <th>426885</th>\n",
              "      <td>2020-03-07 18:02:45</td>\n",
              "      <td>2020-03-07 18:13:18</td>\n",
              "      <td>Franklin St &amp; Illinois St</td>\n",
              "      <td>672</td>\n",
              "      <td>Stetson Ave &amp; South Water St</td>\n",
              "      <td>264.0</td>\n",
              "      <td>41.8910</td>\n",
              "      <td>-87.6355</td>\n",
              "      <td>41.8868</td>\n",
              "      <td>-87.6223</td>\n",
              "      <td>member</td>\n",
              "    </tr>\n",
              "    <tr>\n",
              "      <th>426886</th>\n",
              "      <td>2020-03-08 13:03:57</td>\n",
              "      <td>2020-03-08 13:32:27</td>\n",
              "      <td>Dearborn St &amp; Erie St</td>\n",
              "      <td>110</td>\n",
              "      <td>Michigan Ave &amp; Oak St</td>\n",
              "      <td>85.0</td>\n",
              "      <td>41.8940</td>\n",
              "      <td>-87.6293</td>\n",
              "      <td>41.9010</td>\n",
              "      <td>-87.6238</td>\n",
              "      <td>casual</td>\n",
              "    </tr>\n",
              "  </tbody>\n",
              "</table>\n",
              "<p>426887 rows × 11 columns</p>\n",
              "</div>\n",
              "      <button class=\"colab-df-convert\" onclick=\"convertToInteractive('df-f6671eb4-4d0e-4aec-89e8-a7262b7c7318')\"\n",
              "              title=\"Convert this dataframe to an interactive table.\"\n",
              "              style=\"display:none;\">\n",
              "        \n",
              "  <svg xmlns=\"http://www.w3.org/2000/svg\" height=\"24px\"viewBox=\"0 0 24 24\"\n",
              "       width=\"24px\">\n",
              "    <path d=\"M0 0h24v24H0V0z\" fill=\"none\"/>\n",
              "    <path d=\"M18.56 5.44l.94 2.06.94-2.06 2.06-.94-2.06-.94-.94-2.06-.94 2.06-2.06.94zm-11 1L8.5 8.5l.94-2.06 2.06-.94-2.06-.94L8.5 2.5l-.94 2.06-2.06.94zm10 10l.94 2.06.94-2.06 2.06-.94-2.06-.94-.94-2.06-.94 2.06-2.06.94z\"/><path d=\"M17.41 7.96l-1.37-1.37c-.4-.4-.92-.59-1.43-.59-.52 0-1.04.2-1.43.59L10.3 9.45l-7.72 7.72c-.78.78-.78 2.05 0 2.83L4 21.41c.39.39.9.59 1.41.59.51 0 1.02-.2 1.41-.59l7.78-7.78 2.81-2.81c.8-.78.8-2.07 0-2.86zM5.41 20L4 18.59l7.72-7.72 1.47 1.35L5.41 20z\"/>\n",
              "  </svg>\n",
              "      </button>\n",
              "      \n",
              "  <style>\n",
              "    .colab-df-container {\n",
              "      display:flex;\n",
              "      flex-wrap:wrap;\n",
              "      gap: 12px;\n",
              "    }\n",
              "\n",
              "    .colab-df-convert {\n",
              "      background-color: #E8F0FE;\n",
              "      border: none;\n",
              "      border-radius: 50%;\n",
              "      cursor: pointer;\n",
              "      display: none;\n",
              "      fill: #1967D2;\n",
              "      height: 32px;\n",
              "      padding: 0 0 0 0;\n",
              "      width: 32px;\n",
              "    }\n",
              "\n",
              "    .colab-df-convert:hover {\n",
              "      background-color: #E2EBFA;\n",
              "      box-shadow: 0px 1px 2px rgba(60, 64, 67, 0.3), 0px 1px 3px 1px rgba(60, 64, 67, 0.15);\n",
              "      fill: #174EA6;\n",
              "    }\n",
              "\n",
              "    [theme=dark] .colab-df-convert {\n",
              "      background-color: #3B4455;\n",
              "      fill: #D2E3FC;\n",
              "    }\n",
              "\n",
              "    [theme=dark] .colab-df-convert:hover {\n",
              "      background-color: #434B5C;\n",
              "      box-shadow: 0px 1px 3px 1px rgba(0, 0, 0, 0.15);\n",
              "      filter: drop-shadow(0px 1px 2px rgba(0, 0, 0, 0.3));\n",
              "      fill: #FFFFFF;\n",
              "    }\n",
              "  </style>\n",
              "\n",
              "      <script>\n",
              "        const buttonEl =\n",
              "          document.querySelector('#df-f6671eb4-4d0e-4aec-89e8-a7262b7c7318 button.colab-df-convert');\n",
              "        buttonEl.style.display =\n",
              "          google.colab.kernel.accessAllowed ? 'block' : 'none';\n",
              "\n",
              "        async function convertToInteractive(key) {\n",
              "          const element = document.querySelector('#df-f6671eb4-4d0e-4aec-89e8-a7262b7c7318');\n",
              "          const dataTable =\n",
              "            await google.colab.kernel.invokeFunction('convertToInteractive',\n",
              "                                                     [key], {});\n",
              "          if (!dataTable) return;\n",
              "\n",
              "          const docLinkHtml = 'Like what you see? Visit the ' +\n",
              "            '<a target=\"_blank\" href=https://colab.research.google.com/notebooks/data_table.ipynb>data table notebook</a>'\n",
              "            + ' to learn more about interactive tables.';\n",
              "          element.innerHTML = '';\n",
              "          dataTable['output_type'] = 'display_data';\n",
              "          await google.colab.output.renderOutput(dataTable, element);\n",
              "          const docLink = document.createElement('div');\n",
              "          docLink.innerHTML = docLinkHtml;\n",
              "          element.appendChild(docLink);\n",
              "        }\n",
              "      </script>\n",
              "    </div>\n",
              "  </div>\n",
              "  "
            ],
            "text/plain": [
              "                start_time            end_time  ...  end_lng  usertype\n",
              "0      2020-01-21 20:06:59 2020-01-21 20:14:30  ... -87.6674    member\n",
              "1      2020-01-30 14:22:39 2020-01-30 14:26:22  ... -87.6644    member\n",
              "2      2020-01-09 19:29:26 2020-01-09 19:32:17  ... -87.6530    member\n",
              "3      2020-01-06 16:17:07 2020-01-06 16:25:56  ... -87.6206    member\n",
              "4      2020-01-30 08:37:16 2020-01-30 08:42:48  ... -87.6343    member\n",
              "...                    ...                 ...  ...      ...       ...\n",
              "426882 2020-03-10 10:40:06 2020-03-10 10:40:07  ... -87.6803    casual\n",
              "426883 2020-03-07 15:25:55 2020-03-07 16:14:03  ... -87.6544    member\n",
              "426884 2020-03-01 13:12:38 2020-03-01 13:38:29  ... -87.6677    casual\n",
              "426885 2020-03-07 18:02:45 2020-03-07 18:13:18  ... -87.6223    member\n",
              "426886 2020-03-08 13:03:57 2020-03-08 13:32:27  ... -87.6238    casual\n",
              "\n",
              "[426887 rows x 11 columns]"
            ]
          },
          "metadata": {},
          "execution_count": 16
        }
      ]
    },
    {
      "cell_type": "markdown",
      "metadata": {
        "id": "osp_9x6h1OEe"
      },
      "source": [
        "## Analizar \n",
        "\n",
        "Tareas Clave: \n",
        "\n",
        "1. Agregar tus datos para que sean utiles y accesibles.\n",
        "2. Organizar y darle formato a tus datos.\n",
        "3. Realizar calculos\n",
        "4. Identificar tendencias y relaciones.\n",
        "\n",
        "Entregables. \n",
        "\n",
        "1. Transformación de los datos\n",
        "2. Resumen de Analysis\n",
        "\n",
        "Nota: el punto 1. Transformación de los datos, no viene en dentro de los pasos a seguir en el curso de google pero creo que es conveniente incluirlo a modo de guia didactica\n",
        "\n",
        "\n"
      ]
    },
    {
      "cell_type": "markdown",
      "source": [
        "Los primeros 3 puntos de las tareas quedan agrupadas en la Transformación de datos\n",
        "## 1. Transformación de datos \n",
        "\n",
        "1. Extraemos de `start_time` y `end_time` el tiempo que duraron los viajes del 2020 y lo pasamos a segundos\n",
        "\n",
        "\n",
        "\n"
      ],
      "metadata": {
        "id": "gXlpuQUTYKbg"
      }
    },
    {
      "cell_type": "code",
      "source": [
        "divvy_2020['tripduration [s]']= divvy_2020['end_time']- divvy_2020['start_time']\n",
        "divvy_2020['tripduration [s]']=(divvy_2020['tripduration [s]'].dt.total_seconds())"
      ],
      "metadata": {
        "id": "8UxfkFXKHGj_"
      },
      "execution_count": null,
      "outputs": []
    },
    {
      "cell_type": "markdown",
      "source": [
        "2. Definimos y usamos una funcion que nos permita calcular la distancia entre dos coordenadas de una esfera. Esto con la finalidad de calcular varios parametros en funcion de la distancia\n",
        "\n",
        "Nota: la funcion nos devuele los valores en km"
      ],
      "metadata": {
        "id": "8Befl1yTxDVk"
      }
    },
    {
      "cell_type": "code",
      "source": [
        "def haversine_distance(lat1, lon1, lat2, lon2):\n",
        "   r = 6371\n",
        "   phi1 = np.radians(lat1)\n",
        "   phi2 = np.radians(lat2)\n",
        "   delta_phi = np.radians(lat2 - lat1)\n",
        "   delta_lambda = np.radians(lon2 - lon1)\n",
        "   a = np.sin(delta_phi / 2)**2 + np.cos(phi1) * np.cos(phi2) *   np.sin(delta_lambda / 2)**2\n",
        "   res = r * (2 * np.arctan2(np.sqrt(a), np.sqrt(1 - a)))\n",
        "   return np.round(res, 2)"
      ],
      "metadata": {
        "id": "a3PtM5o4N9s1"
      },
      "execution_count": null,
      "outputs": []
    },
    {
      "cell_type": "markdown",
      "source": [
        "3. Usamos la funcion que definimos para calcular la distancia "
      ],
      "metadata": {
        "id": "RATSB1hWaUlR"
      }
    },
    {
      "cell_type": "code",
      "source": [
        "divvy_2020['distance [km]']= haversine_distance(divvy_2020['start_lat'], divvy_2020['start_lng'],\n",
        "                                              divvy_2020['end_lat'], divvy_2020['end_lng'])"
      ],
      "metadata": {
        "id": "CCMjXwhHOFZf"
      },
      "execution_count": null,
      "outputs": []
    },
    {
      "cell_type": "markdown",
      "source": [
        "4. Calculamos la velocidad en km/h\n",
        "Quiza este dato no sea tan relevante para nuestro analisis pero me dio curiosidad y decidi calcularlo"
      ],
      "metadata": {
        "id": "kmHE5vJkxbnY"
      }
    },
    {
      "cell_type": "code",
      "source": [
        "divvy_2020_q1['speed [km/h]'] = ( divvy_2020_q1['distance [km]'] / divvy_2020_q1['tripduration [s]']) * 3600\n"
      ],
      "metadata": {
        "id": "E990RQXbQEZ7"
      },
      "execution_count": null,
      "outputs": []
    },
    {
      "cell_type": "markdown",
      "source": [
        "5. Creamos una columna para revisar si el viaje es redondo o no. \n",
        "\n",
        "Esto nos puede ayudar para saber que tipo de viajes hacen nuestros usuarios"
      ],
      "metadata": {
        "id": "6J3DKzlyxrJP"
      }
    },
    {
      "cell_type": "code",
      "source": [
        "divvy_2020['triptype'] = np.where(divvy_2020['distance [km]']==0.0, 'round trip', 'two points trip')"
      ],
      "metadata": {
        "id": "PzauYtr3QkXp"
      },
      "execution_count": null,
      "outputs": []
    },
    {
      "cell_type": "markdown",
      "source": [
        "6. Extrairemos en de los dataframes de 2020 y 2019 el dia de la semana, el mes, y la hora en la que se uso el servicio"
      ],
      "metadata": {
        "id": "hotMYTsYddGM"
      }
    },
    {
      "cell_type": "code",
      "source": [
        "divvy_2020['day_of_week'] = divvy_2020['start_time'].dt.day_name()\n",
        "divvy_2019['day_of_week'] = divvy_2019['start_time'].dt.day_name()\n",
        "divvy_2020['hour'] = divvy_2020['start_time'].dt.hour\n",
        "divvy_2019['hour'] = divvy_2019['start_time'].dt.hour\n",
        "divvy_2019['month'] = divvy_2019['start_time'].dt.month_name()\n",
        "divvy_2020['month'] = divvy_2020['start_time'].dt.month_name()"
      ],
      "metadata": {
        "id": "ROS6GLHiV00C"
      },
      "execution_count": null,
      "outputs": []
    },
    {
      "cell_type": "markdown",
      "source": [
        "7. Nos aseguramos que no tengamos valores negativos donde solamente debemos de tener valores positivos como la duración del viaje}\n",
        "\n",
        "De esto nos dimos cuenta debido a que antes de hacerlo, en el boxplot del tripduration [s] en los causuales habia valores negativos cosa que no debia suceder haciendo un analisis teniamos filas donde el viaje comenzaba despues de que iniciara esto a de ser un error en el sensor o algo por el estilo por eso removemos estos datos con la siguiente condicción."
      ],
      "metadata": {
        "id": "UOSpnW_EMvx4"
      }
    },
    {
      "cell_type": "code",
      "source": [
        "divvy_2020 = divvy_2020[divvy_2020['tripduration [s]'] >= 0]"
      ],
      "metadata": {
        "id": "yDMD-q-uMu8M"
      },
      "execution_count": null,
      "outputs": []
    },
    {
      "cell_type": "markdown",
      "source": [
        "Con esto finalizamos la seccion 1. Transformación de datos quedando de la siguiente manera nuestros dataframes"
      ],
      "metadata": {
        "id": "eE7uOZtHe3m9"
      }
    },
    {
      "cell_type": "code",
      "source": [
        "divvy_2019"
      ],
      "metadata": {
        "colab": {
          "base_uri": "https://localhost:8080/",
          "height": 641
        },
        "id": "AEL3EWXefAgR",
        "outputId": "e77dbf55-937a-4845-f03c-c4683bbde3af"
      },
      "execution_count": null,
      "outputs": [
        {
          "output_type": "execute_result",
          "data": {
            "text/html": [
              "\n",
              "  <div id=\"df-7666680d-d4b8-4fef-8c88-8739b9f149ad\">\n",
              "    <div class=\"colab-df-container\">\n",
              "      <div>\n",
              "<style scoped>\n",
              "    .dataframe tbody tr th:only-of-type {\n",
              "        vertical-align: middle;\n",
              "    }\n",
              "\n",
              "    .dataframe tbody tr th {\n",
              "        vertical-align: top;\n",
              "    }\n",
              "\n",
              "    .dataframe thead th {\n",
              "        text-align: right;\n",
              "    }\n",
              "</style>\n",
              "<table border=\"1\" class=\"dataframe\">\n",
              "  <thead>\n",
              "    <tr style=\"text-align: right;\">\n",
              "      <th></th>\n",
              "      <th>start_time</th>\n",
              "      <th>end_time</th>\n",
              "      <th>tripduration</th>\n",
              "      <th>from_station_id</th>\n",
              "      <th>from_station_name</th>\n",
              "      <th>to_station_id</th>\n",
              "      <th>to_station_name</th>\n",
              "      <th>usertype</th>\n",
              "      <th>gender</th>\n",
              "      <th>birthyear</th>\n",
              "      <th>day_of_week</th>\n",
              "      <th>hour</th>\n",
              "      <th>month</th>\n",
              "    </tr>\n",
              "  </thead>\n",
              "  <tbody>\n",
              "    <tr>\n",
              "      <th>0</th>\n",
              "      <td>2019-04-01 00:02:22</td>\n",
              "      <td>2019-04-01 00:09:48</td>\n",
              "      <td>446.0</td>\n",
              "      <td>81</td>\n",
              "      <td>Daley Center Plaza</td>\n",
              "      <td>56</td>\n",
              "      <td>Desplaines St &amp; Kinzie St</td>\n",
              "      <td>member</td>\n",
              "      <td>Male</td>\n",
              "      <td>1975.0</td>\n",
              "      <td>Monday</td>\n",
              "      <td>0</td>\n",
              "      <td>April</td>\n",
              "    </tr>\n",
              "    <tr>\n",
              "      <th>1</th>\n",
              "      <td>2019-04-01 00:03:02</td>\n",
              "      <td>2019-04-01 00:20:30</td>\n",
              "      <td>1,048.0</td>\n",
              "      <td>317</td>\n",
              "      <td>Wood St &amp; Taylor St</td>\n",
              "      <td>59</td>\n",
              "      <td>Wabash Ave &amp; Roosevelt Rd</td>\n",
              "      <td>member</td>\n",
              "      <td>Female</td>\n",
              "      <td>1984.0</td>\n",
              "      <td>Monday</td>\n",
              "      <td>0</td>\n",
              "      <td>April</td>\n",
              "    </tr>\n",
              "    <tr>\n",
              "      <th>2</th>\n",
              "      <td>2019-04-01 00:11:07</td>\n",
              "      <td>2019-04-01 00:15:19</td>\n",
              "      <td>252.0</td>\n",
              "      <td>283</td>\n",
              "      <td>LaSalle St &amp; Jackson Blvd</td>\n",
              "      <td>174</td>\n",
              "      <td>Canal St &amp; Madison St</td>\n",
              "      <td>member</td>\n",
              "      <td>Male</td>\n",
              "      <td>1990.0</td>\n",
              "      <td>Monday</td>\n",
              "      <td>0</td>\n",
              "      <td>April</td>\n",
              "    </tr>\n",
              "    <tr>\n",
              "      <th>3</th>\n",
              "      <td>2019-04-01 00:13:01</td>\n",
              "      <td>2019-04-01 00:18:58</td>\n",
              "      <td>357.0</td>\n",
              "      <td>26</td>\n",
              "      <td>McClurg Ct &amp; Illinois St</td>\n",
              "      <td>133</td>\n",
              "      <td>Kingsbury St &amp; Kinzie St</td>\n",
              "      <td>member</td>\n",
              "      <td>Male</td>\n",
              "      <td>1993.0</td>\n",
              "      <td>Monday</td>\n",
              "      <td>0</td>\n",
              "      <td>April</td>\n",
              "    </tr>\n",
              "    <tr>\n",
              "      <th>4</th>\n",
              "      <td>2019-04-01 00:19:26</td>\n",
              "      <td>2019-04-01 00:36:13</td>\n",
              "      <td>1,007.0</td>\n",
              "      <td>202</td>\n",
              "      <td>Halsted St &amp; 18th St</td>\n",
              "      <td>129</td>\n",
              "      <td>Blue Island Ave &amp; 18th St</td>\n",
              "      <td>member</td>\n",
              "      <td>Male</td>\n",
              "      <td>1992.0</td>\n",
              "      <td>Monday</td>\n",
              "      <td>0</td>\n",
              "      <td>April</td>\n",
              "    </tr>\n",
              "    <tr>\n",
              "      <th>...</th>\n",
              "      <td>...</td>\n",
              "      <td>...</td>\n",
              "      <td>...</td>\n",
              "      <td>...</td>\n",
              "      <td>...</td>\n",
              "      <td>...</td>\n",
              "      <td>...</td>\n",
              "      <td>...</td>\n",
              "      <td>...</td>\n",
              "      <td>...</td>\n",
              "      <td>...</td>\n",
              "      <td>...</td>\n",
              "      <td>...</td>\n",
              "    </tr>\n",
              "    <tr>\n",
              "      <th>3452930</th>\n",
              "      <td>2019-12-31 23:56:13</td>\n",
              "      <td>2020-01-01 00:15:45</td>\n",
              "      <td>1,172.0</td>\n",
              "      <td>112</td>\n",
              "      <td>Green St &amp; Randolph St</td>\n",
              "      <td>225</td>\n",
              "      <td>Halsted St &amp; Dickens Ave</td>\n",
              "      <td>member</td>\n",
              "      <td>Male</td>\n",
              "      <td>1981.0</td>\n",
              "      <td>Tuesday</td>\n",
              "      <td>23</td>\n",
              "      <td>December</td>\n",
              "    </tr>\n",
              "    <tr>\n",
              "      <th>3452931</th>\n",
              "      <td>2019-12-31 23:56:34</td>\n",
              "      <td>2020-01-01 00:22:08</td>\n",
              "      <td>1,533.0</td>\n",
              "      <td>90</td>\n",
              "      <td>Millennium Park</td>\n",
              "      <td>90</td>\n",
              "      <td>Millennium Park</td>\n",
              "      <td>member</td>\n",
              "      <td>Male</td>\n",
              "      <td>1992.0</td>\n",
              "      <td>Tuesday</td>\n",
              "      <td>23</td>\n",
              "      <td>December</td>\n",
              "    </tr>\n",
              "    <tr>\n",
              "      <th>3452932</th>\n",
              "      <td>2019-12-31 23:57:05</td>\n",
              "      <td>2020-01-01 00:05:46</td>\n",
              "      <td>520.0</td>\n",
              "      <td>623</td>\n",
              "      <td>Michigan Ave &amp; 8th St</td>\n",
              "      <td>52</td>\n",
              "      <td>Michigan Ave &amp; Lake St</td>\n",
              "      <td>member</td>\n",
              "      <td>Male</td>\n",
              "      <td>1967.0</td>\n",
              "      <td>Tuesday</td>\n",
              "      <td>23</td>\n",
              "      <td>December</td>\n",
              "    </tr>\n",
              "    <tr>\n",
              "      <th>3452933</th>\n",
              "      <td>2019-12-31 23:57:11</td>\n",
              "      <td>2020-01-01 00:05:45</td>\n",
              "      <td>514.0</td>\n",
              "      <td>623</td>\n",
              "      <td>Michigan Ave &amp; 8th St</td>\n",
              "      <td>52</td>\n",
              "      <td>Michigan Ave &amp; Lake St</td>\n",
              "      <td>member</td>\n",
              "      <td>Female</td>\n",
              "      <td>1970.0</td>\n",
              "      <td>Tuesday</td>\n",
              "      <td>23</td>\n",
              "      <td>December</td>\n",
              "    </tr>\n",
              "    <tr>\n",
              "      <th>3452934</th>\n",
              "      <td>2019-12-31 23:57:17</td>\n",
              "      <td>2019-12-31 23:59:18</td>\n",
              "      <td>120.0</td>\n",
              "      <td>256</td>\n",
              "      <td>Broadway &amp; Sheridan Rd</td>\n",
              "      <td>240</td>\n",
              "      <td>Sheridan Rd &amp; Irving Park Rd</td>\n",
              "      <td>member</td>\n",
              "      <td>Male</td>\n",
              "      <td>1982.0</td>\n",
              "      <td>Tuesday</td>\n",
              "      <td>23</td>\n",
              "      <td>December</td>\n",
              "    </tr>\n",
              "  </tbody>\n",
              "</table>\n",
              "<p>2913439 rows × 13 columns</p>\n",
              "</div>\n",
              "      <button class=\"colab-df-convert\" onclick=\"convertToInteractive('df-7666680d-d4b8-4fef-8c88-8739b9f149ad')\"\n",
              "              title=\"Convert this dataframe to an interactive table.\"\n",
              "              style=\"display:none;\">\n",
              "        \n",
              "  <svg xmlns=\"http://www.w3.org/2000/svg\" height=\"24px\"viewBox=\"0 0 24 24\"\n",
              "       width=\"24px\">\n",
              "    <path d=\"M0 0h24v24H0V0z\" fill=\"none\"/>\n",
              "    <path d=\"M18.56 5.44l.94 2.06.94-2.06 2.06-.94-2.06-.94-.94-2.06-.94 2.06-2.06.94zm-11 1L8.5 8.5l.94-2.06 2.06-.94-2.06-.94L8.5 2.5l-.94 2.06-2.06.94zm10 10l.94 2.06.94-2.06 2.06-.94-2.06-.94-.94-2.06-.94 2.06-2.06.94z\"/><path d=\"M17.41 7.96l-1.37-1.37c-.4-.4-.92-.59-1.43-.59-.52 0-1.04.2-1.43.59L10.3 9.45l-7.72 7.72c-.78.78-.78 2.05 0 2.83L4 21.41c.39.39.9.59 1.41.59.51 0 1.02-.2 1.41-.59l7.78-7.78 2.81-2.81c.8-.78.8-2.07 0-2.86zM5.41 20L4 18.59l7.72-7.72 1.47 1.35L5.41 20z\"/>\n",
              "  </svg>\n",
              "      </button>\n",
              "      \n",
              "  <style>\n",
              "    .colab-df-container {\n",
              "      display:flex;\n",
              "      flex-wrap:wrap;\n",
              "      gap: 12px;\n",
              "    }\n",
              "\n",
              "    .colab-df-convert {\n",
              "      background-color: #E8F0FE;\n",
              "      border: none;\n",
              "      border-radius: 50%;\n",
              "      cursor: pointer;\n",
              "      display: none;\n",
              "      fill: #1967D2;\n",
              "      height: 32px;\n",
              "      padding: 0 0 0 0;\n",
              "      width: 32px;\n",
              "    }\n",
              "\n",
              "    .colab-df-convert:hover {\n",
              "      background-color: #E2EBFA;\n",
              "      box-shadow: 0px 1px 2px rgba(60, 64, 67, 0.3), 0px 1px 3px 1px rgba(60, 64, 67, 0.15);\n",
              "      fill: #174EA6;\n",
              "    }\n",
              "\n",
              "    [theme=dark] .colab-df-convert {\n",
              "      background-color: #3B4455;\n",
              "      fill: #D2E3FC;\n",
              "    }\n",
              "\n",
              "    [theme=dark] .colab-df-convert:hover {\n",
              "      background-color: #434B5C;\n",
              "      box-shadow: 0px 1px 3px 1px rgba(0, 0, 0, 0.15);\n",
              "      filter: drop-shadow(0px 1px 2px rgba(0, 0, 0, 0.3));\n",
              "      fill: #FFFFFF;\n",
              "    }\n",
              "  </style>\n",
              "\n",
              "      <script>\n",
              "        const buttonEl =\n",
              "          document.querySelector('#df-7666680d-d4b8-4fef-8c88-8739b9f149ad button.colab-df-convert');\n",
              "        buttonEl.style.display =\n",
              "          google.colab.kernel.accessAllowed ? 'block' : 'none';\n",
              "\n",
              "        async function convertToInteractive(key) {\n",
              "          const element = document.querySelector('#df-7666680d-d4b8-4fef-8c88-8739b9f149ad');\n",
              "          const dataTable =\n",
              "            await google.colab.kernel.invokeFunction('convertToInteractive',\n",
              "                                                     [key], {});\n",
              "          if (!dataTable) return;\n",
              "\n",
              "          const docLinkHtml = 'Like what you see? Visit the ' +\n",
              "            '<a target=\"_blank\" href=https://colab.research.google.com/notebooks/data_table.ipynb>data table notebook</a>'\n",
              "            + ' to learn more about interactive tables.';\n",
              "          element.innerHTML = '';\n",
              "          dataTable['output_type'] = 'display_data';\n",
              "          await google.colab.output.renderOutput(dataTable, element);\n",
              "          const docLink = document.createElement('div');\n",
              "          docLink.innerHTML = docLinkHtml;\n",
              "          element.appendChild(docLink);\n",
              "        }\n",
              "      </script>\n",
              "    </div>\n",
              "  </div>\n",
              "  "
            ],
            "text/plain": [
              "                 start_time             end_time  ... hour     month\n",
              "0       2019-04-01 00:02:22  2019-04-01 00:09:48  ...    0     April\n",
              "1       2019-04-01 00:03:02  2019-04-01 00:20:30  ...    0     April\n",
              "2       2019-04-01 00:11:07  2019-04-01 00:15:19  ...    0     April\n",
              "3       2019-04-01 00:13:01  2019-04-01 00:18:58  ...    0     April\n",
              "4       2019-04-01 00:19:26  2019-04-01 00:36:13  ...    0     April\n",
              "...                     ...                  ...  ...  ...       ...\n",
              "3452930 2019-12-31 23:56:13  2020-01-01 00:15:45  ...   23  December\n",
              "3452931 2019-12-31 23:56:34  2020-01-01 00:22:08  ...   23  December\n",
              "3452932 2019-12-31 23:57:05  2020-01-01 00:05:46  ...   23  December\n",
              "3452933 2019-12-31 23:57:11  2020-01-01 00:05:45  ...   23  December\n",
              "3452934 2019-12-31 23:57:17  2019-12-31 23:59:18  ...   23  December\n",
              "\n",
              "[2913439 rows x 13 columns]"
            ]
          },
          "metadata": {},
          "execution_count": 24
        }
      ]
    },
    {
      "cell_type": "code",
      "source": [
        "divvy_2020"
      ],
      "metadata": {
        "colab": {
          "base_uri": "https://localhost:8080/",
          "height": 852
        },
        "id": "jxX_BuZ6fCae",
        "outputId": "4639c3f9-4142-46ec-d4c7-7f3bdda5f2c7"
      },
      "execution_count": null,
      "outputs": [
        {
          "output_type": "execute_result",
          "data": {
            "text/html": [
              "\n",
              "  <div id=\"df-b07dc110-b8fc-4ee3-b04e-e2a3a7dbe03e\">\n",
              "    <div class=\"colab-df-container\">\n",
              "      <div>\n",
              "<style scoped>\n",
              "    .dataframe tbody tr th:only-of-type {\n",
              "        vertical-align: middle;\n",
              "    }\n",
              "\n",
              "    .dataframe tbody tr th {\n",
              "        vertical-align: top;\n",
              "    }\n",
              "\n",
              "    .dataframe thead th {\n",
              "        text-align: right;\n",
              "    }\n",
              "</style>\n",
              "<table border=\"1\" class=\"dataframe\">\n",
              "  <thead>\n",
              "    <tr style=\"text-align: right;\">\n",
              "      <th></th>\n",
              "      <th>start_time</th>\n",
              "      <th>end_time</th>\n",
              "      <th>from_station_name</th>\n",
              "      <th>from_station_id</th>\n",
              "      <th>to_station_name</th>\n",
              "      <th>to_station_id</th>\n",
              "      <th>start_lat</th>\n",
              "      <th>start_lng</th>\n",
              "      <th>end_lat</th>\n",
              "      <th>end_lng</th>\n",
              "      <th>usertype</th>\n",
              "      <th>tripduration [s]</th>\n",
              "      <th>distance [km]</th>\n",
              "      <th>speed [km/h]</th>\n",
              "      <th>triptype</th>\n",
              "      <th>day_of_week</th>\n",
              "      <th>hour</th>\n",
              "      <th>month</th>\n",
              "    </tr>\n",
              "  </thead>\n",
              "  <tbody>\n",
              "    <tr>\n",
              "      <th>0</th>\n",
              "      <td>2020-01-21 20:06:59</td>\n",
              "      <td>2020-01-21 20:14:30</td>\n",
              "      <td>Western Ave &amp; Leland Ave</td>\n",
              "      <td>239</td>\n",
              "      <td>Clark St &amp; Leland Ave</td>\n",
              "      <td>326.0</td>\n",
              "      <td>41.9665</td>\n",
              "      <td>-87.6884</td>\n",
              "      <td>41.9671</td>\n",
              "      <td>-87.6674</td>\n",
              "      <td>member</td>\n",
              "      <td>451.0</td>\n",
              "      <td>1.74</td>\n",
              "      <td>13.889135</td>\n",
              "      <td>two points trip</td>\n",
              "      <td>Tuesday</td>\n",
              "      <td>20</td>\n",
              "      <td>January</td>\n",
              "    </tr>\n",
              "    <tr>\n",
              "      <th>1</th>\n",
              "      <td>2020-01-30 14:22:39</td>\n",
              "      <td>2020-01-30 14:26:22</td>\n",
              "      <td>Clark St &amp; Montrose Ave</td>\n",
              "      <td>234</td>\n",
              "      <td>Southport Ave &amp; Irving Park Rd</td>\n",
              "      <td>318.0</td>\n",
              "      <td>41.9616</td>\n",
              "      <td>-87.6660</td>\n",
              "      <td>41.9542</td>\n",
              "      <td>-87.6644</td>\n",
              "      <td>member</td>\n",
              "      <td>223.0</td>\n",
              "      <td>0.83</td>\n",
              "      <td>13.399103</td>\n",
              "      <td>two points trip</td>\n",
              "      <td>Thursday</td>\n",
              "      <td>14</td>\n",
              "      <td>January</td>\n",
              "    </tr>\n",
              "    <tr>\n",
              "      <th>2</th>\n",
              "      <td>2020-01-09 19:29:26</td>\n",
              "      <td>2020-01-09 19:32:17</td>\n",
              "      <td>Broadway &amp; Belmont Ave</td>\n",
              "      <td>296</td>\n",
              "      <td>Wilton Ave &amp; Belmont Ave</td>\n",
              "      <td>117.0</td>\n",
              "      <td>41.9401</td>\n",
              "      <td>-87.6455</td>\n",
              "      <td>41.9402</td>\n",
              "      <td>-87.6530</td>\n",
              "      <td>member</td>\n",
              "      <td>171.0</td>\n",
              "      <td>0.62</td>\n",
              "      <td>13.052632</td>\n",
              "      <td>two points trip</td>\n",
              "      <td>Thursday</td>\n",
              "      <td>19</td>\n",
              "      <td>January</td>\n",
              "    </tr>\n",
              "    <tr>\n",
              "      <th>3</th>\n",
              "      <td>2020-01-06 16:17:07</td>\n",
              "      <td>2020-01-06 16:25:56</td>\n",
              "      <td>Clark St &amp; Randolph St</td>\n",
              "      <td>51</td>\n",
              "      <td>Fairbanks Ct &amp; Grand Ave</td>\n",
              "      <td>24.0</td>\n",
              "      <td>41.8846</td>\n",
              "      <td>-87.6319</td>\n",
              "      <td>41.8918</td>\n",
              "      <td>-87.6206</td>\n",
              "      <td>member</td>\n",
              "      <td>529.0</td>\n",
              "      <td>1.23</td>\n",
              "      <td>8.370510</td>\n",
              "      <td>two points trip</td>\n",
              "      <td>Monday</td>\n",
              "      <td>16</td>\n",
              "      <td>January</td>\n",
              "    </tr>\n",
              "    <tr>\n",
              "      <th>4</th>\n",
              "      <td>2020-01-30 08:37:16</td>\n",
              "      <td>2020-01-30 08:42:48</td>\n",
              "      <td>Clinton St &amp; Lake St</td>\n",
              "      <td>66</td>\n",
              "      <td>Wells St &amp; Hubbard St</td>\n",
              "      <td>212.0</td>\n",
              "      <td>41.8856</td>\n",
              "      <td>-87.6418</td>\n",
              "      <td>41.8899</td>\n",
              "      <td>-87.6343</td>\n",
              "      <td>member</td>\n",
              "      <td>332.0</td>\n",
              "      <td>0.78</td>\n",
              "      <td>8.457831</td>\n",
              "      <td>two points trip</td>\n",
              "      <td>Thursday</td>\n",
              "      <td>8</td>\n",
              "      <td>January</td>\n",
              "    </tr>\n",
              "    <tr>\n",
              "      <th>...</th>\n",
              "      <td>...</td>\n",
              "      <td>...</td>\n",
              "      <td>...</td>\n",
              "      <td>...</td>\n",
              "      <td>...</td>\n",
              "      <td>...</td>\n",
              "      <td>...</td>\n",
              "      <td>...</td>\n",
              "      <td>...</td>\n",
              "      <td>...</td>\n",
              "      <td>...</td>\n",
              "      <td>...</td>\n",
              "      <td>...</td>\n",
              "      <td>...</td>\n",
              "      <td>...</td>\n",
              "      <td>...</td>\n",
              "      <td>...</td>\n",
              "      <td>...</td>\n",
              "    </tr>\n",
              "    <tr>\n",
              "      <th>426882</th>\n",
              "      <td>2020-03-10 10:40:06</td>\n",
              "      <td>2020-03-10 10:40:07</td>\n",
              "      <td>HQ QR</td>\n",
              "      <td>675</td>\n",
              "      <td>HQ QR</td>\n",
              "      <td>675.0</td>\n",
              "      <td>41.8899</td>\n",
              "      <td>-87.6803</td>\n",
              "      <td>41.8899</td>\n",
              "      <td>-87.6803</td>\n",
              "      <td>casual</td>\n",
              "      <td>1.0</td>\n",
              "      <td>0.00</td>\n",
              "      <td>0.000000</td>\n",
              "      <td>round trip</td>\n",
              "      <td>Tuesday</td>\n",
              "      <td>10</td>\n",
              "      <td>March</td>\n",
              "    </tr>\n",
              "    <tr>\n",
              "      <th>426883</th>\n",
              "      <td>2020-03-07 15:25:55</td>\n",
              "      <td>2020-03-07 16:14:03</td>\n",
              "      <td>Rush St &amp; Superior St</td>\n",
              "      <td>161</td>\n",
              "      <td>Sheridan Rd &amp; Irving Park Rd</td>\n",
              "      <td>240.0</td>\n",
              "      <td>41.8958</td>\n",
              "      <td>-87.6259</td>\n",
              "      <td>41.9542</td>\n",
              "      <td>-87.6544</td>\n",
              "      <td>member</td>\n",
              "      <td>2888.0</td>\n",
              "      <td>6.91</td>\n",
              "      <td>8.613573</td>\n",
              "      <td>two points trip</td>\n",
              "      <td>Saturday</td>\n",
              "      <td>15</td>\n",
              "      <td>March</td>\n",
              "    </tr>\n",
              "    <tr>\n",
              "      <th>426884</th>\n",
              "      <td>2020-03-01 13:12:38</td>\n",
              "      <td>2020-03-01 13:38:29</td>\n",
              "      <td>Clark St &amp; Lincoln Ave</td>\n",
              "      <td>141</td>\n",
              "      <td>Ashland Ave &amp; Division St</td>\n",
              "      <td>210.0</td>\n",
              "      <td>41.9157</td>\n",
              "      <td>-87.6346</td>\n",
              "      <td>41.9035</td>\n",
              "      <td>-87.6677</td>\n",
              "      <td>casual</td>\n",
              "      <td>1551.0</td>\n",
              "      <td>3.06</td>\n",
              "      <td>7.102515</td>\n",
              "      <td>two points trip</td>\n",
              "      <td>Sunday</td>\n",
              "      <td>13</td>\n",
              "      <td>March</td>\n",
              "    </tr>\n",
              "    <tr>\n",
              "      <th>426885</th>\n",
              "      <td>2020-03-07 18:02:45</td>\n",
              "      <td>2020-03-07 18:13:18</td>\n",
              "      <td>Franklin St &amp; Illinois St</td>\n",
              "      <td>672</td>\n",
              "      <td>Stetson Ave &amp; South Water St</td>\n",
              "      <td>264.0</td>\n",
              "      <td>41.8910</td>\n",
              "      <td>-87.6355</td>\n",
              "      <td>41.8868</td>\n",
              "      <td>-87.6223</td>\n",
              "      <td>member</td>\n",
              "      <td>633.0</td>\n",
              "      <td>1.19</td>\n",
              "      <td>6.767773</td>\n",
              "      <td>two points trip</td>\n",
              "      <td>Saturday</td>\n",
              "      <td>18</td>\n",
              "      <td>March</td>\n",
              "    </tr>\n",
              "    <tr>\n",
              "      <th>426886</th>\n",
              "      <td>2020-03-08 13:03:57</td>\n",
              "      <td>2020-03-08 13:32:27</td>\n",
              "      <td>Dearborn St &amp; Erie St</td>\n",
              "      <td>110</td>\n",
              "      <td>Michigan Ave &amp; Oak St</td>\n",
              "      <td>85.0</td>\n",
              "      <td>41.8940</td>\n",
              "      <td>-87.6293</td>\n",
              "      <td>41.9010</td>\n",
              "      <td>-87.6238</td>\n",
              "      <td>casual</td>\n",
              "      <td>1710.0</td>\n",
              "      <td>0.90</td>\n",
              "      <td>1.894737</td>\n",
              "      <td>two points trip</td>\n",
              "      <td>Sunday</td>\n",
              "      <td>13</td>\n",
              "      <td>March</td>\n",
              "    </tr>\n",
              "  </tbody>\n",
              "</table>\n",
              "<p>426770 rows × 18 columns</p>\n",
              "</div>\n",
              "      <button class=\"colab-df-convert\" onclick=\"convertToInteractive('df-b07dc110-b8fc-4ee3-b04e-e2a3a7dbe03e')\"\n",
              "              title=\"Convert this dataframe to an interactive table.\"\n",
              "              style=\"display:none;\">\n",
              "        \n",
              "  <svg xmlns=\"http://www.w3.org/2000/svg\" height=\"24px\"viewBox=\"0 0 24 24\"\n",
              "       width=\"24px\">\n",
              "    <path d=\"M0 0h24v24H0V0z\" fill=\"none\"/>\n",
              "    <path d=\"M18.56 5.44l.94 2.06.94-2.06 2.06-.94-2.06-.94-.94-2.06-.94 2.06-2.06.94zm-11 1L8.5 8.5l.94-2.06 2.06-.94-2.06-.94L8.5 2.5l-.94 2.06-2.06.94zm10 10l.94 2.06.94-2.06 2.06-.94-2.06-.94-.94-2.06-.94 2.06-2.06.94z\"/><path d=\"M17.41 7.96l-1.37-1.37c-.4-.4-.92-.59-1.43-.59-.52 0-1.04.2-1.43.59L10.3 9.45l-7.72 7.72c-.78.78-.78 2.05 0 2.83L4 21.41c.39.39.9.59 1.41.59.51 0 1.02-.2 1.41-.59l7.78-7.78 2.81-2.81c.8-.78.8-2.07 0-2.86zM5.41 20L4 18.59l7.72-7.72 1.47 1.35L5.41 20z\"/>\n",
              "  </svg>\n",
              "      </button>\n",
              "      \n",
              "  <style>\n",
              "    .colab-df-container {\n",
              "      display:flex;\n",
              "      flex-wrap:wrap;\n",
              "      gap: 12px;\n",
              "    }\n",
              "\n",
              "    .colab-df-convert {\n",
              "      background-color: #E8F0FE;\n",
              "      border: none;\n",
              "      border-radius: 50%;\n",
              "      cursor: pointer;\n",
              "      display: none;\n",
              "      fill: #1967D2;\n",
              "      height: 32px;\n",
              "      padding: 0 0 0 0;\n",
              "      width: 32px;\n",
              "    }\n",
              "\n",
              "    .colab-df-convert:hover {\n",
              "      background-color: #E2EBFA;\n",
              "      box-shadow: 0px 1px 2px rgba(60, 64, 67, 0.3), 0px 1px 3px 1px rgba(60, 64, 67, 0.15);\n",
              "      fill: #174EA6;\n",
              "    }\n",
              "\n",
              "    [theme=dark] .colab-df-convert {\n",
              "      background-color: #3B4455;\n",
              "      fill: #D2E3FC;\n",
              "    }\n",
              "\n",
              "    [theme=dark] .colab-df-convert:hover {\n",
              "      background-color: #434B5C;\n",
              "      box-shadow: 0px 1px 3px 1px rgba(0, 0, 0, 0.15);\n",
              "      filter: drop-shadow(0px 1px 2px rgba(0, 0, 0, 0.3));\n",
              "      fill: #FFFFFF;\n",
              "    }\n",
              "  </style>\n",
              "\n",
              "      <script>\n",
              "        const buttonEl =\n",
              "          document.querySelector('#df-b07dc110-b8fc-4ee3-b04e-e2a3a7dbe03e button.colab-df-convert');\n",
              "        buttonEl.style.display =\n",
              "          google.colab.kernel.accessAllowed ? 'block' : 'none';\n",
              "\n",
              "        async function convertToInteractive(key) {\n",
              "          const element = document.querySelector('#df-b07dc110-b8fc-4ee3-b04e-e2a3a7dbe03e');\n",
              "          const dataTable =\n",
              "            await google.colab.kernel.invokeFunction('convertToInteractive',\n",
              "                                                     [key], {});\n",
              "          if (!dataTable) return;\n",
              "\n",
              "          const docLinkHtml = 'Like what you see? Visit the ' +\n",
              "            '<a target=\"_blank\" href=https://colab.research.google.com/notebooks/data_table.ipynb>data table notebook</a>'\n",
              "            + ' to learn more about interactive tables.';\n",
              "          element.innerHTML = '';\n",
              "          dataTable['output_type'] = 'display_data';\n",
              "          await google.colab.output.renderOutput(dataTable, element);\n",
              "          const docLink = document.createElement('div');\n",
              "          docLink.innerHTML = docLinkHtml;\n",
              "          element.appendChild(docLink);\n",
              "        }\n",
              "      </script>\n",
              "    </div>\n",
              "  </div>\n",
              "  "
            ],
            "text/plain": [
              "                start_time            end_time  ... hour    month\n",
              "0      2020-01-21 20:06:59 2020-01-21 20:14:30  ...   20  January\n",
              "1      2020-01-30 14:22:39 2020-01-30 14:26:22  ...   14  January\n",
              "2      2020-01-09 19:29:26 2020-01-09 19:32:17  ...   19  January\n",
              "3      2020-01-06 16:17:07 2020-01-06 16:25:56  ...   16  January\n",
              "4      2020-01-30 08:37:16 2020-01-30 08:42:48  ...    8  January\n",
              "...                    ...                 ...  ...  ...      ...\n",
              "426882 2020-03-10 10:40:06 2020-03-10 10:40:07  ...   10    March\n",
              "426883 2020-03-07 15:25:55 2020-03-07 16:14:03  ...   15    March\n",
              "426884 2020-03-01 13:12:38 2020-03-01 13:38:29  ...   13    March\n",
              "426885 2020-03-07 18:02:45 2020-03-07 18:13:18  ...   18    March\n",
              "426886 2020-03-08 13:03:57 2020-03-08 13:32:27  ...   13    March\n",
              "\n",
              "[426770 rows x 18 columns]"
            ]
          },
          "metadata": {},
          "execution_count": 25
        }
      ]
    },
    {
      "cell_type": "markdown",
      "source": [
        "### 2. Resumen de Analisis\n",
        "\n",
        "Vamos a comenzar con el analisis del 2019"
      ],
      "metadata": {
        "id": "KYWlqAf5fOME"
      }
    },
    {
      "cell_type": "code",
      "source": [
        "divvy_2019.head()"
      ],
      "metadata": {
        "colab": {
          "base_uri": "https://localhost:8080/",
          "height": 337
        },
        "id": "wW3H7Z2gnrE3",
        "outputId": "a9f0d41b-048a-4491-d8d6-c397215113a3"
      },
      "execution_count": null,
      "outputs": [
        {
          "output_type": "execute_result",
          "data": {
            "text/html": [
              "\n",
              "  <div id=\"df-b1290dc5-6248-4896-a2eb-0e43f3fd246d\">\n",
              "    <div class=\"colab-df-container\">\n",
              "      <div>\n",
              "<style scoped>\n",
              "    .dataframe tbody tr th:only-of-type {\n",
              "        vertical-align: middle;\n",
              "    }\n",
              "\n",
              "    .dataframe tbody tr th {\n",
              "        vertical-align: top;\n",
              "    }\n",
              "\n",
              "    .dataframe thead th {\n",
              "        text-align: right;\n",
              "    }\n",
              "</style>\n",
              "<table border=\"1\" class=\"dataframe\">\n",
              "  <thead>\n",
              "    <tr style=\"text-align: right;\">\n",
              "      <th></th>\n",
              "      <th>start_time</th>\n",
              "      <th>end_time</th>\n",
              "      <th>tripduration</th>\n",
              "      <th>from_station_id</th>\n",
              "      <th>from_station_name</th>\n",
              "      <th>to_station_id</th>\n",
              "      <th>to_station_name</th>\n",
              "      <th>usertype</th>\n",
              "      <th>gender</th>\n",
              "      <th>birthyear</th>\n",
              "      <th>day_of_week</th>\n",
              "      <th>hour</th>\n",
              "      <th>month</th>\n",
              "    </tr>\n",
              "  </thead>\n",
              "  <tbody>\n",
              "    <tr>\n",
              "      <th>0</th>\n",
              "      <td>2019-04-01 00:02:22</td>\n",
              "      <td>2019-04-01 00:09:48</td>\n",
              "      <td>446.0</td>\n",
              "      <td>81</td>\n",
              "      <td>Daley Center Plaza</td>\n",
              "      <td>56</td>\n",
              "      <td>Desplaines St &amp; Kinzie St</td>\n",
              "      <td>member</td>\n",
              "      <td>Male</td>\n",
              "      <td>1975.0</td>\n",
              "      <td>Monday</td>\n",
              "      <td>0</td>\n",
              "      <td>April</td>\n",
              "    </tr>\n",
              "    <tr>\n",
              "      <th>1</th>\n",
              "      <td>2019-04-01 00:03:02</td>\n",
              "      <td>2019-04-01 00:20:30</td>\n",
              "      <td>1,048.0</td>\n",
              "      <td>317</td>\n",
              "      <td>Wood St &amp; Taylor St</td>\n",
              "      <td>59</td>\n",
              "      <td>Wabash Ave &amp; Roosevelt Rd</td>\n",
              "      <td>member</td>\n",
              "      <td>Female</td>\n",
              "      <td>1984.0</td>\n",
              "      <td>Monday</td>\n",
              "      <td>0</td>\n",
              "      <td>April</td>\n",
              "    </tr>\n",
              "    <tr>\n",
              "      <th>2</th>\n",
              "      <td>2019-04-01 00:11:07</td>\n",
              "      <td>2019-04-01 00:15:19</td>\n",
              "      <td>252.0</td>\n",
              "      <td>283</td>\n",
              "      <td>LaSalle St &amp; Jackson Blvd</td>\n",
              "      <td>174</td>\n",
              "      <td>Canal St &amp; Madison St</td>\n",
              "      <td>member</td>\n",
              "      <td>Male</td>\n",
              "      <td>1990.0</td>\n",
              "      <td>Monday</td>\n",
              "      <td>0</td>\n",
              "      <td>April</td>\n",
              "    </tr>\n",
              "    <tr>\n",
              "      <th>3</th>\n",
              "      <td>2019-04-01 00:13:01</td>\n",
              "      <td>2019-04-01 00:18:58</td>\n",
              "      <td>357.0</td>\n",
              "      <td>26</td>\n",
              "      <td>McClurg Ct &amp; Illinois St</td>\n",
              "      <td>133</td>\n",
              "      <td>Kingsbury St &amp; Kinzie St</td>\n",
              "      <td>member</td>\n",
              "      <td>Male</td>\n",
              "      <td>1993.0</td>\n",
              "      <td>Monday</td>\n",
              "      <td>0</td>\n",
              "      <td>April</td>\n",
              "    </tr>\n",
              "    <tr>\n",
              "      <th>4</th>\n",
              "      <td>2019-04-01 00:19:26</td>\n",
              "      <td>2019-04-01 00:36:13</td>\n",
              "      <td>1,007.0</td>\n",
              "      <td>202</td>\n",
              "      <td>Halsted St &amp; 18th St</td>\n",
              "      <td>129</td>\n",
              "      <td>Blue Island Ave &amp; 18th St</td>\n",
              "      <td>member</td>\n",
              "      <td>Male</td>\n",
              "      <td>1992.0</td>\n",
              "      <td>Monday</td>\n",
              "      <td>0</td>\n",
              "      <td>April</td>\n",
              "    </tr>\n",
              "  </tbody>\n",
              "</table>\n",
              "</div>\n",
              "      <button class=\"colab-df-convert\" onclick=\"convertToInteractive('df-b1290dc5-6248-4896-a2eb-0e43f3fd246d')\"\n",
              "              title=\"Convert this dataframe to an interactive table.\"\n",
              "              style=\"display:none;\">\n",
              "        \n",
              "  <svg xmlns=\"http://www.w3.org/2000/svg\" height=\"24px\"viewBox=\"0 0 24 24\"\n",
              "       width=\"24px\">\n",
              "    <path d=\"M0 0h24v24H0V0z\" fill=\"none\"/>\n",
              "    <path d=\"M18.56 5.44l.94 2.06.94-2.06 2.06-.94-2.06-.94-.94-2.06-.94 2.06-2.06.94zm-11 1L8.5 8.5l.94-2.06 2.06-.94-2.06-.94L8.5 2.5l-.94 2.06-2.06.94zm10 10l.94 2.06.94-2.06 2.06-.94-2.06-.94-.94-2.06-.94 2.06-2.06.94z\"/><path d=\"M17.41 7.96l-1.37-1.37c-.4-.4-.92-.59-1.43-.59-.52 0-1.04.2-1.43.59L10.3 9.45l-7.72 7.72c-.78.78-.78 2.05 0 2.83L4 21.41c.39.39.9.59 1.41.59.51 0 1.02-.2 1.41-.59l7.78-7.78 2.81-2.81c.8-.78.8-2.07 0-2.86zM5.41 20L4 18.59l7.72-7.72 1.47 1.35L5.41 20z\"/>\n",
              "  </svg>\n",
              "      </button>\n",
              "      \n",
              "  <style>\n",
              "    .colab-df-container {\n",
              "      display:flex;\n",
              "      flex-wrap:wrap;\n",
              "      gap: 12px;\n",
              "    }\n",
              "\n",
              "    .colab-df-convert {\n",
              "      background-color: #E8F0FE;\n",
              "      border: none;\n",
              "      border-radius: 50%;\n",
              "      cursor: pointer;\n",
              "      display: none;\n",
              "      fill: #1967D2;\n",
              "      height: 32px;\n",
              "      padding: 0 0 0 0;\n",
              "      width: 32px;\n",
              "    }\n",
              "\n",
              "    .colab-df-convert:hover {\n",
              "      background-color: #E2EBFA;\n",
              "      box-shadow: 0px 1px 2px rgba(60, 64, 67, 0.3), 0px 1px 3px 1px rgba(60, 64, 67, 0.15);\n",
              "      fill: #174EA6;\n",
              "    }\n",
              "\n",
              "    [theme=dark] .colab-df-convert {\n",
              "      background-color: #3B4455;\n",
              "      fill: #D2E3FC;\n",
              "    }\n",
              "\n",
              "    [theme=dark] .colab-df-convert:hover {\n",
              "      background-color: #434B5C;\n",
              "      box-shadow: 0px 1px 3px 1px rgba(0, 0, 0, 0.15);\n",
              "      filter: drop-shadow(0px 1px 2px rgba(0, 0, 0, 0.3));\n",
              "      fill: #FFFFFF;\n",
              "    }\n",
              "  </style>\n",
              "\n",
              "      <script>\n",
              "        const buttonEl =\n",
              "          document.querySelector('#df-b1290dc5-6248-4896-a2eb-0e43f3fd246d button.colab-df-convert');\n",
              "        buttonEl.style.display =\n",
              "          google.colab.kernel.accessAllowed ? 'block' : 'none';\n",
              "\n",
              "        async function convertToInteractive(key) {\n",
              "          const element = document.querySelector('#df-b1290dc5-6248-4896-a2eb-0e43f3fd246d');\n",
              "          const dataTable =\n",
              "            await google.colab.kernel.invokeFunction('convertToInteractive',\n",
              "                                                     [key], {});\n",
              "          if (!dataTable) return;\n",
              "\n",
              "          const docLinkHtml = 'Like what you see? Visit the ' +\n",
              "            '<a target=\"_blank\" href=https://colab.research.google.com/notebooks/data_table.ipynb>data table notebook</a>'\n",
              "            + ' to learn more about interactive tables.';\n",
              "          element.innerHTML = '';\n",
              "          dataTable['output_type'] = 'display_data';\n",
              "          await google.colab.output.renderOutput(dataTable, element);\n",
              "          const docLink = document.createElement('div');\n",
              "          docLink.innerHTML = docLinkHtml;\n",
              "          element.appendChild(docLink);\n",
              "        }\n",
              "      </script>\n",
              "    </div>\n",
              "  </div>\n",
              "  "
            ],
            "text/plain": [
              "           start_time             end_time  ... hour  month\n",
              "0 2019-04-01 00:02:22  2019-04-01 00:09:48  ...    0  April\n",
              "1 2019-04-01 00:03:02  2019-04-01 00:20:30  ...    0  April\n",
              "2 2019-04-01 00:11:07  2019-04-01 00:15:19  ...    0  April\n",
              "3 2019-04-01 00:13:01  2019-04-01 00:18:58  ...    0  April\n",
              "4 2019-04-01 00:19:26  2019-04-01 00:36:13  ...    0  April\n",
              "\n",
              "[5 rows x 13 columns]"
            ]
          },
          "metadata": {},
          "execution_count": 26
        }
      ]
    },
    {
      "cell_type": "code",
      "source": [
        "import seaborn as sns\n",
        "import matplotlib.pyplot as plt\n"
      ],
      "metadata": {
        "id": "TOZcPisGn5qG"
      },
      "execution_count": null,
      "outputs": []
    },
    {
      "cell_type": "markdown",
      "source": [
        "Vemos que tenemos una cantidad aproximada de 300,000 viajes de usuarios casuales del 2019, que podriamos convertir en miembros. Los caules representan el 11% de los viajes que realizaon el total de los usuarios. Lo cual significa que podemos incrementar el numero de usuarios miembros en un 13% respecto al quetenemos en 2019."
      ],
      "metadata": {
        "id": "MS6zB1LET8dg"
      }
    },
    {
      "cell_type": "code",
      "source": [
        "count_member_2019 = divvy_2019[divvy_2019['usertype'] == 'member'].count()[0]\n",
        "count_casual_2019 = divvy_2019[divvy_2019['usertype'] == 'casual'].count()[0]\n",
        "total_2019 = count_casual_2019 + count_member_2019\n",
        "percentaje_casual = (count_casual_2019/total_2019)*100\n",
        "percentaje_member = (count_member_2019/total_2019)*100\n",
        "percentaje_casual_over_member = (count_casual_2019/count_member_2019)*100\n",
        "print(\"total:\", total_2019)\n",
        "print(\"member:\", count_member_2019)\n",
        "print(\"casual:\", count_casual_2019)\n",
        "print(\"member percentaje:\", percentaje_member)\n",
        "print(\"casual percentaje:\", percentaje_casual)\n",
        "print(\"casual over member percentaje:\", percentaje_casual_over_member)\n",
        "# ESTO HAY QUE PONERLO EN LA PRESENTACION"
      ],
      "metadata": {
        "colab": {
          "base_uri": "https://localhost:8080/"
        },
        "id": "fTf4nTcgcU7p",
        "outputId": "97d2591b-b2b5-4538-cbc7-5033bcd16421"
      },
      "execution_count": null,
      "outputs": [
        {
          "output_type": "stream",
          "name": "stdout",
          "text": [
            "total: 2913439\n",
            "member: 2575193\n",
            "casual: 338246\n",
            "member percentaje: 88.39014649011014\n",
            "casual percentaje: 11.60985350988986\n",
            "casual over member percentaje: 13.134782519213124\n"
          ]
        }
      ]
    },
    {
      "cell_type": "code",
      "source": [
        "fig_dims = (10, 8)\n",
        "fig, ax = plt.subplots(figsize=fig_dims)\n",
        "\n",
        "sns.countplot(x ='usertype', ax=ax,  data = divvy_2019, palette='bright').set(title='Tipos de Usuarios 2019')"
      ],
      "metadata": {
        "colab": {
          "base_uri": "https://localhost:8080/",
          "height": 530
        },
        "id": "5CE9xnN4TRN9",
        "outputId": "0a273a38-d4ff-4fbe-da46-af43d9510ea9"
      },
      "execution_count": null,
      "outputs": [
        {
          "output_type": "execute_result",
          "data": {
            "text/plain": [
              "[Text(0.5, 1.0, 'Tipos de Usuarios 2019')]"
            ]
          },
          "metadata": {},
          "execution_count": 29
        },
        {
          "output_type": "display_data",
          "data": {
            "image/png": "[encoded data removed]",
            "text/plain": [
              "<Figure size 720x576 with 1 Axes>"
            ]
          },
          "metadata": {
            "needs_background": "light"
          }
        }
      ]
    },
    {
      "cell_type": "markdown",
      "source": [
        "Vemos que en el grafico *Viajes a lo largo de la semana 2019*, la gente los miembros utilizan mas el servicio entre semana y tambien lo utilizan mas que los usuarios casuales entre semana, aunque vemos que el uso por parte de los usuarios casuales aumenta los fines de semana."
      ],
      "metadata": {
        "id": "9gXuZWJQsHpv"
      }
    },
    {
      "cell_type": "code",
      "source": [
        "fig_dims = (10, 8)\n",
        "fig, ax = plt.subplots(figsize=fig_dims)\n",
        "\n",
        "sns.countplot(x ='day_of_week', hue='usertype', ax=ax,  data = divvy_2019, palette='bright').set(title='Viajes a lo largo de la semana 2019')\n",
        "plt.grid()"
      ],
      "metadata": {
        "colab": {
          "base_uri": "https://localhost:8080/",
          "height": 514
        },
        "id": "VvbxKfW6n73C",
        "outputId": "492aca47-b46e-436e-c8df-2b45482587ae"
      },
      "execution_count": null,
      "outputs": [
        {
          "output_type": "display_data",
          "data": {
            "image/png": "[encoded data removed]",
            "text/plain": [
              "<Figure size 720x576 with 1 Axes>"
            ]
          },
          "metadata": {
            "needs_background": "light"
          }
        }
      ]
    },
    {
      "cell_type": "markdown",
      "source": [
        "Vemos en *Viajes a lo largo del dia 2019* que los miembros tienen un pico de uso a las 8:00 y  a las 17:00 muy cercano a los horarios de oficina esto nos podria inferir que los miembros utilizan mas el servicio para transportarse a su oficina coincidiendo con su mayor uso por parte de los miembres entre semana. Aunque el uso del servicio se mantiene en ciero rango de cercano a los 100,000 y 150,000 viajes de manera constante en un horario de 6:00 a 20:00\n",
        "\n",
        " A diferencia los casuales presentan un comportamiento que va incrementando de poco a poco desde las 7:00 hasta las 17:00."
      ],
      "metadata": {
        "id": "DNLYLSiitg_U"
      }
    },
    {
      "cell_type": "code",
      "source": [
        "fig_dims = (10, 8)\n",
        "fig, ax = plt.subplots(figsize=fig_dims)\n",
        "\n",
        "sns.countplot(x ='hour', ax=ax, hue='usertype', data = divvy_2019, palette='bright').set(title='Viajes a lo largo del dia 2019')\n",
        "plt.grid()"
      ],
      "metadata": {
        "colab": {
          "base_uri": "https://localhost:8080/",
          "height": 513
        },
        "id": "4IfTnDAWwDNq",
        "outputId": "5edd831d-2817-4e6d-ae28-77e6ed8a55da"
      },
      "execution_count": null,
      "outputs": [
        {
          "output_type": "display_data",
          "data": {
            "image/png": "[encoded data removed]",
            "text/plain": [
              "<Figure size 720x576 with 1 Axes>"
            ]
          },
          "metadata": {
            "needs_background": "light"
          }
        }
      ]
    },
    {
      "cell_type": "markdown",
      "source": [
        "Para tener un panorama mas claro vamos a analizar los *Viajes a lo largo del dia 2019* para cada dia"
      ],
      "metadata": {
        "id": "-GEQIWmfyfuP"
      }
    },
    {
      "cell_type": "code",
      "source": [
        "fig_dims = (10, 8)\n",
        "fig, ax = plt.subplots(figsize=fig_dims)\n",
        "\n",
        "sns.countplot(x ='hour', ax=ax, hue='usertype', data = divvy_2019.loc[divvy_2019['day_of_week'] == 'Monday'], palette='bright').set(title='Viajes a lo largo del Lunes 2019')\n",
        "plt.grid()"
      ],
      "metadata": {
        "colab": {
          "base_uri": "https://localhost:8080/",
          "height": 513
        },
        "id": "5RyYjPQxiWPM",
        "outputId": "54cd833a-7603-4a48-9c50-cfad910eb46b"
      },
      "execution_count": null,
      "outputs": [
        {
          "output_type": "display_data",
          "data": {
            "image/png": "[encoded data removed]",
            "text/plain": [
              "<Figure size 720x576 with 1 Axes>"
            ]
          },
          "metadata": {
            "needs_background": "light"
          }
        }
      ]
    },
    {
      "cell_type": "code",
      "source": [
        "fig_dims = (10, 8)\n",
        "fig, ax = plt.subplots(figsize=fig_dims)\n",
        "\n",
        "sns.countplot(x ='hour', ax=ax, hue='usertype', data = divvy_2019.loc[divvy_2019['day_of_week'] == 'Tuesday'], palette='bright').set(title='Viajes a lo largo del Martes 2019')\n",
        "plt.grid()"
      ],
      "metadata": {
        "colab": {
          "base_uri": "https://localhost:8080/",
          "height": 513
        },
        "id": "g91kbmfPimRL",
        "outputId": "ca79b555-70cf-4bda-9896-5c4c71acfa92"
      },
      "execution_count": null,
      "outputs": [
        {
          "output_type": "display_data",
          "data": {
            "image/png": "[encoded data removed]",
            "text/plain": [
              "<Figure size 720x576 with 1 Axes>"
            ]
          },
          "metadata": {
            "needs_background": "light"
          }
        }
      ]
    },
    {
      "cell_type": "code",
      "source": [
        "fig_dims = (10, 8)\n",
        "fig, ax = plt.subplots(figsize=fig_dims)\n",
        "\n",
        "sns.countplot(x ='hour', ax=ax, hue='usertype', data = divvy_2019.loc[divvy_2019['day_of_week'] == 'Wednesday'], palette='bright').set(title='Viajes a lo largo del Miercoles 2019')\n",
        "plt.grid()"
      ],
      "metadata": {
        "colab": {
          "base_uri": "https://localhost:8080/",
          "height": 513
        },
        "id": "vOtza1g8ivdc",
        "outputId": "18c4e8ac-91af-4148-8d8a-ef7e25189640"
      },
      "execution_count": null,
      "outputs": [
        {
          "output_type": "display_data",
          "data": {
            "image/png": "[encoded data removed]",
            "text/plain": [
              "<Figure size 720x576 with 1 Axes>"
            ]
          },
          "metadata": {
            "needs_background": "light"
          }
        }
      ]
    },
    {
      "cell_type": "code",
      "source": [
        "fig_dims = (10, 8)\n",
        "fig, ax = plt.subplots(figsize=fig_dims)\n",
        "\n",
        "sns.countplot(x ='hour', ax=ax, hue='usertype', data = divvy_2019.loc[divvy_2019['day_of_week'] == 'Thursday'], palette='bright').set(title='Viajes a lo largo del Jueves 2019')\n",
        "plt.grid()"
      ],
      "metadata": {
        "colab": {
          "base_uri": "https://localhost:8080/",
          "height": 513
        },
        "id": "H4nObho7izqt",
        "outputId": "b71dd588-a6a4-4ee3-e0d0-41a202d3286a"
      },
      "execution_count": null,
      "outputs": [
        {
          "output_type": "display_data",
          "data": {
            "image/png": "[encoded data removed]",
            "text/plain": [
              "<Figure size 720x576 with 1 Axes>"
            ]
          },
          "metadata": {
            "needs_background": "light"
          }
        }
      ]
    },
    {
      "cell_type": "code",
      "source": [
        "fig_dims = (10, 8)\n",
        "fig, ax = plt.subplots(figsize=fig_dims)\n",
        "\n",
        "sns.countplot(x ='hour', ax=ax, hue='usertype', data = divvy_2019.loc[divvy_2019['day_of_week'] == 'Friday'], palette='bright').set(title='Viajes a lo largo del Viernes 2019')\n",
        "plt.grid()"
      ],
      "metadata": {
        "colab": {
          "base_uri": "https://localhost:8080/",
          "height": 513
        },
        "id": "6r1SZQPGi2dG",
        "outputId": "772e1686-d2a2-425e-e1ca-c482a92af6c9"
      },
      "execution_count": null,
      "outputs": [
        {
          "output_type": "display_data",
          "data": {
            "image/png": "[encoded data removed]",
            "text/plain": [
              "<Figure size 720x576 with 1 Axes>"
            ]
          },
          "metadata": {
            "needs_background": "light"
          }
        }
      ]
    },
    {
      "cell_type": "code",
      "source": [
        "fig_dims = (10, 8)\n",
        "fig, ax = plt.subplots(figsize=fig_dims)\n",
        "\n",
        "sns.countplot(x ='hour', ax=ax, hue='usertype', data = divvy_2019.loc[divvy_2019['day_of_week'] == 'Saturday'], palette='bright').set(title='Viajes a lo largo del Sabado 2019')\n",
        "plt.grid()"
      ],
      "metadata": {
        "colab": {
          "base_uri": "https://localhost:8080/",
          "height": 513
        },
        "id": "L7Y4GIUei4OB",
        "outputId": "737a7d26-e667-4f94-9a85-b057fac4f238"
      },
      "execution_count": null,
      "outputs": [
        {
          "output_type": "display_data",
          "data": {
            "image/png": "[encoded data removed]",
            "text/plain": [
              "<Figure size 720x576 with 1 Axes>"
            ]
          },
          "metadata": {
            "needs_background": "light"
          }
        }
      ]
    },
    {
      "cell_type": "code",
      "source": [
        "fig_dims = (10, 8)\n",
        "fig, ax = plt.subplots(figsize=fig_dims)\n",
        "\n",
        "sns.countplot(x ='hour', ax=ax, hue='usertype', data = divvy_2019.loc[divvy_2019['day_of_week'] == 'Sunday'], palette='bright').set(title='Viajes a lo largo del Domingo 2019')\n",
        "plt.grid()"
      ],
      "metadata": {
        "colab": {
          "base_uri": "https://localhost:8080/",
          "height": 513
        },
        "id": "vN78WoiMi6oE",
        "outputId": "3584c3d0-5c58-43c3-85ba-223df9a9808d"
      },
      "execution_count": null,
      "outputs": [
        {
          "output_type": "display_data",
          "data": {
            "image/png": "[encoded data removed]",
            "text/plain": [
              "<Figure size 720x576 with 1 Axes>"
            ]
          },
          "metadata": {
            "needs_background": "light"
          }
        }
      ]
    },
    {
      "cell_type": "markdown",
      "source": [
        "Entre semana vemos que le comportamiento es similar al de la tabla que resumia todos los dias, con el comportamiento mas adecuado a aun desplazamiento a la oficina. En cambio vemos una tendecia diferente los fines de semana que va incrementando a lo largo del dia de forma gradual desde las 8:00 hasta las 20:00 con su pico a las 12:00 tanto para casaules y miembros los fines de semana, esto se puede deber a que lo utilizan mas para fines recreativos podriamos aprovecharnos de esto."
      ],
      "metadata": {
        "id": "PvsTezMe0cLD"
      }
    },
    {
      "cell_type": "markdown",
      "source": [
        "Podemos ver que los viajes aumentan de camino hacia agosto durante los meses \"calientes\" y empieza a disminuir en los meses en los que comienza el frio."
      ],
      "metadata": {
        "id": "sKTSftDR-p8x"
      }
    },
    {
      "cell_type": "code",
      "source": [
        "fig_dims = (10, 8)\n",
        "fig, ax = plt.subplots(figsize=fig_dims)\n",
        "\n",
        "sns.countplot(x ='month', ax=ax,  data = divvy_2019, palette='bright', hue='usertype').set(title='Viajes a lo largo del año 2019')\n",
        "plt.grid()"
      ],
      "metadata": {
        "colab": {
          "base_uri": "https://localhost:8080/",
          "height": 513
        },
        "id": "uF4Ymu3YxNol",
        "outputId": "ab0be1ab-418c-4847-815f-ae8869a3bc80"
      },
      "execution_count": null,
      "outputs": [
        {
          "output_type": "display_data",
          "data": {
            "image/png": "[encoded data removed]",
            "text/plain": [
              "<Figure size 720x576 with 1 Axes>"
            ]
          },
          "metadata": {
            "needs_background": "light"
          }
        }
      ]
    },
    {
      "cell_type": "markdown",
      "source": [
        "Podemos observar en *Genero de los usuarios 2019* que la mayoria de los usuarios son hombres tanto en miembros como casaules, podriamos hacer una camapaña para mujeres para atraer mas de esta población al uso del servicio."
      ],
      "metadata": {
        "id": "f95iohXYSmLY"
      }
    },
    {
      "cell_type": "code",
      "source": [
        "fig_dims = (10, 8)\n",
        "fig, ax = plt.subplots(figsize=fig_dims)\n",
        "\n",
        "sns.countplot(x ='gender', ax=ax,  data = divvy_2019, palette='bright', hue='usertype').set(title='Genero de los usuarios 2019')"
      ],
      "metadata": {
        "colab": {
          "base_uri": "https://localhost:8080/",
          "height": 530
        },
        "id": "8hfy_LvuyDGc",
        "outputId": "7a799555-c607-41aa-8388-042922582361"
      },
      "execution_count": null,
      "outputs": [
        {
          "output_type": "execute_result",
          "data": {
            "text/plain": [
              "[Text(0.5, 1.0, 'Genero de los usuarios 2019')]"
            ]
          },
          "metadata": {},
          "execution_count": 40
        },
        {
          "output_type": "display_data",
          "data": {
            "image/png": "[encoded data removed]",
            "text/plain": [
              "<Figure size 720x576 with 1 Axes>"
            ]
          },
          "metadata": {
            "needs_background": "light"
          }
        }
      ]
    },
    {
      "cell_type": "markdown",
      "source": [
        "Solamente para tener un dato numerico del genero"
      ],
      "metadata": {
        "id": "HGvOUOB9mYha"
      }
    },
    {
      "cell_type": "code",
      "source": [
        "divvy_2019['gender'].value_counts()"
      ],
      "metadata": {
        "colab": {
          "base_uri": "https://localhost:8080/"
        },
        "id": "DX6J4BoFjW-N",
        "outputId": "0927c6c6-5f04-4adb-de7f-81d5dcdcbe97"
      },
      "execution_count": null,
      "outputs": [
        {
          "output_type": "execute_result",
          "data": {
            "text/plain": [
              "Male      2122380\n",
              "Female     791059\n",
              "Name: gender, dtype: int64"
            ]
          },
          "metadata": {},
          "execution_count": 41
        }
      ]
    },
    {
      "cell_type": "markdown",
      "source": [
        "Vamos a continuar con el analisis del 2020. "
      ],
      "metadata": {
        "id": "hOKLgKV4FHFg"
      }
    },
    {
      "cell_type": "code",
      "source": [
        "divvy_2020.head()"
      ],
      "metadata": {
        "colab": {
          "base_uri": "https://localhost:8080/",
          "height": 461
        },
        "id": "geXtUl1dFUYB",
        "outputId": "ef21fc4e-6c52-478d-8e20-f0378b845fcd"
      },
      "execution_count": null,
      "outputs": [
        {
          "output_type": "execute_result",
          "data": {
            "text/html": [
              "\n",
              "  <div id=\"df-ac2cd062-ece7-407d-b78a-d14df835a4e4\">\n",
              "    <div class=\"colab-df-container\">\n",
              "      <div>\n",
              "<style scoped>\n",
              "    .dataframe tbody tr th:only-of-type {\n",
              "        vertical-align: middle;\n",
              "    }\n",
              "\n",
              "    .dataframe tbody tr th {\n",
              "        vertical-align: top;\n",
              "    }\n",
              "\n",
              "    .dataframe thead th {\n",
              "        text-align: right;\n",
              "    }\n",
              "</style>\n",
              "<table border=\"1\" class=\"dataframe\">\n",
              "  <thead>\n",
              "    <tr style=\"text-align: right;\">\n",
              "      <th></th>\n",
              "      <th>start_time</th>\n",
              "      <th>end_time</th>\n",
              "      <th>from_station_name</th>\n",
              "      <th>from_station_id</th>\n",
              "      <th>to_station_name</th>\n",
              "      <th>to_station_id</th>\n",
              "      <th>start_lat</th>\n",
              "      <th>start_lng</th>\n",
              "      <th>end_lat</th>\n",
              "      <th>end_lng</th>\n",
              "      <th>usertype</th>\n",
              "      <th>tripduration [s]</th>\n",
              "      <th>distance [km]</th>\n",
              "      <th>speed [km/h]</th>\n",
              "      <th>triptype</th>\n",
              "      <th>day_of_week</th>\n",
              "      <th>hour</th>\n",
              "      <th>month</th>\n",
              "    </tr>\n",
              "  </thead>\n",
              "  <tbody>\n",
              "    <tr>\n",
              "      <th>0</th>\n",
              "      <td>2020-01-21 20:06:59</td>\n",
              "      <td>2020-01-21 20:14:30</td>\n",
              "      <td>Western Ave &amp; Leland Ave</td>\n",
              "      <td>239</td>\n",
              "      <td>Clark St &amp; Leland Ave</td>\n",
              "      <td>326.0</td>\n",
              "      <td>41.9665</td>\n",
              "      <td>-87.6884</td>\n",
              "      <td>41.9671</td>\n",
              "      <td>-87.6674</td>\n",
              "      <td>member</td>\n",
              "      <td>451.0</td>\n",
              "      <td>1.74</td>\n",
              "      <td>13.889135</td>\n",
              "      <td>two points trip</td>\n",
              "      <td>Tuesday</td>\n",
              "      <td>20</td>\n",
              "      <td>January</td>\n",
              "    </tr>\n",
              "    <tr>\n",
              "      <th>1</th>\n",
              "      <td>2020-01-30 14:22:39</td>\n",
              "      <td>2020-01-30 14:26:22</td>\n",
              "      <td>Clark St &amp; Montrose Ave</td>\n",
              "      <td>234</td>\n",
              "      <td>Southport Ave &amp; Irving Park Rd</td>\n",
              "      <td>318.0</td>\n",
              "      <td>41.9616</td>\n",
              "      <td>-87.6660</td>\n",
              "      <td>41.9542</td>\n",
              "      <td>-87.6644</td>\n",
              "      <td>member</td>\n",
              "      <td>223.0</td>\n",
              "      <td>0.83</td>\n",
              "      <td>13.399103</td>\n",
              "      <td>two points trip</td>\n",
              "      <td>Thursday</td>\n",
              "      <td>14</td>\n",
              "      <td>January</td>\n",
              "    </tr>\n",
              "    <tr>\n",
              "      <th>2</th>\n",
              "      <td>2020-01-09 19:29:26</td>\n",
              "      <td>2020-01-09 19:32:17</td>\n",
              "      <td>Broadway &amp; Belmont Ave</td>\n",
              "      <td>296</td>\n",
              "      <td>Wilton Ave &amp; Belmont Ave</td>\n",
              "      <td>117.0</td>\n",
              "      <td>41.9401</td>\n",
              "      <td>-87.6455</td>\n",
              "      <td>41.9402</td>\n",
              "      <td>-87.6530</td>\n",
              "      <td>member</td>\n",
              "      <td>171.0</td>\n",
              "      <td>0.62</td>\n",
              "      <td>13.052632</td>\n",
              "      <td>two points trip</td>\n",
              "      <td>Thursday</td>\n",
              "      <td>19</td>\n",
              "      <td>January</td>\n",
              "    </tr>\n",
              "    <tr>\n",
              "      <th>3</th>\n",
              "      <td>2020-01-06 16:17:07</td>\n",
              "      <td>2020-01-06 16:25:56</td>\n",
              "      <td>Clark St &amp; Randolph St</td>\n",
              "      <td>51</td>\n",
              "      <td>Fairbanks Ct &amp; Grand Ave</td>\n",
              "      <td>24.0</td>\n",
              "      <td>41.8846</td>\n",
              "      <td>-87.6319</td>\n",
              "      <td>41.8918</td>\n",
              "      <td>-87.6206</td>\n",
              "      <td>member</td>\n",
              "      <td>529.0</td>\n",
              "      <td>1.23</td>\n",
              "      <td>8.370510</td>\n",
              "      <td>two points trip</td>\n",
              "      <td>Monday</td>\n",
              "      <td>16</td>\n",
              "      <td>January</td>\n",
              "    </tr>\n",
              "    <tr>\n",
              "      <th>4</th>\n",
              "      <td>2020-01-30 08:37:16</td>\n",
              "      <td>2020-01-30 08:42:48</td>\n",
              "      <td>Clinton St &amp; Lake St</td>\n",
              "      <td>66</td>\n",
              "      <td>Wells St &amp; Hubbard St</td>\n",
              "      <td>212.0</td>\n",
              "      <td>41.8856</td>\n",
              "      <td>-87.6418</td>\n",
              "      <td>41.8899</td>\n",
              "      <td>-87.6343</td>\n",
              "      <td>member</td>\n",
              "      <td>332.0</td>\n",
              "      <td>0.78</td>\n",
              "      <td>8.457831</td>\n",
              "      <td>two points trip</td>\n",
              "      <td>Thursday</td>\n",
              "      <td>8</td>\n",
              "      <td>January</td>\n",
              "    </tr>\n",
              "  </tbody>\n",
              "</table>\n",
              "</div>\n",
              "      <button class=\"colab-df-convert\" onclick=\"convertToInteractive('df-ac2cd062-ece7-407d-b78a-d14df835a4e4')\"\n",
              "              title=\"Convert this dataframe to an interactive table.\"\n",
              "              style=\"display:none;\">\n",
              "        \n",
              "  <svg xmlns=\"http://www.w3.org/2000/svg\" height=\"24px\"viewBox=\"0 0 24 24\"\n",
              "       width=\"24px\">\n",
              "    <path d=\"M0 0h24v24H0V0z\" fill=\"none\"/>\n",
              "    <path d=\"M18.56 5.44l.94 2.06.94-2.06 2.06-.94-2.06-.94-.94-2.06-.94 2.06-2.06.94zm-11 1L8.5 8.5l.94-2.06 2.06-.94-2.06-.94L8.5 2.5l-.94 2.06-2.06.94zm10 10l.94 2.06.94-2.06 2.06-.94-2.06-.94-.94-2.06-.94 2.06-2.06.94z\"/><path d=\"M17.41 7.96l-1.37-1.37c-.4-.4-.92-.59-1.43-.59-.52 0-1.04.2-1.43.59L10.3 9.45l-7.72 7.72c-.78.78-.78 2.05 0 2.83L4 21.41c.39.39.9.59 1.41.59.51 0 1.02-.2 1.41-.59l7.78-7.78 2.81-2.81c.8-.78.8-2.07 0-2.86zM5.41 20L4 18.59l7.72-7.72 1.47 1.35L5.41 20z\"/>\n",
              "  </svg>\n",
              "      </button>\n",
              "      \n",
              "  <style>\n",
              "    .colab-df-container {\n",
              "      display:flex;\n",
              "      flex-wrap:wrap;\n",
              "      gap: 12px;\n",
              "    }\n",
              "\n",
              "    .colab-df-convert {\n",
              "      background-color: #E8F0FE;\n",
              "      border: none;\n",
              "      border-radius: 50%;\n",
              "      cursor: pointer;\n",
              "      display: none;\n",
              "      fill: #1967D2;\n",
              "      height: 32px;\n",
              "      padding: 0 0 0 0;\n",
              "      width: 32px;\n",
              "    }\n",
              "\n",
              "    .colab-df-convert:hover {\n",
              "      background-color: #E2EBFA;\n",
              "      box-shadow: 0px 1px 2px rgba(60, 64, 67, 0.3), 0px 1px 3px 1px rgba(60, 64, 67, 0.15);\n",
              "      fill: #174EA6;\n",
              "    }\n",
              "\n",
              "    [theme=dark] .colab-df-convert {\n",
              "      background-color: #3B4455;\n",
              "      fill: #D2E3FC;\n",
              "    }\n",
              "\n",
              "    [theme=dark] .colab-df-convert:hover {\n",
              "      background-color: #434B5C;\n",
              "      box-shadow: 0px 1px 3px 1px rgba(0, 0, 0, 0.15);\n",
              "      filter: drop-shadow(0px 1px 2px rgba(0, 0, 0, 0.3));\n",
              "      fill: #FFFFFF;\n",
              "    }\n",
              "  </style>\n",
              "\n",
              "      <script>\n",
              "        const buttonEl =\n",
              "          document.querySelector('#df-ac2cd062-ece7-407d-b78a-d14df835a4e4 button.colab-df-convert');\n",
              "        buttonEl.style.display =\n",
              "          google.colab.kernel.accessAllowed ? 'block' : 'none';\n",
              "\n",
              "        async function convertToInteractive(key) {\n",
              "          const element = document.querySelector('#df-ac2cd062-ece7-407d-b78a-d14df835a4e4');\n",
              "          const dataTable =\n",
              "            await google.colab.kernel.invokeFunction('convertToInteractive',\n",
              "                                                     [key], {});\n",
              "          if (!dataTable) return;\n",
              "\n",
              "          const docLinkHtml = 'Like what you see? Visit the ' +\n",
              "            '<a target=\"_blank\" href=https://colab.research.google.com/notebooks/data_table.ipynb>data table notebook</a>'\n",
              "            + ' to learn more about interactive tables.';\n",
              "          element.innerHTML = '';\n",
              "          dataTable['output_type'] = 'display_data';\n",
              "          await google.colab.output.renderOutput(dataTable, element);\n",
              "          const docLink = document.createElement('div');\n",
              "          docLink.innerHTML = docLinkHtml;\n",
              "          element.appendChild(docLink);\n",
              "        }\n",
              "      </script>\n",
              "    </div>\n",
              "  </div>\n",
              "  "
            ],
            "text/plain": [
              "           start_time            end_time  ... hour    month\n",
              "0 2020-01-21 20:06:59 2020-01-21 20:14:30  ...   20  January\n",
              "1 2020-01-30 14:22:39 2020-01-30 14:26:22  ...   14  January\n",
              "2 2020-01-09 19:29:26 2020-01-09 19:32:17  ...   19  January\n",
              "3 2020-01-06 16:17:07 2020-01-06 16:25:56  ...   16  January\n",
              "4 2020-01-30 08:37:16 2020-01-30 08:42:48  ...    8  January\n",
              "\n",
              "[5 rows x 18 columns]"
            ]
          },
          "metadata": {},
          "execution_count": 42
        }
      ]
    },
    {
      "cell_type": "markdown",
      "source": [
        "Vemos en *Tipos de usuarios 2020* que en comparacion al año pasado, la distribución entre los dias es muy similar vemos que de lunes a viernes es cuando mayor numero de viajes en el 2020 respecto al 2019. Aunque tenemos un mayor uso de los casuales el dia domingo, quiza para ir al parque. De igual manera vemos que tenemos aproximadamente un 13% de usuarios casuales respecto a los miembros."
      ],
      "metadata": {
        "id": "_2aS1hU_rrhL"
      }
    },
    {
      "cell_type": "code",
      "source": [
        "count_member_2020 = divvy_2020[divvy_2020['usertype'] == 'member'].count()[0]\n",
        "count_casual_2020 = divvy_2020[divvy_2020['usertype'] == 'casual'].count()[0]\n",
        "total_2020 = count_casual_2020 + count_member_2020\n",
        "percentaje_casual_2020 = (count_casual_2020/total_2020)*100\n",
        "percentaje_member_2020 = (count_member_2020/total_2020)*100\n",
        "percentaje_casual_over_member_2020 = (count_casual_2020/count_member_2020)*100\n",
        "print(\"total 2020:\", total_2020)\n",
        "print(\"member 2020:\", count_member_2020)\n",
        "print(\"casual 2020:\", count_casual_2020)\n",
        "print(\"member percentaje 2020:\", percentaje_member_2020)\n",
        "print(\"casual percentaje 2020:\", percentaje_casual_2020)\n",
        "print(\"casual over member percentaje 2020:\", percentaje_casual_over_member_2020)"
      ],
      "metadata": {
        "colab": {
          "base_uri": "https://localhost:8080/"
        },
        "id": "iWMqY-Y5evUh",
        "outputId": "d5697785-726f-4d6a-ea66-dd61240831c9"
      },
      "execution_count": null,
      "outputs": [
        {
          "output_type": "stream",
          "name": "stdout",
          "text": [
            "total 2020: 426770\n",
            "member 2020: 378407\n",
            "casual 2020: 48363\n",
            "member percentaje 2020: 88.6676664245378\n",
            "casual percentaje 2020: 11.332333575462194\n",
            "casual over member percentaje 2020: 12.780683232604048\n"
          ]
        }
      ]
    },
    {
      "cell_type": "code",
      "source": [
        "fig_dims = (10, 8)\n",
        "fig, ax = plt.subplots(figsize=fig_dims)\n",
        "\n",
        "sns.countplot(x ='usertype', ax=ax,  data = divvy_2020, palette='bright').set(title='Tipos de Usuarios 2020')"
      ],
      "metadata": {
        "colab": {
          "base_uri": "https://localhost:8080/",
          "height": 530
        },
        "id": "H_LyM7sCsbj4",
        "outputId": "0c932b7a-a769-42cd-c55b-e1defb1d775e"
      },
      "execution_count": null,
      "outputs": [
        {
          "output_type": "execute_result",
          "data": {
            "text/plain": [
              "[Text(0.5, 1.0, 'Tipos de Usuarios 2020')]"
            ]
          },
          "metadata": {},
          "execution_count": 44
        },
        {
          "output_type": "display_data",
          "data": {
            "image/png": "[encoded data removed]",
            "text/plain": [
              "<Figure size 720x576 with 1 Axes>"
            ]
          },
          "metadata": {
            "needs_background": "light"
          }
        }
      ]
    },
    {
      "cell_type": "markdown",
      "source": [
        "En cuestion de la distribución de los viajes haremos un analisis igual al 2019 en \n",
        "* *Viajes a lo largo de la semana 2020*\n",
        "* *Viajes a lo largo del dia 2020*\n",
        "* *Viajes a lo largo del dia 2020* en sus versiones por dia"
      ],
      "metadata": {
        "id": "NLct3yAtgH8Y"
      }
    },
    {
      "cell_type": "code",
      "source": [
        "fig_dims = (10, 8)\n",
        "fig, ax = plt.subplots(figsize=fig_dims)\n",
        "\n",
        "sns.countplot(x ='day_of_week', hue='usertype', ax=ax,  data = divvy_2020, palette='bright').set(title='Viajes a lo largo de la semana 2020')\n",
        "# Acomodar el orden de los dias Viejas\n",
        "plt.grid()"
      ],
      "metadata": {
        "id": "1I722DPc1J-g",
        "colab": {
          "base_uri": "https://localhost:8080/",
          "height": 514
        },
        "outputId": "6a242d97-0188-4064-d521-85952b27d194"
      },
      "execution_count": null,
      "outputs": [
        {
          "output_type": "display_data",
          "data": {
            "image/png": "[encoded data removed]",
            "text/plain": [
              "<Figure size 720x576 with 1 Axes>"
            ]
          },
          "metadata": {
            "needs_background": "light"
          }
        }
      ]
    },
    {
      "cell_type": "code",
      "source": [
        "fig_dims = (10, 8)\n",
        "fig, ax = plt.subplots(figsize=fig_dims)\n",
        "\n",
        "sns.countplot(x ='hour', ax=ax, hue='usertype', data = divvy_2020, palette='bright').set(title='Viajes a lo largo del dia 2020')\n",
        "plt.grid()"
      ],
      "metadata": {
        "id": "SEcJymuO0qEz",
        "colab": {
          "base_uri": "https://localhost:8080/",
          "height": 513
        },
        "outputId": "fd130ae4-d7e3-4cd9-a979-a22fcc7c8bf6"
      },
      "execution_count": null,
      "outputs": [
        {
          "output_type": "display_data",
          "data": {
            "image/png": "[encoded data removed]",
            "text/plain": [
              "<Figure size 720x576 with 1 Axes>"
            ]
          },
          "metadata": {
            "needs_background": "light"
          }
        }
      ]
    },
    {
      "cell_type": "code",
      "source": [
        "fig_dims = (10, 8)\n",
        "fig, ax = plt.subplots(figsize=fig_dims)\n",
        "\n",
        "sns.countplot(x ='hour', ax=ax, hue='usertype', data = divvy_2020.loc[divvy_2020['day_of_week'] == 'Monday'], palette='bright').set(title='Viajes a lo largo del Lunes 2020')\n",
        "plt.grid()"
      ],
      "metadata": {
        "colab": {
          "base_uri": "https://localhost:8080/",
          "height": 513
        },
        "id": "qnqM05q8kGJ2",
        "outputId": "fa7cff45-c8f4-4d32-bee1-63022cdc3e2d"
      },
      "execution_count": null,
      "outputs": [
        {
          "output_type": "display_data",
          "data": {
            "image/png": "[encoded data removed]",
            "text/plain": [
              "<Figure size 720x576 with 1 Axes>"
            ]
          },
          "metadata": {
            "needs_background": "light"
          }
        }
      ]
    },
    {
      "cell_type": "code",
      "source": [
        "fig_dims = (10, 8)\n",
        "fig, ax = plt.subplots(figsize=fig_dims)\n",
        "\n",
        "sns.countplot(x ='hour', ax=ax, hue='usertype', data = divvy_2020.loc[divvy_2020['day_of_week'] == 'Tuesday'], palette='bright').set(title='Viajes a lo largo del Martes 2020')\n",
        "plt.grid()"
      ],
      "metadata": {
        "colab": {
          "base_uri": "https://localhost:8080/",
          "height": 513
        },
        "id": "LQ6aZzk4kK0F",
        "outputId": "e05fc60f-e5de-4452-9bf2-aedfd55891e1"
      },
      "execution_count": null,
      "outputs": [
        {
          "output_type": "display_data",
          "data": {
            "image/png": "[encoded data removed]",
            "text/plain": [
              "<Figure size 720x576 with 1 Axes>"
            ]
          },
          "metadata": {
            "needs_background": "light"
          }
        }
      ]
    },
    {
      "cell_type": "code",
      "source": [
        "fig_dims = (10, 8)\n",
        "fig, ax = plt.subplots(figsize=fig_dims)\n",
        "\n",
        "sns.countplot(x ='hour', ax=ax, hue='usertype', data = divvy_2020.loc[divvy_2020['day_of_week'] == 'Wednesday'], palette='bright').set(title='Viajes a lo largo del Miercoles 2020')\n",
        "plt.grid()"
      ],
      "metadata": {
        "colab": {
          "base_uri": "https://localhost:8080/",
          "height": 513
        },
        "id": "RlEHqtrakM9y",
        "outputId": "f0f774d6-5dc4-4cf5-af5b-3f08706a729d"
      },
      "execution_count": null,
      "outputs": [
        {
          "output_type": "display_data",
          "data": {
            "image/png": "[encoded data removed]",
            "text/plain": [
              "<Figure size 720x576 with 1 Axes>"
            ]
          },
          "metadata": {
            "needs_background": "light"
          }
        }
      ]
    },
    {
      "cell_type": "code",
      "source": [
        "fig_dims = (10, 8)\n",
        "fig, ax = plt.subplots(figsize=fig_dims)\n",
        "\n",
        "sns.countplot(x ='hour', ax=ax, hue='usertype', data = divvy_2020.loc[divvy_2020['day_of_week'] == 'Thursday'], palette='bright').set(title='Viajes a lo largo del Jueves 2020')\n",
        "plt.grid()"
      ],
      "metadata": {
        "colab": {
          "base_uri": "https://localhost:8080/",
          "height": 513
        },
        "id": "_CsWbYOekQqA",
        "outputId": "28766e48-c5ff-4365-ef7b-450733ef9071"
      },
      "execution_count": null,
      "outputs": [
        {
          "output_type": "display_data",
          "data": {
            "image/png": "[encoded data removed]",
            "text/plain": [
              "<Figure size 720x576 with 1 Axes>"
            ]
          },
          "metadata": {
            "needs_background": "light"
          }
        }
      ]
    },
    {
      "cell_type": "code",
      "source": [
        "fig_dims = (10, 8)\n",
        "fig, ax = plt.subplots(figsize=fig_dims)\n",
        "\n",
        "g=sns.countplot(x ='hour', ax=ax, hue='usertype', data = divvy_2020.loc[divvy_2020['day_of_week'] == 'Friday'], palette='bright').set(title='Viajes a lo largo del Viernes 2020')\n",
        "plt.grid()"
      ],
      "metadata": {
        "colab": {
          "base_uri": "https://localhost:8080/",
          "height": 513
        },
        "id": "_xRTBqcxkTie",
        "outputId": "2b813407-9d53-49ef-bccb-9fda4d296b61"
      },
      "execution_count": null,
      "outputs": [
        {
          "output_type": "display_data",
          "data": {
            "image/png": "[encoded data removed]",
            "text/plain": [
              "<Figure size 720x576 with 1 Axes>"
            ]
          },
          "metadata": {
            "needs_background": "light"
          }
        }
      ]
    },
    {
      "cell_type": "code",
      "source": [
        "fig_dims = (10, 8)\n",
        "fig, ax = plt.subplots(figsize=fig_dims)\n",
        "\n",
        "sns.countplot(x ='hour', ax=ax, hue='usertype', data = divvy_2020.loc[divvy_2020['day_of_week'] == 'Saturday'], palette='bright').set(title='Viajes a lo largo del Sabado 2020')\n",
        "plt.grid()"
      ],
      "metadata": {
        "colab": {
          "base_uri": "https://localhost:8080/",
          "height": 513
        },
        "id": "6uJgYq6pkV7n",
        "outputId": "2a74583b-5d45-4341-f5f6-db6171c634c2"
      },
      "execution_count": null,
      "outputs": [
        {
          "output_type": "display_data",
          "data": {
            "image/png": "[encoded data removed]",
            "text/plain": [
              "<Figure size 720x576 with 1 Axes>"
            ]
          },
          "metadata": {
            "needs_background": "light"
          }
        }
      ]
    },
    {
      "cell_type": "code",
      "source": [
        "fig_dims = (10, 8)\n",
        "fig, ax = plt.subplots(figsize=fig_dims)\n",
        "\n",
        "sns.countplot(x ='hour', ax=ax, hue='usertype', data = divvy_2020.loc[divvy_2020['day_of_week'] == 'Sunday'], palette='bright').set(title='Viajes a lo largo del Domingo 2020')\n",
        "plt.grid()"
      ],
      "metadata": {
        "colab": {
          "base_uri": "https://localhost:8080/",
          "height": 513
        },
        "id": "pVACpWB3kX9z",
        "outputId": "ef48930e-ad84-43ff-8473-0a535a495ff0"
      },
      "execution_count": null,
      "outputs": [
        {
          "output_type": "display_data",
          "data": {
            "image/png": "[encoded data removed]",
            "text/plain": [
              "<Figure size 720x576 with 1 Axes>"
            ]
          },
          "metadata": {
            "needs_background": "light"
          }
        }
      ]
    },
    {
      "cell_type": "markdown",
      "source": [
        "Entre semana observamos el mismo comportamiento que en el 2019 un uso estable de 6:00 a 19:00 con picos a las 8:00 y a las 17:00 concidiendo con un horario similar de oficina. \n",
        "De igual manera vemos los patrones repetidos los fines de semana respecto al 2019 donde el uso es mas de manera recreativa, vemos que inicia de 9:00 hasta 19:00 con su pico a las 14:00. Podriamos usar esto para generar una capaña para la gente que lo usa de manera recreativa.\n",
        "Aunque podemos ver que los casuales tambien entre semana tienen una distribuccion similar a los miembros. Aunque en menor medida comparado con su uso los fines de semana."
      ],
      "metadata": {
        "id": "ak5pYPWuujOd"
      }
    },
    {
      "cell_type": "markdown",
      "source": [
        "En *Viajes a lo largo del primer cuartil 2020* Tambien podemos ver que los usuarios casuales incrementan durante el periodo de primavera. En estos meses donde tenemos mas uso por los usuarios casuales es donde podriamos correr una campaña para convertilos en miembros"
      ],
      "metadata": {
        "id": "Oym5q-9wARBV"
      }
    },
    {
      "cell_type": "code",
      "source": [
        "fig_dims = (10, 8)\n",
        "fig, ax = plt.subplots(figsize=fig_dims)\n",
        "\n",
        "sns.countplot(x ='month', ax=ax,  data = divvy_2020, palette='bright', hue='usertype').set(title='Viajes a largo del primer cuartil 2020')\n",
        "plt.grid()"
      ],
      "metadata": {
        "colab": {
          "base_uri": "https://localhost:8080/",
          "height": 513
        },
        "id": "iT2pbxUHFNZH",
        "outputId": "808a170c-5be6-4543-dc1b-44264151013b"
      },
      "execution_count": null,
      "outputs": [
        {
          "output_type": "display_data",
          "data": {
            "image/png": "[encoded data removed]",
            "text/plain": [
              "<Figure size 720x576 with 1 Axes>"
            ]
          },
          "metadata": {
            "needs_background": "light"
          }
        }
      ]
    },
    {
      "cell_type": "markdown",
      "source": [
        "Podemos observar en *Distancia recorrida en cada viaje 2020* que tanto la media de los miembros y los cauales utilizan el servicio aproximadamente en 1.5km aunque la los miembros recorren distantas en un rango mas cerrado desde los 4.5km hasta un 1km a diferencia de los casuales que tienen distancias de 6km hasta 0.5km."
      ],
      "metadata": {
        "id": "Q9wqv4tiA4Bw"
      }
    },
    {
      "cell_type": "code",
      "source": [
        "fig_dims = (10, 8)\n",
        "fig, ax = plt.subplots(figsize=fig_dims)\n",
        "\n",
        "g=sns.boxplot(y ='distance [km]', x='usertype', ax=ax,  data = divvy_2020, palette='bright').set(title='Distancia recorrida en cada viaje 2020')\n",
        "plt.grid()"
      ],
      "metadata": {
        "colab": {
          "base_uri": "https://localhost:8080/",
          "height": 513
        },
        "id": "ANqy-ZL9Fqqc",
        "outputId": "4c6b3376-4694-4c64-be63-87a8c3ac0e77"
      },
      "execution_count": null,
      "outputs": [
        {
          "output_type": "display_data",
          "data": {
            "image/png": "[encoded data removed]",
            "text/plain": [
              "<Figure size 720x576 with 1 Axes>"
            ]
          },
          "metadata": {
            "needs_background": "light"
          }
        }
      ]
    },
    {
      "cell_type": "markdown",
      "source": [
        "Vemos en *Duraci{on de los viajes 2020* que en general los casuales en general tienen viajes por mayor tiempo a diferencia de los miembres, esto se traduce tambien que los miembros tienen viajes a mayor velocidad, pudidendo ser tambien que los miembros se desplazan con prisa, y los casaules tienen paseos mas recreativos."
      ],
      "metadata": {
        "id": "EJYmCr-KIHTA"
      }
    },
    {
      "cell_type": "code",
      "source": [
        "fig_dims = (10, 8)\n",
        "fig, ax = plt.subplots(figsize=fig_dims)\n",
        "g=sns.boxplot(y ='tripduration [s]', x='usertype', ax=ax,  data = divvy_2020, palette='bright', showfliers = False).set(title='Duración de los viajes 2020')\n",
        "plt.grid()"
      ],
      "metadata": {
        "colab": {
          "base_uri": "https://localhost:8080/",
          "height": 513
        },
        "id": "etN5AhfAGYQr",
        "outputId": "0a6aabc1-eb71-4830-e5ca-3c2b4094e736"
      },
      "execution_count": null,
      "outputs": [
        {
          "output_type": "display_data",
          "data": {
            "image/png": "[encoded data removed]",
            "text/plain": [
              "<Figure size 720x576 with 1 Axes>"
            ]
          },
          "metadata": {
            "needs_background": "light"
          }
        }
      ]
    },
    {
      "cell_type": "code",
      "source": [
        "fig_dims = (10, 8)\n",
        "fig, ax = plt.subplots(figsize=fig_dims)\n",
        "\n",
        "sns.boxplot(y ='speed [km/h]', x='usertype', ax=ax,  data = divvy_2020, palette='bright').set(title='Velocidad de los viajes 2020')\n",
        "plt.grid()"
      ],
      "metadata": {
        "colab": {
          "base_uri": "https://localhost:8080/",
          "height": 513
        },
        "id": "kF7LRsX-G9cg",
        "outputId": "84115b8c-e600-499d-fc48-a5b7f643b0ed"
      },
      "execution_count": null,
      "outputs": [
        {
          "output_type": "display_data",
          "data": {
            "image/png": "[encoded data removed]",
            "text/plain": [
              "<Figure size 720x576 with 1 Axes>"
            ]
          },
          "metadata": {
            "needs_background": "light"
          }
        }
      ]
    },
    {
      "cell_type": "markdown",
      "source": [
        "De igual manera en *Tipo de viaje 2020* una discrepancia de comportamiento entre, miembros y casuales. Aunque la siguiente metrica es dificil para representar el comportamiento real de la ruta de los usuarios si representa si van de un punto A a B o de un punto A a A en un circuito cerrado.\n",
        "Vemos que tanto casuales como miembros pocas veces tienen viajes en circuito cerrado, pero en comparación los casuales tienen mas viajes de este estilo debido de igual manera a su estilo mas de uso recreativo."
      ],
      "metadata": {
        "id": "9HrhvmAvPcuo"
      }
    },
    {
      "cell_type": "code",
      "source": [
        "fig_dims = (10, 8)\n",
        "fig, ax = plt.subplots(figsize=fig_dims)\n",
        "\n",
        "sns.countplot(x ='triptype', ax=ax,  data = divvy_2020, palette='bright', hue='usertype').set(title='Tipo de viaje 2020')\n",
        "plt.grid()"
      ],
      "metadata": {
        "colab": {
          "base_uri": "https://localhost:8080/",
          "height": 513
        },
        "id": "Pw0V3LDQGH9O",
        "outputId": "f3e879b5-5e8d-443e-ddfd-2a3b879a1256"
      },
      "execution_count": null,
      "outputs": [
        {
          "output_type": "display_data",
          "data": {
            "image/png": "[encoded data removed]",
            "text/plain": [
              "<Figure size 720x576 with 1 Axes>"
            ]
          },
          "metadata": {
            "needs_background": "light"
          }
        }
      ]
    },
    {
      "cell_type": "markdown",
      "source": [
        "En resumen podemos ver que tanto en el 2020 y en el 2019, los miembros y los casaules tienen comportamientos de uso un poco distintos, en el caso de los casuales tenemos un comportamiento mas enfocado a uso recreativo, sobretodos los fines de semena, en un horario mas recreativo. Aunque de igual manera los causales utilizan el servicio entre semana.\n",
        "Podriamos hacer una campañana en relacion a esto, que si ya utilizan el servicio de uso recreativo los fines de semana, como se podrian beneficiar en su salud usuando el servicio para ir al trabajo, o regalar membresas de un mes si lo usas 4 domingos algo enfocado a su comportamiento de los casuales.\n",
        "\n"
      ],
      "metadata": {
        "id": "xpx0JhG1RLeE"
      }
    },
    {
      "cell_type": "markdown",
      "source": [
        "Creo que los datos aunque son de calidad y cumplen con ROCCC creo que muestran un sesgo importante, debido a que la información esta contabilizada en numero de viajes, y no tiene una columna para relacionarla con un usuario en especifico, es decir que no podemos contar cuantas veces un usuario usa la app en un mes o seamana y en que intervalos de dias lo usa, de tal manera que no lo podemos comprar con un usuario casual. Solamente tenemos el numero de viajes agrupandose en los tipos de usuarios generales. De tal manera que un miembro obviamente usa mas la app que un casual o eso esperariamos, entonces las cifras van a estar sesgadas debido a que tenemos mas conteos, para los miembros. Y no vamos a poder identificar tendencias de uso similar entre ellos."
      ],
      "metadata": {
        "id": "gXz537seVTvL"
      }
    },
    {
      "cell_type": "markdown",
      "metadata": {
        "id": "djavBAqw2ZfO"
      },
      "source": [
        "## Compartir\n",
        "\n",
        "Tareas Clave:\n",
        "\n",
        "1. Determinar la mejor manera de compartir tus hallazgos\n",
        "2. Crear una visualización eficiente.\n",
        "3. Presentar tus hallazgos.\n",
        "4. Verificar que tu trabajo es acessible. \n",
        "\n",
        "Entregables: \n",
        "\n",
        "1. Visualizaciones de apoyo y descubrimientos clave\n",
        "\n",
        "En el siguiente [link](https://docs.google.com/presentation/d/1gSp4-14ByC3QyevfMc-XjdQH802OsS-fMRCOBEk-S_g/edit?usp=sharing) se encuentra la presentación.\n"
      ]
    },
    {
      "cell_type": "markdown",
      "metadata": {
        "id": "DKzk5eZ23T0M"
      },
      "source": [
        " ## Actuar\n",
        "\n",
        " Tareas Clave:\n",
        "\n",
        " 1. Crear el portafolio\n",
        " 2. Añadir tu caso de estudio\n",
        " 3. Practicar en presentar tu caso de estudio\n",
        "\n",
        "Entregables:\n",
        "\n",
        " 1. 3 Recomendaciones claves en fucion del analysis\n",
        "\n",
        "* Correr una campaña acerca de los diversos usos que le pueden dar al servicio para que los casuales también lo usen para el desplazamiento entre semana.\n",
        "* Promociones los fines de semana para convertir los casuales que lo utilizan en miembros\n",
        "* Correr estas campañas en meses cálidos que es cuando más usuarios utilizan el servicio\n"
      ]
    }
  ]
}